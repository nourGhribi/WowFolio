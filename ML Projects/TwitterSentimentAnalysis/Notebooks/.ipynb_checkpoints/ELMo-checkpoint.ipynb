{
 "cells": [
  {
   "cell_type": "markdown",
   "metadata": {
    "id": "06RlIxWnThr3"
   },
   "source": [
    "# Deep Learning models\n",
    "## ELMo embeddings:"
   ]
  },
  {
   "cell_type": "markdown",
   "metadata": {
    "id": "htiNBmvBwDGV"
   },
   "source": [
    "## Imports and environment configurations:"
   ]
  },
  {
   "cell_type": "markdown",
   "metadata": {},
   "source": [
    "You should run this notebook after installing all the requirements in requirements.txt `pip install -r requirements.txt` .\n",
    "\n",
    "It is to note that this notebook was run as a google colab notebook and we took advantage of the GPU offered by this service.\n",
    "In addition some magic commands like `%tensorflow_version 1.x` are only available on colab and it's the equivalent of `!pip install tensorflow==1.15.1`. (We use this version of tensorflow because of compatibility issues and stability)"
   ]
  },
  {
   "cell_type": "code",
   "execution_count": null,
   "metadata": {},
   "outputs": [],
   "source": [
    "#%tensorflow_version 1.x\n",
    "import tensorflow_hub as hub\n",
    "import tensorflow as tf\n",
    "import keras\n",
    "from keras.preprocessing.text import Tokenizer\n",
    "from keras.preprocessing.sequence import pad_sequences\n",
    "from keras.layers import Input, Lambda, Dense\n",
    "from keras.models import Model\n",
    "import keras.backend as K\n",
    "from sklearn import preprocessing"
   ]
  },
  {
   "cell_type": "code",
   "execution_count": null,
   "metadata": {
    "colab": {
     "base_uri": "https://localhost:8080/"
    },
    "executionInfo": {
     "elapsed": 6807,
     "status": "ok",
     "timestamp": 1607616226423,
     "user": {
      "displayName": "Ghribi nour",
      "photoUrl": "https://lh3.googleusercontent.com/-sF0zhzcPhXY/AAAAAAAAAAI/AAAAAAAAUw8/ANSSoVZye6o/s64/photo.jpg",
      "userId": "10556054115865158287"
     },
     "user_tz": -60
    },
    "id": "zAC3TWpaHNeJ",
    "outputId": "3bb919f1-1519-45f5-fb50-3e1182a524a5"
   },
   "outputs": [
    {
     "name": "stdout",
     "output_type": "stream",
     "text": [
      "1.15.2\n"
     ]
    }
   ],
   "source": [
    "print(tf.__version__)"
   ]
  },
  {
   "cell_type": "code",
   "execution_count": 6,
   "metadata": {
    "colab": {
     "base_uri": "https://localhost:8080/"
    },
    "executionInfo": {
     "elapsed": 96121,
     "status": "ok",
     "timestamp": 1607634493919,
     "user": {
      "displayName": "Ghribi nour",
      "photoUrl": "https://lh3.googleusercontent.com/-sF0zhzcPhXY/AAAAAAAAAAI/AAAAAAAAUw8/ANSSoVZye6o/s64/photo.jpg",
      "userId": "10556054115865158287"
     },
     "user_tz": -60
    },
    "id": "fvRpTCjh9LdI",
    "outputId": "074eb255-2fdc-46e7-b803-d1fa602a1239"
   },
   "outputs": [
    {
     "name": "stdout",
     "output_type": "stream",
     "text": [
      "Ommiting repetitions\n",
      "Translating emojis\n",
      "removing numbers\n",
      "adding <tag> for hashtags\n",
      "tokenizing\n",
      "removing pontuations\n",
      "dealing with slang words\n",
      "removing stop words\n"
     ]
    }
   ],
   "source": [
    "pos_tweets, neg_tweets, test = load_cleaned_data(full=False, stop_words=True)"
   ]
  },
  {
   "cell_type": "code",
   "execution_count": null,
   "metadata": {
    "id": "wo122KbY26EP"
   },
   "outputs": [],
   "source": [
    "train_df,test_df = create_train_test_dfs(pos_tweets, neg_tweets, test)"
   ]
  },
  {
   "cell_type": "markdown",
   "metadata": {
    "id": "jhbQt39xd7OY"
   },
   "source": [
    "## ELMo model 1.0 (Default mode: sentence):\n"
   ]
  },
  {
   "cell_type": "code",
   "execution_count": null,
   "metadata": {
    "id": "79ogYml9HNYm"
   },
   "outputs": [],
   "source": [
    "embed = hub.Module(\"https://tfhub.dev/google/elmo/3\", trainable=True)"
   ]
  },
  {
   "cell_type": "code",
   "execution_count": null,
   "metadata": {
    "id": "ABoDC3rSk578"
   },
   "outputs": [],
   "source": [
    "# for default elmo mode\n",
    "def create_sentence(x):\n",
    "    sentence = \" \".join(x)\n",
    "    return sentence"
   ]
  },
  {
   "cell_type": "code",
   "execution_count": null,
   "metadata": {
    "id": "_tXCtj29fwEi"
   },
   "outputs": [],
   "source": [
    "# for elmo tokenized mode\n",
    "def elmo_tokens(x):\n",
    "    tweet_tokenized = x\n",
    "    tokens_length = len(x)\n",
    "    embed_input = {\"tokens\": tweet_tokenized, \"sequence_len\": tokens_length}\n",
    "    return embed_input"
   ]
  },
  {
   "cell_type": "code",
   "execution_count": null,
   "metadata": {
    "id": "tiRsttbalEW0"
   },
   "outputs": [],
   "source": [
    "# Change lambda functions accordingly to elmo mode, (create sentence for default and elmo_tokens for tokenized)\n",
    "train_df['tweets'] = train_df['tweets'].apply(lambda x: create_sentence(x) )\n",
    "test_df['tweets'] = test_df['tweets'].apply(lambda x: create_sentence(x) )"
   ]
  },
  {
   "cell_type": "code",
   "execution_count": null,
   "metadata": {
    "id": "ehn6KsRJ_ziU"
   },
   "outputs": [],
   "source": [
    "X_train, y_train, X_test = train_df['tweets'].values, train_df['sign'].values, test_df['tweets'].values"
   ]
  },
  {
   "cell_type": "code",
   "execution_count": null,
   "metadata": {
    "id": "jGJSa5Pd_wWZ"
   },
   "outputs": [],
   "source": [
    "#encoding and decoding our labels\n",
    "le = preprocessing.LabelEncoder()\n",
    "le.fit(y_train)\n",
    "\n",
    "def encode(le, labels):\n",
    "    enc = le.transform(labels)\n",
    "    return keras.utils.to_categorical(enc)\n",
    "\n",
    "def decode(le, one_hot):\n",
    "    dec = np.argmax(one_hot, axis=1)\n",
    "    return le.inverse_transform(dec)\n",
    "\n",
    "X_train = X_train\n",
    "y_train = encode(le, y_train)"
   ]
  },
  {
   "cell_type": "code",
   "execution_count": null,
   "metadata": {
    "colab": {
     "base_uri": "https://localhost:8080/"
    },
    "executionInfo": {
     "elapsed": 1923,
     "status": "ok",
     "timestamp": 1607619481065,
     "user": {
      "displayName": "Ghribi nour",
      "photoUrl": "https://lh3.googleusercontent.com/-sF0zhzcPhXY/AAAAAAAAAAI/AAAAAAAAUw8/ANSSoVZye6o/s64/photo.jpg",
      "userId": "10556054115865158287"
     },
     "user_tz": -60
    },
    "id": "O5rSjKWSHN9X",
    "outputId": "8097e02a-a4c1-4c89-b840-5d2d116764c7"
   },
   "outputs": [
    {
     "name": "stdout",
     "output_type": "stream",
     "text": [
      "INFO:tensorflow:Saver not created because there are no variables in the graph to restore\n"
     ]
    },
    {
     "name": "stderr",
     "output_type": "stream",
     "text": [
      "INFO:tensorflow:Saver not created because there are no variables in the graph to restore\n"
     ]
    },
    {
     "name": "stdout",
     "output_type": "stream",
     "text": [
      "Model: \"model_27\"\n",
      "_________________________________________________________________\n",
      "Layer (type)                 Output Shape              Param #   \n",
      "=================================================================\n",
      "input_29 (InputLayer)        (None, 1)                 0         \n",
      "_________________________________________________________________\n",
      "lambda_29 (Lambda)           (None, 1024)              0         \n",
      "_________________________________________________________________\n",
      "dense_53 (Dense)             (None, 256)               262400    \n",
      "_________________________________________________________________\n",
      "dense_54 (Dense)             (None, 2)                 514       \n",
      "=================================================================\n",
      "Total params: 262,914\n",
      "Trainable params: 262,914\n",
      "Non-trainable params: 0\n",
      "_________________________________________________________________\n"
     ]
    }
   ],
   "source": [
    "#Train Keras neural model with ELMO Embeddings\n",
    "\n",
    "def ELMoEmbedding(x):\n",
    "    return embed(inputs= tf.squeeze(tf.cast(x, tf.string)),\n",
    "                                      signature=\"default\",\n",
    "                                      as_dict=True)[\"default\"]\n",
    "\n",
    "input_text = Input(shape=(1,), dtype=tf.string)\n",
    "embedding = Lambda(ELMoEmbedding, output_shape=(1024, ))(input_text)\n",
    "dense = Dense(256, activation='relu')(embedding)\n",
    "pred = Dense(2, activation='sigmoid')(dense)\n",
    "model = Model(inputs=[input_text], outputs=pred)\n",
    "model.compile(loss='binary_crossentropy', optimizer='adam', metrics=['accuracy'])\n",
    "\n",
    "model.summary()"
   ]
  },
  {
   "cell_type": "code",
   "execution_count": null,
   "metadata": {
    "colab": {
     "base_uri": "https://localhost:8080/"
    },
    "executionInfo": {
     "elapsed": 1459269,
     "status": "ok",
     "timestamp": 1607622467607,
     "user": {
      "displayName": "Ghribi nour",
      "photoUrl": "https://lh3.googleusercontent.com/-sF0zhzcPhXY/AAAAAAAAAAI/AAAAAAAAUw8/ANSSoVZye6o/s64/photo.jpg",
      "userId": "10556054115865158287"
     },
     "user_tz": -60
    },
    "id": "V8LZRHpcUReF",
    "outputId": "ff8b856c-88ff-48e2-d617-74900df28b3b"
   },
   "outputs": [
    {
     "name": "stdout",
     "output_type": "stream",
     "text": [
      "Train on 192000 samples, validate on 8000 samples\n",
      "Epoch 1/3\n",
      "192000/192000 [==============================] - 980s 5ms/step - loss: 0.4608 - accuracy: 0.7669 - val_loss: 0.4450 - val_accuracy: 0.7826\n",
      "Epoch 2/3\n",
      "192000/192000 [==============================] - 959s 5ms/step - loss: 0.4289 - accuracy: 0.7894 - val_loss: 0.4356 - val_accuracy: 0.7857\n",
      "Epoch 3/3\n",
      "192000/192000 [==============================] - 959s 5ms/step - loss: 0.4131 - accuracy: 0.7990 - val_loss: 0.4306 - val_accuracy: 0.7887\n"
     ]
    }
   ],
   "source": [
    "#fitting the model\n",
    "with tf.Session() as session:\n",
    "    K.set_session(session)\n",
    "    session.run(tf.global_variables_initializer())\n",
    "    session.run(tf.tables_initializer())\n",
    "    history = model.fit(X_train, y_train, validation_split = 0.04,  epochs=3, batch_size=120, verbose=1)\n",
    "    model.save_weights('./NN_MODELS_WEIGHTS/elmo-model_10-12-2020.h5')"
   ]
  },
  {
   "cell_type": "code",
   "execution_count": null,
   "metadata": {
    "id": "wsuDTXNfEMuz"
   },
   "outputs": [],
   "source": [
    "# predicting tweets sentiment\n",
    "with tf.Session() as session:\n",
    "    K.set_session(session)\n",
    "    session.run(tf.global_variables_initializer())\n",
    "    session.run(tf.tables_initializer())\n",
    "    model.load_weights('./NN_MODELS_WEIGHTS/elmo-model_10-12-2020.h5')  \n",
    "    predicts = model.predict(X_test, batch_size=16)\n",
    "\n",
    "y_preds = decode(le, predicts)"
   ]
  },
  {
   "cell_type": "code",
   "execution_count": null,
   "metadata": {
    "id": "fMesmeiaMDhF"
   },
   "outputs": [],
   "source": [
    "y_preds = [-1 if x == 0 else 1 for x in y_preds]"
   ]
  },
  {
   "cell_type": "code",
   "execution_count": null,
   "metadata": {},
   "outputs": [],
   "source": [
    "def create_csv_submission(y_pred, name):\n",
    "    \"\"\"\n",
    "    Creates an output file in csv format for submission to kaggle\n",
    "    Arguments: ids (event ids associated with each prediction)\n",
    "               y_pred (predicted class labels)\n",
    "               name (string name of .csv output file to be created)\n",
    "    \"\"\"\n",
    "    ids=np.arange(1,10001)\n",
    "    with open(name, 'w',newline='') as csvfile:\n",
    "        fieldnames = ['Id', 'Prediction']\n",
    "        writer = csv.DictWriter(csvfile, delimiter=\",\", fieldnames=fieldnames)\n",
    "        writer.writeheader()\n",
    "        for r1, r2 in zip(ids, y_pred):\n",
    "            writer.writerow({'Id':int(r1),'Prediction':int(r2)})"
   ]
  },
  {
   "cell_type": "code",
   "execution_count": null,
   "metadata": {
    "id": "LBMgSsXrHODF"
   },
   "outputs": [],
   "source": [
    "create_csv_submission(y_preds,\"ELMo_submission_sample_training.csv\") #0.777 Accuracy , 0.787 F1"
   ]
  },
  {
   "cell_type": "markdown",
   "metadata": {
    "id": "jhbQt39xd7OY"
   },
   "source": [
    "## ELMo model 2.0 (Tokens):\n"
   ]
  },
  {
   "cell_type": "code",
   "execution_count": 8,
   "metadata": {
    "executionInfo": {
     "elapsed": 719,
     "status": "ok",
     "timestamp": 1607685034933,
     "user": {
      "displayName": "Ghribi nour",
      "photoUrl": "https://lh3.googleusercontent.com/-sF0zhzcPhXY/AAAAAAAAAAI/AAAAAAAAUw8/ANSSoVZye6o/s64/photo.jpg",
      "userId": "10556054115865158287"
     },
     "user_tz": -60
    },
    "id": "IbN5Ni4ckk-o"
   },
   "outputs": [],
   "source": [
    "#This was used in Google Colab\n",
    "#import sys\n",
    "#sys.path.append('/content/drive/Shareddrives/Project ML/')"
   ]
  },
  {
   "cell_type": "code",
   "execution_count": 2,
   "metadata": {
    "colab": {
     "base_uri": "https://localhost:8080/"
    },
    "executionInfo": {
     "elapsed": 1710,
     "status": "ok",
     "timestamp": 1607684969283,
     "user": {
      "displayName": "Ghribi nour",
      "photoUrl": "https://lh3.googleusercontent.com/-sF0zhzcPhXY/AAAAAAAAAAI/AAAAAAAAUw8/ANSSoVZye6o/s64/photo.jpg",
      "userId": "10556054115865158287"
     },
     "user_tz": -60
    },
    "id": "VaTPzHiRkoYN",
    "outputId": "29a58592-9fec-410b-96a7-668aef00d105"
   },
   "outputs": [
    {
     "name": "stdout",
     "output_type": "stream",
     "text": [
      "TensorFlow 1.x selected.\n"
     ]
    }
   ],
   "source": [
    "#%tensorflow_version 1.x"
   ]
  },
  {
   "cell_type": "code",
   "execution_count": 3,
   "metadata": {
    "colab": {
     "base_uri": "https://localhost:8080/"
    },
    "executionInfo": {
     "elapsed": 5746,
     "status": "ok",
     "timestamp": 1607684976855,
     "user": {
      "displayName": "Ghribi nour",
      "photoUrl": "https://lh3.googleusercontent.com/-sF0zhzcPhXY/AAAAAAAAAAI/AAAAAAAAUw8/ANSSoVZye6o/s64/photo.jpg",
      "userId": "10556054115865158287"
     },
     "user_tz": -60
    },
    "id": "b4Tf-DqNeA3t",
    "outputId": "92019029-38fa-430e-8aab-50846c515c85"
   },
   "outputs": [
    {
     "name": "stderr",
     "output_type": "stream",
     "text": [
      "Using TensorFlow backend.\n"
     ]
    }
   ],
   "source": [
    "# Import our dependencies\n",
    "import os\n",
    "import re\n",
    "import numpy as np\n",
    "import pandas as pd\n",
    "import tensorflow as tf\n",
    "import tensorflow_hub as hub\n",
    "import keras.layers as layers\n",
    "from keras.engine import Layer\n",
    "from keras.layers import Input, Lambda, Dense, Concatenate, GaussianNoise, Bidirectional, LSTM , Flatten, Permute, RepeatVector\n",
    "from keras.models import Model, load_model\n",
    "import keras.backend as K\n",
    "from keras import regularizers\n",
    "\n",
    "# Initialize session\n",
    "sess = tf.Session()\n",
    "K.set_session(sess)"
   ]
  },
  {
   "cell_type": "code",
   "execution_count": 1,
   "metadata": {},
   "outputs": [],
   "source": [
    "def clean_reader(file_path):\n",
    "        x = list(open(file_path, \"r\", encoding='utf-8').readlines())\n",
    "        x = [s.strip() for s in x]\n",
    "        tweets = []\n",
    "        for elem in x:\n",
    "            if elem!='':\n",
    "                tweet=''\n",
    "                for word in elem.split(','):\n",
    "                    tweet+=word+' '\n",
    "                tweets.append(tweet)\n",
    "        return tweets"
   ]
  },
  {
   "cell_type": "code",
   "execution_count": 2,
   "metadata": {
    "executionInfo": {
     "elapsed": 5308,
     "status": "ok",
     "timestamp": 1607685050795,
     "user": {
      "displayName": "Ghribi nour",
      "photoUrl": "https://lh3.googleusercontent.com/-sF0zhzcPhXY/AAAAAAAAAAI/AAAAAAAAUw8/ANSSoVZye6o/s64/photo.jpg",
      "userId": "10556054115865158287"
     },
     "user_tz": -60
    },
    "id": "BJ-S7K4kk0j7"
   },
   "outputs": [],
   "source": [
    "x_pos = clean_reader(\"../cleaned_data/cleaned_train_pos.txt\")\n",
    "x_neg = clean_reader(\"../cleaned_data/cleaned_train_neg.txt\")"
   ]
  },
  {
   "cell_type": "code",
   "execution_count": 12,
   "metadata": {
    "colab": {
     "base_uri": "https://localhost:8080/"
    },
    "executionInfo": {
     "elapsed": 7831,
     "status": "ok",
     "timestamp": 1607685059983,
     "user": {
      "displayName": "Ghribi nour",
      "photoUrl": "https://lh3.googleusercontent.com/-sF0zhzcPhXY/AAAAAAAAAAI/AAAAAAAAUw8/ANSSoVZye6o/s64/photo.jpg",
      "userId": "10556054115865158287"
     },
     "user_tz": -60
    },
    "id": "5io8SO15eAb6",
    "outputId": "a706890c-b548-46c5-a390-af42889d2048"
   },
   "outputs": [
    {
     "name": "stdout",
     "output_type": "stream",
     "text": [
      "Found 88699 unique tokens.\n"
     ]
    }
   ],
   "source": [
    "tokenizer = Tokenizer(num_words=100000)\n",
    "\n",
    "tokenizer.fit_on_texts(x_pos)\n",
    "tokenizer.fit_on_texts(x_neg)\n",
    "\n",
    "sequences_pos = tokenizer.texts_to_sequences(x_pos)\n",
    "sequences_neg = tokenizer.texts_to_sequences(x_neg)\n",
    "\n",
    "word_index = tokenizer.word_index\n",
    "print('Found %s unique tokens.' % len(word_index))"
   ]
  },
  {
   "cell_type": "code",
   "execution_count": 13,
   "metadata": {
    "executionInfo": {
     "elapsed": 482,
     "status": "ok",
     "timestamp": 1607685060284,
     "user": {
      "displayName": "Ghribi nour",
      "photoUrl": "https://lh3.googleusercontent.com/-sF0zhzcPhXY/AAAAAAAAAAI/AAAAAAAAUw8/ANSSoVZye6o/s64/photo.jpg",
      "userId": "10556054115865158287"
     },
     "user_tz": -60
    },
    "id": "ohiObzSHhI_O"
   },
   "outputs": [],
   "source": [
    "max_pos = max(len(l) for l in sequences_pos)\n",
    "max_neg = max(len(l) for l in sequences_neg)\n",
    "max_ = max(max_pos,max_neg)"
   ]
  },
  {
   "cell_type": "code",
   "execution_count": 14,
   "metadata": {
    "executionInfo": {
     "elapsed": 4616,
     "status": "ok",
     "timestamp": 1607685065461,
     "user": {
      "displayName": "Ghribi nour",
      "photoUrl": "https://lh3.googleusercontent.com/-sF0zhzcPhXY/AAAAAAAAAAI/AAAAAAAAUw8/ANSSoVZye6o/s64/photo.jpg",
      "userId": "10556054115865158287"
     },
     "user_tz": -60
    },
    "id": "HVDVsPiheK3Y"
   },
   "outputs": [],
   "source": [
    "x_poss = list(open(\"../cleaned_data/cleaned_train_pos.txt\", \"r\", encoding='utf-8').readlines())\n",
    "x_poss = [s.strip() for s in x_poss]\n",
    "\n",
    "x_negg = list(open(\"../cleaned_data/cleaned_train_neg.txt\", \"r\", encoding='utf-8').readlines())\n",
    "x_negg = [s.strip() for s in x_negg]\n",
    "\n",
    "lengths_x_pos = []\n",
    "for elem in x_poss:\n",
    "    lengths_x_pos.append(len(elem.split(',')))\n",
    "\n",
    "lengths_x_neg = []\n",
    "for elem in x_negg:\n",
    "    lengths_x_neg.append(len(elem.split(',')))\n",
    "\n",
    "x_pos_tok = []\n",
    "for elem in x_poss:\n",
    "    x_pos_tok.append(elem.split(','))\n",
    "\n",
    "x_neg_tok = []\n",
    "for elem in x_negg:\n",
    "    x_neg_tok.append(elem.split(','))\n",
    "\n",
    "for elem in x_pos_tok:\n",
    "    while(len(elem)!=max_):\n",
    "        elem.append('')\n",
    "\n",
    "for elem in x_neg_tok:\n",
    "    while(len(elem)!=max_):\n",
    "        elem.append('')\n",
    "\n",
    "x_pos_tokenized = []\n",
    "for elem in x_pos_tok:\n",
    "    x_pos_tokenized.append(np.array(elem))\n",
    "\n",
    "x_neg_tokenized = []\n",
    "for elem in x_neg_tok:\n",
    "    x_neg_tokenized.append(np.array(elem))"
   ]
  },
  {
   "cell_type": "code",
   "execution_count": 15,
   "metadata": {
    "executionInfo": {
     "elapsed": 3920,
     "status": "ok",
     "timestamp": 1607685067894,
     "user": {
      "displayName": "Ghribi nour",
      "photoUrl": "https://lh3.googleusercontent.com/-sF0zhzcPhXY/AAAAAAAAAAI/AAAAAAAAUw8/ANSSoVZye6o/s64/photo.jpg",
      "userId": "10556054115865158287"
     },
     "user_tz": -60
    },
    "id": "x24YXfEVeV0k"
   },
   "outputs": [],
   "source": [
    "# we will load the elmo module\n",
    "elmo_module = hub.Module(\"https://tfhub.dev/google/elmo/3\", trainable=True)\n",
    "\n",
    "def ELMoEmbedding3(x):\n",
    "    lengths = K.cast(K.argmax(K.cast(K.equal(x, '--PAD--'), 'uint8')),'int32')\n",
    "    return elmo_module(inputs=dict(tokens=x, sequence_len=lengths),\n",
    "                      as_dict=True,\n",
    "                      signature='tokens',\n",
    "                      )['word_emb']"
   ]
  },
  {
   "cell_type": "code",
   "execution_count": 16,
   "metadata": {
    "colab": {
     "base_uri": "https://localhost:8080/"
    },
    "executionInfo": {
     "elapsed": 1871,
     "status": "ok",
     "timestamp": 1607685071834,
     "user": {
      "displayName": "Ghribi nour",
      "photoUrl": "https://lh3.googleusercontent.com/-sF0zhzcPhXY/AAAAAAAAAAI/AAAAAAAAUw8/ANSSoVZye6o/s64/photo.jpg",
      "userId": "10556054115865158287"
     },
     "user_tz": -60
    },
    "id": "KzflceemeYfK",
    "outputId": "70a6b34b-ca1e-4765-bc17-440bfa4d7f6e"
   },
   "outputs": [
    {
     "name": "stdout",
     "output_type": "stream",
     "text": [
      "INFO:tensorflow:Saver not created because there are no variables in the graph to restore\n"
     ]
    },
    {
     "name": "stderr",
     "output_type": "stream",
     "text": [
      "INFO:tensorflow:Saver not created because there are no variables in the graph to restore\n"
     ]
    },
    {
     "name": "stdout",
     "output_type": "stream",
     "text": [
      "WARNING:tensorflow:From /tensorflow-1.15.2/python3.6/tensorflow_core/python/ops/resource_variable_ops.py:1630: calling BaseResourceVariable.__init__ (from tensorflow.python.ops.resource_variable_ops) with constraint is deprecated and will be removed in a future version.\n",
      "Instructions for updating:\n",
      "If using Keras pass *_constraint arguments to layers.\n"
     ]
    },
    {
     "name": "stderr",
     "output_type": "stream",
     "text": [
      "WARNING:tensorflow:From /tensorflow-1.15.2/python3.6/tensorflow_core/python/ops/resource_variable_ops.py:1630: calling BaseResourceVariable.__init__ (from tensorflow.python.ops.resource_variable_ops) with constraint is deprecated and will be removed in a future version.\n",
      "Instructions for updating:\n",
      "If using Keras pass *_constraint arguments to layers.\n"
     ]
    },
    {
     "name": "stdout",
     "output_type": "stream",
     "text": [
      "WARNING:tensorflow:From /tensorflow-1.15.2/python3.6/tensorflow_core/python/ops/nn_impl.py:183: where (from tensorflow.python.ops.array_ops) is deprecated and will be removed in a future version.\n",
      "Instructions for updating:\n",
      "Use tf.where in 2.0, which has the same broadcast rule as np.where\n"
     ]
    },
    {
     "name": "stderr",
     "output_type": "stream",
     "text": [
      "WARNING:tensorflow:From /tensorflow-1.15.2/python3.6/tensorflow_core/python/ops/nn_impl.py:183: where (from tensorflow.python.ops.array_ops) is deprecated and will be removed in a future version.\n",
      "Instructions for updating:\n",
      "Use tf.where in 2.0, which has the same broadcast rule as np.where\n"
     ]
    },
    {
     "name": "stdout",
     "output_type": "stream",
     "text": [
      "Model: \"model_1\"\n",
      "_________________________________________________________________\n",
      "Layer (type)                 Output Shape              Param #   \n",
      "=================================================================\n",
      "input_1 (InputLayer)         (None, 48)                0         \n",
      "_________________________________________________________________\n",
      "lambda_1 (Lambda)            (None, 48, 512)           0         \n",
      "_________________________________________________________________\n",
      "bidirectional_1 (Bidirection (None, 48, 128)           295424    \n",
      "_________________________________________________________________\n",
      "flatten_1 (Flatten)          (None, 6144)              0         \n",
      "_________________________________________________________________\n",
      "dense_1 (Dense)              (None, 1)                 6145      \n",
      "=================================================================\n",
      "Total params: 301,569\n",
      "Trainable params: 301,569\n",
      "Non-trainable params: 0\n",
      "_________________________________________________________________\n"
     ]
    }
   ],
   "source": [
    "input_text = Input(shape=(48,) ,dtype=tf.string)\n",
    "embedding = Lambda(ELMoEmbedding3,output_shape=(48,512))(input_text)\n",
    "\n",
    "x = Bidirectional(layers.LSTM(64, return_sequences=True,bias_regularizer=regularizers.l2(1e-4),dropout=0.25))(embedding)\n",
    "\n",
    "attention = Flatten()(x)\n",
    "\n",
    "output_layer = layers.Dense(1,activation='sigmoid',bias_regularizer=regularizers.l2(1e-4))(attention)\n",
    "\n",
    "elmo_model_tokenized = Model(inputs=[input_text],outputs=output_layer)\n",
    "\n",
    "\n",
    "elmo_model_tokenized.compile(loss='binary_crossentropy', optimizer='adam', metrics=['accuracy'])\n",
    "elmo_model_tokenized.summary()\n"
   ]
  },
  {
   "cell_type": "code",
   "execution_count": 17,
   "metadata": {
    "executionInfo": {
     "elapsed": 9347,
     "status": "ok",
     "timestamp": 1607685084437,
     "user": {
      "displayName": "Ghribi nour",
      "photoUrl": "https://lh3.googleusercontent.com/-sF0zhzcPhXY/AAAAAAAAAAI/AAAAAAAAUw8/ANSSoVZye6o/s64/photo.jpg",
      "userId": "10556054115865158287"
     },
     "user_tz": -60
    },
    "id": "bCPgrPFThg20"
   },
   "outputs": [],
   "source": [
    "x_tokenized = np.asarray(x_pos_tokenized + x_neg_tokenized)\n",
    "\n",
    "y = 100000*[1] + 100000*[0]\n",
    "\n",
    "indices = np.random.permutation(x_tokenized.shape[0])\n",
    "training_idx, test_idx = indices[:180000], indices[180000:]\n",
    "\n",
    "x_tokenized_train, x_tokenized_test = np.array(x_tokenized)[training_idx,:], np.array(x_tokenized)[test_idx,:]\n",
    "y_train, y_test = np.array(y)[training_idx], np.array(y)[test_idx]"
   ]
  },
  {
   "cell_type": "code",
   "execution_count": 19,
   "metadata": {
    "colab": {
     "base_uri": "https://localhost:8080/"
    },
    "executionInfo": {
     "elapsed": 4901257,
     "status": "ok",
     "timestamp": 1607695316461,
     "user": {
      "displayName": "Ghribi nour",
      "photoUrl": "https://lh3.googleusercontent.com/-sF0zhzcPhXY/AAAAAAAAAAI/AAAAAAAAUw8/ANSSoVZye6o/s64/photo.jpg",
      "userId": "10556054115865158287"
     },
     "user_tz": -60
    },
    "id": "n-6T6upyfPCh",
    "outputId": "ef365797-4416-4259-d395-8e13fe8db276"
   },
   "outputs": [
    {
     "name": "stdout",
     "output_type": "stream",
     "text": [
      "WARNING:tensorflow:From /tensorflow-1.15.2/python3.6/keras/backend/tensorflow_backend.py:422: The name tf.global_variables is deprecated. Please use tf.compat.v1.global_variables instead.\n",
      "\n"
     ]
    },
    {
     "name": "stderr",
     "output_type": "stream",
     "text": [
      "WARNING:tensorflow:From /tensorflow-1.15.2/python3.6/keras/backend/tensorflow_backend.py:422: The name tf.global_variables is deprecated. Please use tf.compat.v1.global_variables instead.\n",
      "\n"
     ]
    },
    {
     "name": "stdout",
     "output_type": "stream",
     "text": [
      "WARNING:tensorflow:From /tensorflow-1.15.2/python3.6/keras/backend/tensorflow_backend.py:431: The name tf.is_variable_initialized is deprecated. Please use tf.compat.v1.is_variable_initialized instead.\n",
      "\n"
     ]
    },
    {
     "name": "stderr",
     "output_type": "stream",
     "text": [
      "WARNING:tensorflow:From /tensorflow-1.15.2/python3.6/keras/backend/tensorflow_backend.py:431: The name tf.is_variable_initialized is deprecated. Please use tf.compat.v1.is_variable_initialized instead.\n",
      "\n"
     ]
    },
    {
     "name": "stdout",
     "output_type": "stream",
     "text": [
      "WARNING:tensorflow:From /tensorflow-1.15.2/python3.6/keras/backend/tensorflow_backend.py:438: The name tf.variables_initializer is deprecated. Please use tf.compat.v1.variables_initializer instead.\n",
      "\n"
     ]
    },
    {
     "name": "stderr",
     "output_type": "stream",
     "text": [
      "WARNING:tensorflow:From /tensorflow-1.15.2/python3.6/keras/backend/tensorflow_backend.py:438: The name tf.variables_initializer is deprecated. Please use tf.compat.v1.variables_initializer instead.\n",
      "\n"
     ]
    },
    {
     "name": "stdout",
     "output_type": "stream",
     "text": [
      "Train on 90000 samples, validate on 10000 samples\n",
      "Epoch 1/2\n",
      "90000/90000 [==============================] - 5096s 57ms/step - loss: 0.4705 - accuracy: 0.7684 - val_loss: 0.4069 - val_accuracy: 0.8112\n",
      "Epoch 2/2\n",
      "90000/90000 [==============================] - 5088s 57ms/step - loss: 0.3885 - accuracy: 0.8236 - val_loss: 0.3875 - val_accuracy: 0.8234\n"
     ]
    },
    {
     "data": {
      "text/plain": [
       "<keras.callbacks.callbacks.History at 0x7faa44b41940>"
      ]
     },
     "execution_count": 19,
     "metadata": {
      "tags": []
     },
     "output_type": "execute_result"
    }
   ],
   "source": [
    "#training\n",
    "elmo_model_tokenized.fit(x_tokenized_train[90000:], \n",
    "                         y_train[90000:],\n",
    "                         validation_data=(x_tokenized_test[10000:], y_test[10000:]),\n",
    "                         epochs=2,\n",
    "                         batch_size=256, verbose=1)"
   ]
  },
  {
   "cell_type": "code",
   "execution_count": 20,
   "metadata": {
    "executionInfo": {
     "elapsed": 826,
     "status": "ok",
     "timestamp": 1607695386582,
     "user": {
      "displayName": "Ghribi nour",
      "photoUrl": "https://lh3.googleusercontent.com/-sF0zhzcPhXY/AAAAAAAAAAI/AAAAAAAAUw8/ANSSoVZye6o/s64/photo.jpg",
      "userId": "10556054115865158287"
     },
     "user_tz": -60
    },
    "id": "ag506E0zhbgH"
   },
   "outputs": [],
   "source": [
    "elmo_model_tokenized.save_weights('./NN_MODELS_WEIGHTS/elmo-model_tokens.h5')"
   ]
  },
  {
   "cell_type": "code",
   "execution_count": 24,
   "metadata": {
    "executionInfo": {
     "elapsed": 686,
     "status": "ok",
     "timestamp": 1607695584537,
     "user": {
      "displayName": "Ghribi nour",
      "photoUrl": "https://lh3.googleusercontent.com/-sF0zhzcPhXY/AAAAAAAAAAI/AAAAAAAAUw8/ANSSoVZye6o/s64/photo.jpg",
      "userId": "10556054115865158287"
     },
     "user_tz": -60
    },
    "id": "UWh1TH23t_yz"
   },
   "outputs": [],
   "source": [
    "tesst = list(open(\"../cleaned_data/cleaned_test_data.txt\", \"r\", encoding='utf-8').readlines())\n",
    "tesst = [s.strip() for s in tesst]\n",
    "lengths_test = []\n",
    "for elem in tesst:\n",
    "    lengths_test.append(len(elem.split(',')))\n",
    "\n",
    "x_test_tok = []\n",
    "for elem in tesst:\n",
    "    x_test_tok.append(elem.split(','))\n",
    "    \n",
    "for elem in x_test_tok:\n",
    "    while(len(elem)!=48):\n",
    "        elem.append('')\n",
    "\n",
    "x_test_tokenized = []\n",
    "for elem in x_test_tok:\n",
    "    x_test_tokenized.append(np.array(elem))\n",
    "\n",
    "x_test = clean_reader(\"../cleaned_data/cleaned_test_data.txt\")"
   ]
  },
  {
   "cell_type": "code",
   "execution_count": 28,
   "metadata": {
    "executionInfo": {
     "elapsed": 528643,
     "status": "ok",
     "timestamp": 1607696205799,
     "user": {
      "displayName": "Ghribi nour",
      "photoUrl": "https://lh3.googleusercontent.com/-sF0zhzcPhXY/AAAAAAAAAAI/AAAAAAAAUw8/ANSSoVZye6o/s64/photo.jpg",
      "userId": "10556054115865158287"
     },
     "user_tz": -60
    },
    "id": "7sqGGwG6uBMQ"
   },
   "outputs": [],
   "source": [
    "y_pred = elmo_model_tokenized.predict([x_test_tokenized])\n",
    "\n",
    "predictions = []\n",
    "for elem in y_pred:\n",
    "    if(elem[0])<0.5 : x=-1\n",
    "    else: x =1\n",
    "    predictions.append(x)"
   ]
  },
  {
   "cell_type": "code",
   "execution_count": 35,
   "metadata": {
    "executionInfo": {
     "elapsed": 672,
     "status": "ok",
     "timestamp": 1607696383661,
     "user": {
      "displayName": "Ghribi nour",
      "photoUrl": "https://lh3.googleusercontent.com/-sF0zhzcPhXY/AAAAAAAAAAI/AAAAAAAAUw8/ANSSoVZye6o/s64/photo.jpg",
      "userId": "10556054115865158287"
     },
     "user_tz": -60
    },
    "id": "R1qdGWqLK-FY"
   },
   "outputs": [],
   "source": [
    "create_csv_submission(predictions,\"ELMo_tokens_sample_training.csv\") #0.824 acc\t0.822 F-1"
   ]
  }
 ],
 "metadata": {
  "kernelspec": {
   "display_name": "Python 3",
   "language": "python",
   "name": "python3"
  },
  "language_info": {
   "codemirror_mode": {
    "name": "ipython",
    "version": 3
   },
   "file_extension": ".py",
   "mimetype": "text/x-python",
   "name": "python",
   "nbconvert_exporter": "python",
   "pygments_lexer": "ipython3",
   "version": "3.8.5"
  }
 },
 "nbformat": 4,
 "nbformat_minor": 4
}
