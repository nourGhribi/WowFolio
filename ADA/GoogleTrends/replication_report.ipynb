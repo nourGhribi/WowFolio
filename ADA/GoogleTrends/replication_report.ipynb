{
 "cells": [
  {
   "cell_type": "markdown",
   "metadata": {},
   "source": [
    "# Replication Report: Predicting the present with Google Trends (P2)\n",
    "----"
   ]
  },
  {
   "cell_type": "code",
   "execution_count": 1,
   "metadata": {},
   "outputs": [],
   "source": [
    "#Loading necessary libraries\n",
    "import numpy as np\n",
    "import pandas as pd\n",
    "import statsmodels.api as sm\n",
    "import statsmodels.formula.api as smf\n",
    "import matplotlib.pyplot as plt\n",
    "import matplotlib.dates as mdates\n",
    "from datetime import datetime\n",
    "%matplotlib inline"
   ]
  },
  {
   "cell_type": "markdown",
   "metadata": {},
   "source": [
    "---"
   ]
  },
  {
   "cell_type": "markdown",
   "metadata": {},
   "source": [
    "The data:\n",
    " * **merged_autos.csv :** Motor Vehicles and Parts Dealers dataset \n",
    "\t- *Columns :* period, sales, suvs, insurance\n",
    " * **merged_iclaims.csv :** Initial Claims for Unemployment Benefits dataset\n",
    "\t- *Columns :* index (the time), claims.sa (seasonally-adjusted), claims.nsa (non-seasonally adjusted), jobs, Welfare_Unemployment"
   ]
  },
  {
   "cell_type": "markdown",
   "metadata": {},
   "source": [
    "##### Loading the data:"
   ]
  },
  {
   "cell_type": "code",
   "execution_count": 2,
   "metadata": {},
   "outputs": [],
   "source": [
    "DATA_FOLDER = \"Data/\"\n",
    "AUTOS_DEALERS_PATH = DATA_FOLDER + \"merged_autos.csv\"\n",
    "CLAIMS_PATH = DATA_FOLDER + \"merged_iclaims.csv\""
   ]
  },
  {
   "cell_type": "markdown",
   "metadata": {},
   "source": [
    "Motor Vehicles and Parts Dealers dataset:"
   ]
  },
  {
   "cell_type": "code",
   "execution_count": 3,
   "metadata": {},
   "outputs": [],
   "source": [
    "merged_autos = pd.read_csv(AUTOS_DEALERS_PATH)"
   ]
  },
  {
   "cell_type": "code",
   "execution_count": 4,
   "metadata": {},
   "outputs": [
    {
     "data": {
      "text/plain": [
       "Period        object\n",
       "sales          int64\n",
       "suvs         float64\n",
       "insurance    float64\n",
       "dtype: object"
      ]
     },
     "execution_count": 4,
     "metadata": {},
     "output_type": "execute_result"
    }
   ],
   "source": [
    "merged_autos.dtypes"
   ]
  },
  {
   "cell_type": "code",
   "execution_count": 5,
   "metadata": {},
   "outputs": [
    {
     "data": {
      "text/plain": [
       "Period       0\n",
       "sales        0\n",
       "suvs         0\n",
       "insurance    0\n",
       "dtype: int64"
      ]
     },
     "execution_count": 5,
     "metadata": {},
     "output_type": "execute_result"
    }
   ],
   "source": [
    "# Checking if there is any missing values\n",
    "merged_autos.isnull().sum()"
   ]
  },
  {
   "cell_type": "code",
   "execution_count": 6,
   "metadata": {},
   "outputs": [
    {
     "data": {
      "text/plain": [
       "Period       datetime64[ns]\n",
       "sales                 int64\n",
       "suvs                float64\n",
       "insurance           float64\n",
       "dtype: object"
      ]
     },
     "execution_count": 6,
     "metadata": {},
     "output_type": "execute_result"
    }
   ],
   "source": [
    "#this will be the date parser we'll use to parse the period column of the data\n",
    "dateparse = lambda x: datetime.strptime(x, '%Y/%m/%d')\n",
    "merged_autos = pd.read_csv(AUTOS_DEALERS_PATH, parse_dates=['Period'], date_parser=dateparse)\n",
    "merged_autos.dtypes"
   ]
  },
  {
   "cell_type": "markdown",
   "metadata": {},
   "source": [
    "----"
   ]
  },
  {
   "cell_type": "markdown",
   "metadata": {},
   "source": [
    "# Goal:\n",
    "\n",
    "The goal is to replicate ***figure 2*** of the paper *Predicting the present with google trends*. \n",
    "\n",
    "As explained in the paper we will use a simple baseline model at first: an auto regressive model. We will improve this model as a first step using the trend data. \n",
    "\n",
    "As a second and final step we will use window forecasting to estimate the data for periods k through t-1. We will take k=17 and compare the MAEs of the models.\n",
    "\n",
    "## Baseline model:\n",
    "\n",
    "We first try to replicate the **baseline** model:\n",
    "\n",
    "We will use a simple AR-1 model:\n",
    "$$y_{t} = b_{1} y_{t-1} + b_{12} y_{t-12} + e_{t}$$ <div align=\"right\">  where $y_{t}$ is the log of the observation at time t. </div>"
   ]
  },
  {
   "cell_type": "code",
   "execution_count": 7,
   "metadata": {},
   "outputs": [],
   "source": [
    "#sales time series\n",
    "log_sales_ts = merged_autos.set_index('Period')\n",
    "freq = log_sales_ts.index.inferred_freq\n",
    "log_sales_ts.index = pd.DatetimeIndex(log_sales_ts.index, freq = freq)\n",
    "log_sales_ts['sales'] = np.log(log_sales_ts['sales'])\n",
    "log_sales_ts['lag_1'] = log_sales_ts['sales'].shift(1)\n",
    "log_sales_ts['lag_12'] = log_sales_ts['sales'].shift(12)"
   ]
  },
  {
   "cell_type": "markdown",
   "metadata": {},
   "source": [
    "From here on we'll use the log of the data `log_sales_ts` since the model we will use will take the log of the values."
   ]
  },
  {
   "cell_type": "code",
   "execution_count": 8,
   "metadata": {},
   "outputs": [
    {
     "name": "stdout",
     "output_type": "stream",
     "text": [
      "                            OLS Regression Results                            \n",
      "==============================================================================\n",
      "Dep. Variable:                  sales   R-squared:                       0.719\n",
      "Model:                            OLS   Adj. R-squared:                  0.711\n",
      "Method:                 Least Squares   F-statistic:                     97.00\n",
      "Date:                Fri, 11 Dec 2020   Prob (F-statistic):           1.20e-21\n",
      "Time:                        00:31:27   Log-Likelihood:                 89.115\n",
      "No. Observations:                  79   AIC:                            -172.2\n",
      "Df Residuals:                      76   BIC:                            -165.1\n",
      "Df Model:                           2                                         \n",
      "Covariance Type:            nonrobust                                         \n",
      "==============================================================================\n",
      "                 coef    std err          t      P>|t|      [0.025      0.975]\n",
      "------------------------------------------------------------------------------\n",
      "Intercept      0.6727      0.764      0.881      0.381      -0.848       2.193\n",
      "lag_1          0.6435      0.073      8.776      0.000       0.497       0.789\n",
      "lag_12         0.2957      0.073      4.060      0.000       0.151       0.441\n",
      "==============================================================================\n",
      "Omnibus:                        2.170   Durbin-Watson:                   1.637\n",
      "Prob(Omnibus):                  0.338   Jarque-Bera (JB):                1.649\n",
      "Skew:                          -0.074   Prob(JB):                        0.438\n",
      "Kurtosis:                       3.692   Cond. No.                     1.34e+03\n",
      "==============================================================================\n",
      "\n",
      "Notes:\n",
      "[1] Standard Errors assume that the covariance matrix of the errors is correctly specified.\n",
      "[2] The condition number is large, 1.34e+03. This might indicate that there are\n",
      "strong multicollinearity or other numerical problems.\n"
     ]
    }
   ],
   "source": [
    "# we will fit the AR model using OLS\n",
    "base_model = smf.ols(formula = \"sales ~ lag_1 + lag_12\",\n",
    "                 data=log_sales_ts).fit()\n",
    "\n",
    "# print the summary of the base model\n",
    "print(base_model.summary())"
   ]
  },
  {
   "cell_type": "markdown",
   "metadata": {},
   "source": [
    "## Improved model: AR-1 model + Google trends"
   ]
  },
  {
   "cell_type": "markdown",
   "metadata": {},
   "source": [
    "As mentioned in the paper, the experimentaions showed that Google Trends contains two categories that showed an improved in in-sample fit. \n",
    "\n",
    "These are:\n",
    "- Trucks & SUVs ( `suvs` )\n",
    "- Automotive Insurance ( `insurance`). \n",
    "\n",
    "We'll see how this improvement affects our model."
   ]
  },
  {
   "cell_type": "markdown",
   "metadata": {},
   "source": [
    "**Adding Google Trands Data:**"
   ]
  },
  {
   "cell_type": "markdown",
   "metadata": {},
   "source": [
    "This model will be an improved AR-1 model with external data (suvs and insurance):\n",
    "\n",
    "$$y_{t} = b_{1} y_{t-1} + b_{12} y_{t-12} + \\beta_{1} suvs + \\beta_{2} insurance + e_{t}$$ <div align=\"right\">  where $y_{t}$ is the log of the observation at time t. </div>"
   ]
  },
  {
   "cell_type": "code",
   "execution_count": 9,
   "metadata": {},
   "outputs": [
    {
     "name": "stdout",
     "output_type": "stream",
     "text": [
      "                            OLS Regression Results                            \n",
      "==============================================================================\n",
      "Dep. Variable:                  sales   R-squared:                       0.818\n",
      "Model:                            OLS   Adj. R-squared:                  0.808\n",
      "Method:                 Least Squares   F-statistic:                     83.08\n",
      "Date:                Fri, 11 Dec 2020   Prob (F-statistic):           1.35e-26\n",
      "Time:                        00:31:27   Log-Likelihood:                 106.31\n",
      "No. Observations:                  79   AIC:                            -202.6\n",
      "Df Residuals:                      74   BIC:                            -190.8\n",
      "Df Model:                           4                                         \n",
      "Covariance Type:            nonrobust                                         \n",
      "==============================================================================\n",
      "                 coef    std err          t      P>|t|      [0.025      0.975]\n",
      "------------------------------------------------------------------------------\n",
      "Intercept     -0.4580      0.784     -0.584      0.561      -2.021       1.105\n",
      "lag_1          0.6195      0.063      9.805      0.000       0.494       0.745\n",
      "lag_12         0.4287      0.065      6.559      0.000       0.298       0.559\n",
      "suvs           1.0572      0.167      6.336      0.000       0.725       1.390\n",
      "insurance     -0.5297      0.152     -3.483      0.001      -0.833      -0.227\n",
      "==============================================================================\n",
      "Omnibus:                        0.818   Durbin-Watson:                   1.787\n",
      "Prob(Omnibus):                  0.664   Jarque-Bera (JB):                0.441\n",
      "Skew:                          -0.168   Prob(JB):                        0.802\n",
      "Kurtosis:                       3.143   Cond. No.                     1.71e+03\n",
      "==============================================================================\n",
      "\n",
      "Notes:\n",
      "[1] Standard Errors assume that the covariance matrix of the errors is correctly specified.\n",
      "[2] The condition number is large, 1.71e+03. This might indicate that there are\n",
      "strong multicollinearity or other numerical problems.\n"
     ]
    }
   ],
   "source": [
    "# we will fit the AR model using OLS\n",
    "trend_model = smf.ols(formula = \"sales ~ lag_1 + lag_12 + suvs + insurance\",\n",
    "                 data=log_sales_ts).fit()\n",
    "\n",
    "print(trend_model.summary())"
   ]
  },
  {
   "cell_type": "markdown",
   "metadata": {},
   "source": [
    "### Out of sample forecasting, calculating the MAE and plotting:"
   ]
  },
  {
   "cell_type": "markdown",
   "metadata": {},
   "source": [
    "Now we will use rolling window forecasting, we will take k=17:"
   ]
  },
  {
   "cell_type": "code",
   "execution_count": 10,
   "metadata": {},
   "outputs": [],
   "source": [
    "# helper functions :\n",
    "\n",
    "# Mean Absolute Error (calculate_mae)\n",
    "def calculate_mae(pred, label):\n",
    "    # label is actual and pred is the prediction\n",
    "    # since the paper report all MAE in percentage we will multiply it by 100\n",
    "    return np.mean(np.abs(label - pred))*100\n",
    "\n",
    "# One-Step-ahead out of sample forecasting (window size = sample_size)\n",
    "def ols_out_of_sample_forecasts(ols_data, base_formula, trend_formula, label_name, sample_size):\n",
    "    \"\"\"\n",
    "    returns one step ahead out-of-sample predictions on ols_data using base_formula and trend_formula beginning at sample_size.\n",
    "    \n",
    "    :param ols_data (DataFrame): the data to use\n",
    "    :param base_formula (str): patsy style formula to use for OLS model\n",
    "    :param trend_formula (str): patsy style formula to use for OLS model\n",
    "    :param label_name (str): the name of the column which to predict\n",
    "    :param sample_size (int): the minimum sample_size to use. (where to start oos forecasting)\n",
    "    \n",
    "    :Returns: the base model and trends model forecasts (DataFrame) and their coressponding MAEs.\n",
    "    (base_forecasts, trends_forecasts, base_mae, trends_mae)\n",
    "    :rtype: (DataFrame, DataFrame, float, float)\n",
    "    \n",
    "    \"\"\"\n",
    "    \n",
    "    base_forecasts = np.array(ols_data[label_name][:sample_size])\n",
    "    trends_forecasts = np.array(ols_data[label_name][:sample_size])\n",
    "    \n",
    "    base_mae = 0\n",
    "    trends_mae = 0\n",
    "    \n",
    "    for s_s in range(sample_size,len(ols_data)):\n",
    "        \n",
    "        sample = ols_data[:s_s]\n",
    "        \n",
    "        #base model\n",
    "        base_model = smf.ols(base_formula, data=sample)\n",
    "        base_result = base_model.fit()\n",
    "        \n",
    "        #Google trends model\n",
    "        trends_model = smf.ols(trend_formula, data=sample)\n",
    "        trends_result = trends_model.fit()\n",
    "        \n",
    "        #forecasting\n",
    "        base_for = base_result.predict(ols_data[:s_s+1]).iloc[-1]\n",
    "        base_forecasts = np.append(base_forecasts, base_for)\n",
    "        \n",
    "        trends_for = trends_result.predict(ols_data[:s_s+1]).iloc[-1]\n",
    "        trends_forecasts = np.append(trends_forecasts, trends_for)\n",
    "        \n",
    "    #calculate MAE    \n",
    "    base_mae = calculate_mae(base_forecasts[sample_size:], ols_data[sample_size:][label_name].values )\n",
    "    trends_mae = calculate_mae(trends_forecasts[sample_size:], ols_data[sample_size:][label_name].values )\n",
    "        \n",
    "    # create dfs\n",
    "    base_forecasts = pd.DataFrame({label_name: base_forecasts}).set_index(ols_data.index)\n",
    "    trends_forecasts = pd.DataFrame({label_name: trends_forecasts}).set_index(ols_data.index)\n",
    "    \n",
    "    return base_forecasts, trends_forecasts, base_mae, trends_mae\n"
   ]
  },
  {
   "cell_type": "code",
   "execution_count": 11,
   "metadata": {},
   "outputs": [
    {
     "name": "stdout",
     "output_type": "stream",
     "text": [
      "Overall:\n",
      "The base model has an MAE : 6.34\n",
      "The google trends model has an MAE : 5.67\n",
      "We have an improvement of 10.66%\n",
      "--------------------------------------------------------------------------------\n",
      "During recession:\n",
      "The base model has an MAE : 8.87\n",
      "The google trends model has an MAE : 6.97\n",
      "We have an improvement of 21.46%\n"
     ]
    }
   ],
   "source": [
    "# we choose sample_size = k = 17, which implies the forecasts start on 2005-06-01.\n",
    "sample_size = 17\n",
    "base_pred, trends_pred, base_mae, trends_mae = ols_out_of_sample_forecasts(log_sales_ts, \n",
    "                                                                           base_formula=\"sales ~ lag_1 + lag_12\",\n",
    "                                                                           trend_formula=\"sales ~ lag_1 + lag_12 + suvs + insurance\",\n",
    "                                                                           label_name=\"sales\", \n",
    "                                                                           sample_size=sample_size)\n",
    "\n",
    "# overall\n",
    "improvement_overall = (1 - (trends_mae/base_mae)) * 100\n",
    "print(\"Overall:\")\n",
    "print(\"The base model has an MAE : {:.2f}\".format(base_mae))\n",
    "print(\"The google trends model has an MAE : {:.2f}\".format(trends_mae))\n",
    "print(\"We have an improvement of {:.2f}%\".format(improvement_overall))\n",
    "print(\"-\"*80)\n",
    "\n",
    "# during recession:\n",
    "data_re = log_sales_ts['2007-12-01':'2009-06-30']['sales'].values\n",
    "base_re = base_pred['2007-12-01':'2009-06-30']['sales'].values\n",
    "trends_re = trends_pred['2007-12-01':'2009-06-30']['sales'].values\n",
    "\n",
    "base_mae_re = calculate_mae(base_re, data_re)\n",
    "trends_mae_re = calculate_mae(trends_re, data_re)\n",
    "improvement_re = (1 - (trends_mae_re/base_mae_re)) * 100\n",
    "print(\"During recession:\")\n",
    "print(\"The base model has an MAE : {:.2f}\".format(base_mae_re))\n",
    "print(\"The google trends model has an MAE : {:.2f}\".format(trends_mae_re))\n",
    "print(\"We have an improvement of {:.2f}%\".format(improvement_re))"
   ]
  },
  {
   "cell_type": "code",
   "execution_count": 12,
   "metadata": {},
   "outputs": [
    {
     "data": {
      "image/png": "[encoded data removed]",
      "text/plain": [
       "<Figure size 1296x576 with 1 Axes>"
      ]
     },
     "metadata": {
      "needs_background": "light"
     },
     "output_type": "display_data"
    }
   ],
   "source": [
    "# Plotting the figure:\n",
    "fig, ax = plt.subplots(figsize=(18,8))\n",
    "fig.suptitle('Motor Vehicles and Parts')\n",
    "plt.grid(True)\n",
    "ax.plot(log_sales_ts[sample_size:]['sales'], label=\"Actual\")\n",
    "ax.plot(base_pred[sample_size:]['sales'], label=\"Base\")\n",
    "ax.plot(trends_pred[sample_size:]['sales'], label=\"Trends\")\n",
    "\n",
    "text = \"MAE improvement \\nOverall={overall:.2f}% \\nDuring recession={recession:.2f}%\".format(overall=improvement_overall,recession=improvement_re)\n",
    "props = dict(facecolor='white', alpha=0.5)\n",
    "ax.text(0.010, 0.2, text, transform=ax.transAxes, fontsize=16,\n",
    "        verticalalignment='top', bbox=props)\n",
    "plt.legend(loc=\"best\")\n",
    "plt.tight_layout()\n",
    "plt.show()"
   ]
  },
  {
   "cell_type": "markdown",
   "metadata": {},
   "source": [
    "---"
   ]
  },
  {
   "cell_type": "markdown",
   "metadata": {},
   "source": [
    "# Replication Report: Predicting the present with Google Trends (P4)\n",
    "----"
   ]
  },
  {
   "cell_type": "markdown",
   "metadata": {},
   "source": [
    "The data consists of:\n",
    " * **merged_iclaims.csv :** Initial Claims for Unemployment Benefits dataset\n",
    "\t- *Columns :* `index` (the time), `claims.sa` (seasonally-adjusted), `claims.nsa` (non-seasonally adjusted), `jobs`, `Welfare_Unemployment`"
   ]
  },
  {
   "cell_type": "markdown",
   "metadata": {},
   "source": [
    "##### Loading the data and preprocessing it:"
   ]
  },
  {
   "cell_type": "code",
   "execution_count": 13,
   "metadata": {},
   "outputs": [],
   "source": [
    "data = pd.read_csv(CLAIMS_PATH)"
   ]
  },
  {
   "cell_type": "code",
   "execution_count": 14,
   "metadata": {},
   "outputs": [
    {
     "data": {
      "text/plain": [
       "Index                     0\n",
       "claims.sa                 0\n",
       "claims.nsa                0\n",
       "Jobs                      0\n",
       "Welfare...Unemployment    0\n",
       "dtype: int64"
      ]
     },
     "execution_count": 14,
     "metadata": {},
     "output_type": "execute_result"
    }
   ],
   "source": [
    "# Checking if there is any missing values\n",
    "data.isnull().sum()"
   ]
  },
  {
   "cell_type": "code",
   "execution_count": 15,
   "metadata": {},
   "outputs": [
    {
     "data": {
      "text/plain": [
       "Index                      object\n",
       "claims.sa                   int64\n",
       "claims.nsa                  int64\n",
       "Jobs                      float64\n",
       "Welfare...Unemployment    float64\n",
       "dtype: object"
      ]
     },
     "execution_count": 15,
     "metadata": {},
     "output_type": "execute_result"
    }
   ],
   "source": [
    "data.dtypes"
   ]
  },
  {
   "cell_type": "code",
   "execution_count": 16,
   "metadata": {},
   "outputs": [
    {
     "data": {
      "text/plain": [
       "Index                     datetime64[ns]\n",
       "claims.sa                          int64\n",
       "claims.nsa                         int64\n",
       "Jobs                             float64\n",
       "Welfare...Unemployment           float64\n",
       "dtype: object"
      ]
     },
     "execution_count": 16,
     "metadata": {},
     "output_type": "execute_result"
    }
   ],
   "source": [
    "data['Index'] = pd.to_datetime(data['Index'])\n",
    "data.dtypes"
   ]
  },
  {
   "cell_type": "markdown",
   "metadata": {},
   "source": [
    "We will rename the columns so that we can use them in the patsy style formulas without errors"
   ]
  },
  {
   "cell_type": "code",
   "execution_count": 17,
   "metadata": {},
   "outputs": [
    {
     "data": {
      "text/html": [
       "<div>\n",
       "<style scoped>\n",
       "    .dataframe tbody tr th:only-of-type {\n",
       "        vertical-align: middle;\n",
       "    }\n",
       "\n",
       "    .dataframe tbody tr th {\n",
       "        vertical-align: top;\n",
       "    }\n",
       "\n",
       "    .dataframe thead th {\n",
       "        text-align: right;\n",
       "    }\n",
       "</style>\n",
       "<table border=\"1\" class=\"dataframe\">\n",
       "  <thead>\n",
       "    <tr style=\"text-align: right;\">\n",
       "      <th></th>\n",
       "      <th>claims_sa</th>\n",
       "      <th>claims_nsa</th>\n",
       "      <th>Jobs</th>\n",
       "      <th>Welfare_Unemployment</th>\n",
       "    </tr>\n",
       "    <tr>\n",
       "      <th>Index</th>\n",
       "      <th></th>\n",
       "      <th></th>\n",
       "      <th></th>\n",
       "      <th></th>\n",
       "    </tr>\n",
       "  </thead>\n",
       "  <tbody>\n",
       "    <tr>\n",
       "      <th>2004-01-10</th>\n",
       "      <td>354000</td>\n",
       "      <td>677897</td>\n",
       "      <td>6.066862</td>\n",
       "      <td>-7.574152</td>\n",
       "    </tr>\n",
       "    <tr>\n",
       "      <th>2004-01-17</th>\n",
       "      <td>362000</td>\n",
       "      <td>490763</td>\n",
       "      <td>-3.558773</td>\n",
       "      <td>-25.237886</td>\n",
       "    </tr>\n",
       "    <tr>\n",
       "      <th>2004-01-24</th>\n",
       "      <td>353000</td>\n",
       "      <td>382262</td>\n",
       "      <td>-6.184409</td>\n",
       "      <td>-17.401619</td>\n",
       "    </tr>\n",
       "    <tr>\n",
       "      <th>2004-01-31</th>\n",
       "      <td>376000</td>\n",
       "      <td>406298</td>\n",
       "      <td>-7.935044</td>\n",
       "      <td>-18.815352</td>\n",
       "    </tr>\n",
       "    <tr>\n",
       "      <th>2004-02-07</th>\n",
       "      <td>380000</td>\n",
       "      <td>433234</td>\n",
       "      <td>-13.310680</td>\n",
       "      <td>-24.104085</td>\n",
       "    </tr>\n",
       "  </tbody>\n",
       "</table>\n",
       "</div>"
      ],
      "text/plain": [
       "            claims_sa  claims_nsa       Jobs  Welfare_Unemployment\n",
       "Index                                                             \n",
       "2004-01-10     354000      677897   6.066862             -7.574152\n",
       "2004-01-17     362000      490763  -3.558773            -25.237886\n",
       "2004-01-24     353000      382262  -6.184409            -17.401619\n",
       "2004-01-31     376000      406298  -7.935044            -18.815352\n",
       "2004-02-07     380000      433234 -13.310680            -24.104085"
      ]
     },
     "execution_count": 17,
     "metadata": {},
     "output_type": "execute_result"
    }
   ],
   "source": [
    "data = data.rename(columns={\"claims.sa\": \"claims_sa\", \"claims.nsa\": \"claims_nsa\",\"Welfare...Unemployment\": \"Welfare_Unemployment\"}).set_index(\"Index\")\n",
    "data.head(5)"
   ]
  },
  {
   "cell_type": "markdown",
   "metadata": {},
   "source": [
    "----"
   ]
  },
  {
   "cell_type": "markdown",
   "metadata": {},
   "source": [
    "### Fitting the AR model to the data:"
   ]
  },
  {
   "cell_type": "markdown",
   "metadata": {},
   "source": [
    "As before we tried to fit an AR-1 model using the ar_model.AutoReg provided by statsmodels but faced a lot of ambiguities and erros that's why we chose to use a simple OLS model, we modeled the lag by shifting the column in question.\n",
    "\n",
    "We will use a simple AR-1 model:\n",
    "$$y_{t} = b_{1} y_{t-1} + e_{t}$$ <div align=\"right\">  where $y_{t}$ is the log of the observation at time t. </div>\n",
    "\n",
    "and then we will try and fit another model by adding the google trends data:\n",
    "\n",
    "$$y_{t} = b_{1} y_{t-1} + \\beta_{1} jobs + \\beta_{2} welfare..unemployment + e_{t}$$ <div align=\"right\">  where $y_{t}$ is the log of the observation at time t. </div>\n",
    "\n",
    "Below are the helper functions we used to replicate **Table 1** of the paper. \n",
    "\n",
    "We will use some helper functions defined for the replication of the **Figure 2** of the last milestone (P2) **above**. (`ols_out_of_sample_forecasts`)"
   ]
  },
  {
   "cell_type": "code",
   "execution_count": 18,
   "metadata": {},
   "outputs": [],
   "source": [
    "#Helper functions:\n",
    "\n",
    "# Create the metrics we will use for the data to create Table 1 (MAE and 1-Ratio)\n",
    "def create_metrics_for_period(data,df_base, df_trends, start_date, end_date, label_name):\n",
    "    \"\"\"\n",
    "    Returns the Mean Absolute Error between the data and df_base and df_trends respectively during the start_date-end_date period.\n",
    "    The DataFrames should be indexed in DatetimeIndex.\n",
    "    \n",
    "    :param data (DataFrame): the actual data. (True labels)\n",
    "    :param df_base (DataFrame): the base model data.\n",
    "    :param df_trends (DataFrame): the trends model data.\n",
    "    :param start_date (str): the start date in (YYYY-mm-dd) format\n",
    "    :param end_date (str): the end date in (YYYY-mm-dd) format\n",
    "    :param label_name: the label name on which the models worked.\n",
    "    \n",
    "    :Returns: (the base model MAE, the trends model MAE, the improvement during the period, the period)\n",
    "    :rtype: (float, float, float, str (YYYY-mm-dd YYYY-mm-dd) )\n",
    "\n",
    "    \"\"\"\n",
    "    \n",
    "    # get the corresponding data of the date range\n",
    "    base_model_re = df_base[start_date:end_date][label_name].values\n",
    "    trends_model_re = df_trends[start_date:end_date][label_name].values\n",
    "    re_data = data[start_date:end_date][label_name].values\n",
    "\n",
    "    # calculate the MAE and the improvement (1-ratio)\n",
    "    base_mae_re, trends_mae_re = calculate_mae(base_model_re, re_data) / 100, calculate_mae(trends_model_re, re_data) / 100\n",
    "    improvement = (1 - (trends_mae_re / base_mae_re)) * 100\n",
    "    \n",
    "    # return the date_range for which the metrics were calculated\n",
    "    date_range = [start_date, end_date]\n",
    "\n",
    "    return base_mae_re, trends_mae_re, improvement, date_range"
   ]
  },
  {
   "cell_type": "code",
   "execution_count": 19,
   "metadata": {},
   "outputs": [],
   "source": [
    "ols_data = data.copy()\n",
    "# data preprocessing\n",
    "ols_data['log_claims_sa'] = np.log(ols_data['claims_sa'])\n",
    "ols_data['log_claims_sa_1'] = ols_data['log_claims_sa'].shift(1)\n",
    "\n",
    "sample_size = 5\n",
    "# Out-of-sample forecasting (OLS)\n",
    "base_forecasts, trends_forecasts, base_mae, trends_mae = ols_out_of_sample_forecasts(ols_data, base_formula=\"log_claims_sa ~ log_claims_sa_1\",\n",
    "                                                                           trend_formula=\"log_claims_sa ~ log_claims_sa_1 + Jobs + Welfare_Unemployment\",\n",
    "                                                                           label_name=\"log_claims_sa\", sample_size=sample_size)"
   ]
  },
  {
   "cell_type": "code",
   "execution_count": 20,
   "metadata": {},
   "outputs": [],
   "source": [
    "r1_base_mae, r1_trends_mae, imp1, range1 = create_metrics_for_period(ols_data, base_forecasts, trends_forecasts,\n",
    "                                                             start_date='2009-03-01',end_date='2009-05-01', label_name=\"log_claims_sa\")\n",
    "\n",
    "\n",
    "r2_base_mae, r2_trends_mae, imp2, range2 = create_metrics_for_period(ols_data, base_forecasts, trends_forecasts,\n",
    "                                                             start_date='2009-12-01',end_date='2010-02-01', label_name=\"log_claims_sa\")\n",
    "\n",
    "\n",
    "r3_base_mae, r3_trends_mae, imp3, range3 = create_metrics_for_period(ols_data, base_forecasts, trends_forecasts,\n",
    "                                                             start_date='2010-07-15',end_date='2010-09-30', label_name=\"log_claims_sa\")\n",
    "\n",
    "\n",
    "r4_base_mae, r4_trends_mae, imp4, range4 = create_metrics_for_period(ols_data, base_forecasts, trends_forecasts,\n",
    "                                                             start_date='2011-01-01',end_date='2011-05-01', label_name=\"log_claims_sa\")"
   ]
  },
  {
   "cell_type": "code",
   "execution_count": 21,
   "metadata": {},
   "outputs": [
    {
     "data": {
      "text/html": [
       "<style  type=\"text/css\" >\n",
       "</style><table id=\"T_da4d71a4_3b3f_11eb_a528_784f435eb195\" ><thead>    <tr>        <th class=\"blank\" ></th>        <th class=\"blank level0\" ></th>        <th class=\"col_heading level0 col0\" >MAE base</th>        <th class=\"col_heading level0 col1\" >MAE trends</th>        <th class=\"col_heading level0 col2\" >1-ratio</th>    </tr>    <tr>        <th class=\"index_name level0\" >Start</th>        <th class=\"index_name level1\" >End</th>        <th class=\"blank\" ></th>        <th class=\"blank\" ></th>        <th class=\"blank\" ></th>    </tr></thead><tbody>\n",
       "                <tr>\n",
       "                        <th id=\"T_da4d71a4_3b3f_11eb_a528_784f435eb195level0_row0\" class=\"row_heading level0 row0\" >2009-03-01</th>\n",
       "                        <th id=\"T_da4d71a4_3b3f_11eb_a528_784f435eb195level1_row0\" class=\"row_heading level1 row0\" >2009-05-01</th>\n",
       "                        <td id=\"T_da4d71a4_3b3f_11eb_a528_784f435eb195row0_col0\" class=\"data row0 col0\" >0.0307</td>\n",
       "                        <td id=\"T_da4d71a4_3b3f_11eb_a528_784f435eb195row0_col1\" class=\"data row0 col1\" >0.02399</td>\n",
       "                        <td id=\"T_da4d71a4_3b3f_11eb_a528_784f435eb195row0_col2\" class=\"data row0 col2\" >21.86%</td>\n",
       "            </tr>\n",
       "            <tr>\n",
       "                        <th id=\"T_da4d71a4_3b3f_11eb_a528_784f435eb195level0_row1\" class=\"row_heading level0 row1\" >2009-12-01</th>\n",
       "                        <th id=\"T_da4d71a4_3b3f_11eb_a528_784f435eb195level1_row1\" class=\"row_heading level1 row1\" >2010-02-01</th>\n",
       "                        <td id=\"T_da4d71a4_3b3f_11eb_a528_784f435eb195row1_col0\" class=\"data row1 col0\" >0.0357</td>\n",
       "                        <td id=\"T_da4d71a4_3b3f_11eb_a528_784f435eb195row1_col1\" class=\"data row1 col1\" >0.03127</td>\n",
       "                        <td id=\"T_da4d71a4_3b3f_11eb_a528_784f435eb195row1_col2\" class=\"data row1 col2\" >12.36%</td>\n",
       "            </tr>\n",
       "            <tr>\n",
       "                        <th id=\"T_da4d71a4_3b3f_11eb_a528_784f435eb195level0_row2\" class=\"row_heading level0 row2\" >2010-07-15</th>\n",
       "                        <th id=\"T_da4d71a4_3b3f_11eb_a528_784f435eb195level1_row2\" class=\"row_heading level1 row2\" >2010-09-30</th>\n",
       "                        <td id=\"T_da4d71a4_3b3f_11eb_a528_784f435eb195row2_col0\" class=\"data row2 col0\" >0.0253</td>\n",
       "                        <td id=\"T_da4d71a4_3b3f_11eb_a528_784f435eb195row2_col1\" class=\"data row2 col1\" >0.02446</td>\n",
       "                        <td id=\"T_da4d71a4_3b3f_11eb_a528_784f435eb195row2_col2\" class=\"data row2 col2\" >3.22%</td>\n",
       "            </tr>\n",
       "            <tr>\n",
       "                        <th id=\"T_da4d71a4_3b3f_11eb_a528_784f435eb195level0_row3\" class=\"row_heading level0 row3\" >2011-01-01</th>\n",
       "                        <th id=\"T_da4d71a4_3b3f_11eb_a528_784f435eb195level1_row3\" class=\"row_heading level1 row3\" >2011-05-01</th>\n",
       "                        <td id=\"T_da4d71a4_3b3f_11eb_a528_784f435eb195row3_col0\" class=\"data row3 col0\" >0.0514</td>\n",
       "                        <td id=\"T_da4d71a4_3b3f_11eb_a528_784f435eb195row3_col1\" class=\"data row3 col1\" >0.05101</td>\n",
       "                        <td id=\"T_da4d71a4_3b3f_11eb_a528_784f435eb195row3_col2\" class=\"data row3 col2\" >0.66%</td>\n",
       "            </tr>\n",
       "    </tbody></table>"
      ],
      "text/plain": [
       "<pandas.io.formats.style.Styler at 0x7fabe6cce430>"
      ]
     },
     "execution_count": 21,
     "metadata": {},
     "output_type": "execute_result"
    }
   ],
   "source": [
    "ranges = np.array([range1, range2, range3, range4])\n",
    "mae_base = [r1_base_mae, r2_base_mae, r3_base_mae, r4_base_mae]\n",
    "mae_trends = [r1_trends_mae, r2_trends_mae, r3_trends_mae, r4_trends_mae]\n",
    "improvements = [imp1, imp2, imp3, imp4]\n",
    "\n",
    "\n",
    "df = pd.DataFrame({\"Start\":ranges[:,0], \"End\":ranges[:,1], \"MAE base\": mae_base, \n",
    "                   \"MAE trends\": mae_trends, \"1-ratio\": improvements}).set_index([\"Start\",\"End\"])\n",
    "\n",
    "styler = df.style.format({\"MAE base\": \"{:.4f}\", \n",
    "                  \"MAE trends\": \"{:.5f}\", \"1-ratio\": \"{:.2f}%\"})\n",
    "styler"
   ]
  },
  {
   "cell_type": "markdown",
   "metadata": {},
   "source": [
    "- The values of the last two rows are swapped in the paper. This maybe due to some error on the authors side or some typo.\n",
    "- We can see that there is a not a big difference between these results and the paper's, the only one noticeable is the rounding effect of floats. "
   ]
  },
  {
   "cell_type": "markdown",
   "metadata": {},
   "source": [
    "**Conclusions:**\n",
    "- These results combined with the previous figure show that the Google trends data can really be a good addition to certain models (AR-1 in our case) and improve its fit (Figure 2) and if not, it can be a good indicator of the turning points in timeseries as showed in the table 1."
   ]
  },
  {
   "cell_type": "markdown",
   "metadata": {},
   "source": [
    "------"
   ]
  }
 ],
 "metadata": {
  "kernelspec": {
   "display_name": "Python [conda env:ada] *",
   "language": "python",
   "name": "conda-env-ada-py"
  },
  "language_info": {
   "codemirror_mode": {
    "name": "ipython",
    "version": 3
   },
   "file_extension": ".py",
   "mimetype": "text/x-python",
   "name": "python",
   "nbconvert_exporter": "python",
   "pygments_lexer": "ipython3",
   "version": "3.8.5"
  }
 },
 "nbformat": 4,
 "nbformat_minor": 4
}
