{
 "cells": [
  {
   "cell_type": "markdown",
   "metadata": {},
   "source": [
    "# Homework 4 - More trains (Part III)\n",
    "\n",
    "__Hand-in:__\n",
    "\n",
    "- __Due: 12.05.2020 23:59:59 CET__\n",
    "- `git push` your final verion to your group's Renku repository before the due\n",
    "- check if `Dockerfile`, `environment.yml` and `requirements.txt` are properly written\n",
    "- add necessary comments and discussion to make your codes readable\n",
    "\n",
    "For this homework, you will be working with the real-time streams of the NS, the train company of the Netherlands. You can see an example webpage that uses the same streams to display the train information on a map: https://spoorkaart.mwnn.nl/ . \n",
    "\n",
    "To help you and avoid having too many connections to the NS streaming servers, we have setup a service that collects the streams and pushes them to our Kafka instance. The related topics are: \n",
    "\n",
    "`ndovloketnl-arrivals`: For each arrival of a train in a station, describe the previous and next station, time of arrival (planned and actual), track number,...\n",
    "\n",
    "`ndovloketnl-departures`: For each departure of a train from a station, describe the previous and next station, time of departure (planned and actual), track number,...\n",
    "\n",
    "`ndovloketnl-gps`: For each train, describe the current location, speed, bearing.\n",
    "\n",
    "The events are serialized in JSON (actually converted from XML), with properties in their original language. Google translate could help you understand all of them, but we will provide you with some useful mappings."
   ]
  },
  {
   "cell_type": "markdown",
   "metadata": {},
   "source": [
    "---\n",
    "## Set up environment\n",
    "\n",
    "Run the following cells below before running the other cells of this notebook. Run them whenever you need to recreate a Spark context. Pay particular attention to your `username` settings, and make sure that it is properly set to your user name, both locally and on the remote Spark Driver.\n",
    "\n",
    "Configure your spark settings:\n",
    "1. name your spark application as `\"YOUR_GASPAR_homework_4\"`.\n",
    "2. make the required kafka jars available on the remote Spark driver.\n",
    "\n",
    "<div class=\"alert alert-block alert-warning\"><b>Any application without a proper name would be promptly killed.</b></div>"
   ]
  },
  {
   "cell_type": "code",
   "execution_count": 1,
   "metadata": {},
   "outputs": [
    {
     "data": {
      "text/html": [
       "Current session configs: <tt>{'conf': {'spark.app.name': 'ahutter_homework_4', 'spark.jars.packages': 'org.apache.spark:spark-streaming-kafka-0-8_2.11:2.3.1,org.apache.kafka:kafka_2.11:1.0.1'}, 'kind': 'pyspark'}</tt><br>"
      ],
      "text/plain": [
       "<IPython.core.display.HTML object>"
      ]
     },
     "metadata": {},
     "output_type": "display_data"
    },
    {
     "data": {
      "text/html": [
       "<table>\n",
       "<tr><th>ID</th><th>YARN Application ID</th><th>Kind</th><th>State</th><th>Spark UI</th><th>Driver log</th><th>Current session?</th></tr><tr><td>4777</td><td>application_1587988164357_1412</td><td>pyspark</td><td>busy</td><td><a target=\"_blank\" href=\"http://iccluster044.iccluster.epfl.ch:8088/proxy/application_1587988164357_1412/\">Link</a></td><td><a target=\"_blank\" href=\"http://iccluster066.iccluster.epfl.ch:8042/node/containerlogs/container_e05_1587988164357_1412_01_000001/ebouille\">Link</a></td><td></td></tr><tr><td>4778</td><td>application_1587988164357_1413</td><td>pyspark</td><td>idle</td><td><a target=\"_blank\" href=\"http://iccluster044.iccluster.epfl.ch:8088/proxy/application_1587988164357_1413/\">Link</a></td><td><a target=\"_blank\" href=\"http://iccluster067.iccluster.epfl.ch:8042/node/containerlogs/container_e05_1587988164357_1413_01_000001/ebouille\">Link</a></td><td></td></tr><tr><td>4779</td><td>application_1587988164357_1414</td><td>pyspark</td><td>idle</td><td><a target=\"_blank\" href=\"http://iccluster044.iccluster.epfl.ch:8088/proxy/application_1587988164357_1414/\">Link</a></td><td><a target=\"_blank\" href=\"http://iccluster067.iccluster.epfl.ch:8042/node/containerlogs/container_e05_1587988164357_1414_01_000001/ebouille\">Link</a></td><td></td></tr><tr><td>4786</td><td>application_1587988164357_1421</td><td>pyspark</td><td>idle</td><td><a target=\"_blank\" href=\"http://iccluster044.iccluster.epfl.ch:8088/proxy/application_1587988164357_1421/\">Link</a></td><td><a target=\"_blank\" href=\"http://iccluster072.iccluster.epfl.ch:8042/node/containerlogs/container_e05_1587988164357_1421_01_000001/ebouille\">Link</a></td><td></td></tr><tr><td>4788</td><td>application_1587988164357_1423</td><td>pyspark</td><td>idle</td><td><a target=\"_blank\" href=\"http://iccluster044.iccluster.epfl.ch:8088/proxy/application_1587988164357_1423/\">Link</a></td><td><a target=\"_blank\" href=\"http://iccluster068.iccluster.epfl.ch:8042/node/containerlogs/container_e05_1587988164357_1423_01_000001/ebouille\">Link</a></td><td></td></tr><tr><td>4789</td><td>application_1587988164357_1424</td><td>pyspark</td><td>idle</td><td><a target=\"_blank\" href=\"http://iccluster044.iccluster.epfl.ch:8088/proxy/application_1587988164357_1424/\">Link</a></td><td><a target=\"_blank\" href=\"http://iccluster067.iccluster.epfl.ch:8042/node/containerlogs/container_e05_1587988164357_1424_01_000001/ebouille\">Link</a></td><td></td></tr><tr><td>4791</td><td>application_1587988164357_1426</td><td>pyspark</td><td>idle</td><td><a target=\"_blank\" href=\"http://iccluster044.iccluster.epfl.ch:8088/proxy/application_1587988164357_1426/\">Link</a></td><td><a target=\"_blank\" href=\"http://iccluster067.iccluster.epfl.ch:8042/node/containerlogs/container_e05_1587988164357_1426_01_000001/ebouille\">Link</a></td><td></td></tr><tr><td>4792</td><td>application_1587988164357_1427</td><td>pyspark</td><td>idle</td><td><a target=\"_blank\" href=\"http://iccluster044.iccluster.epfl.ch:8088/proxy/application_1587988164357_1427/\">Link</a></td><td><a target=\"_blank\" href=\"http://iccluster066.iccluster.epfl.ch:8042/node/containerlogs/container_e05_1587988164357_1427_01_000001/ebouille\">Link</a></td><td></td></tr><tr><td>4793</td><td>application_1587988164357_1428</td><td>pyspark</td><td>busy</td><td><a target=\"_blank\" href=\"http://iccluster044.iccluster.epfl.ch:8088/proxy/application_1587988164357_1428/\">Link</a></td><td><a target=\"_blank\" href=\"http://iccluster072.iccluster.epfl.ch:8042/node/containerlogs/container_e05_1587988164357_1428_01_000001/ebouille\">Link</a></td><td></td></tr><tr><td>4794</td><td>application_1587988164357_1429</td><td>pyspark</td><td>idle</td><td><a target=\"_blank\" href=\"http://iccluster044.iccluster.epfl.ch:8088/proxy/application_1587988164357_1429/\">Link</a></td><td><a target=\"_blank\" href=\"http://iccluster065.iccluster.epfl.ch:8042/node/containerlogs/container_e05_1587988164357_1429_01_000001/ebouille\">Link</a></td><td></td></tr></table>"
      ],
      "text/plain": [
       "<IPython.core.display.HTML object>"
      ]
     },
     "metadata": {},
     "output_type": "display_data"
    }
   ],
   "source": [
    "%%configure\n",
    "{\"conf\": {\n",
    "    \"spark.app.name\": \"ahutter_homework_4\",\n",
    "    \"spark.jars.packages\": \"org.apache.spark:spark-streaming-kafka-0-8_2.11:2.3.1,org.apache.kafka:kafka_2.11:1.0.1\"\n",
    "}}"
   ]
  },
  {
   "cell_type": "markdown",
   "metadata": {},
   "source": [
    "Create a new session unless one was already created above (check for `✔` in current session)"
   ]
  },
  {
   "cell_type": "code",
   "execution_count": 2,
   "metadata": {},
   "outputs": [
    {
     "name": "stdout",
     "output_type": "stream",
     "text": [
      "Starting Spark application\n"
     ]
    },
    {
     "data": {
      "text/html": [
       "<table>\n",
       "<tr><th>ID</th><th>YARN Application ID</th><th>Kind</th><th>State</th><th>Spark UI</th><th>Driver log</th><th>Current session?</th></tr><tr><td>4795</td><td>application_1587988164357_1430</td><td>pyspark</td><td>idle</td><td><a target=\"_blank\" href=\"http://iccluster044.iccluster.epfl.ch:8088/proxy/application_1587988164357_1430/\">Link</a></td><td><a target=\"_blank\" href=\"http://iccluster065.iccluster.epfl.ch:8042/node/containerlogs/container_e05_1587988164357_1430_01_000001/ebouille\">Link</a></td><td>✔</td></tr></table>"
      ],
      "text/plain": [
       "<IPython.core.display.HTML object>"
      ]
     },
     "metadata": {},
     "output_type": "display_data"
    },
    {
     "data": {
      "application/vnd.jupyter.widget-view+json": {
       "model_id": "",
       "version_major": 2,
       "version_minor": 0
      },
      "text/plain": [
       "FloatProgress(value=0.0, bar_style='info', description='Progress:', layout=Layout(height='25px', width='50%'),…"
      ]
     },
     "metadata": {},
     "output_type": "display_data"
    },
    {
     "name": "stdout",
     "output_type": "stream",
     "text": [
      "SparkSession available as 'spark'.\n"
     ]
    },
    {
     "data": {
      "application/vnd.jupyter.widget-view+json": {
       "model_id": "",
       "version_major": 2,
       "version_minor": 0
      },
      "text/plain": [
       "FloatProgress(value=0.0, bar_style='info', description='Progress:', layout=Layout(height='25px', width='50%'),…"
      ]
     },
     "metadata": {},
     "output_type": "display_data"
    }
   ],
   "source": [
    "# Initialize spark application"
   ]
  },
  {
   "cell_type": "markdown",
   "metadata": {},
   "source": [
    "Set `username` to your GASPAR both locally and on the Spark driver."
   ]
  },
  {
   "cell_type": "code",
   "execution_count": 3,
   "metadata": {},
   "outputs": [],
   "source": [
    "%%local\n",
    "import os\n",
    "username = os.environ['JUPYTERHUB_USER']"
   ]
  },
  {
   "cell_type": "code",
   "execution_count": 4,
   "metadata": {},
   "outputs": [
    {
     "data": {
      "application/vnd.jupyter.widget-view+json": {
       "model_id": "",
       "version_major": 2,
       "version_minor": 0
      },
      "text/plain": [
       "FloatProgress(value=0.0, bar_style='info', description='Progress:', layout=Layout(height='25px', width='50%'),…"
      ]
     },
     "metadata": {},
     "output_type": "display_data"
    },
    {
     "name": "stdout",
     "output_type": "stream",
     "text": [
      "Successfully passed 'username' as 'username' to Spark kernel"
     ]
    }
   ],
   "source": [
    "%%send_to_spark -i username -t str -n username"
   ]
  },
  {
   "cell_type": "code",
   "execution_count": 5,
   "metadata": {},
   "outputs": [
    {
     "data": {
      "application/vnd.jupyter.widget-view+json": {
       "model_id": "",
       "version_major": 2,
       "version_minor": 0
      },
      "text/plain": [
       "FloatProgress(value=0.0, bar_style='info', description='Progress:', layout=Layout(height='25px', width='50%'),…"
      ]
     },
     "metadata": {},
     "output_type": "display_data"
    },
    {
     "name": "stdout",
     "output_type": "stream",
     "text": [
      "'ghribi'"
     ]
    }
   ],
   "source": [
    "username"
   ]
  },
  {
   "cell_type": "markdown",
   "metadata": {},
   "source": [
    "---"
   ]
  },
  {
   "cell_type": "markdown",
   "metadata": {},
   "source": [
    "## Create a Kafka client"
   ]
  },
  {
   "cell_type": "code",
   "execution_count": 6,
   "metadata": {
    "scrolled": true
   },
   "outputs": [
    {
     "data": {
      "application/vnd.jupyter.widget-view+json": {
       "model_id": "",
       "version_major": 2,
       "version_minor": 0
      },
      "text/plain": [
       "FloatProgress(value=0.0, bar_style='info', description='Progress:', layout=Layout(height='25px', width='50%'),…"
      ]
     },
     "metadata": {},
     "output_type": "display_data"
    }
   ],
   "source": [
    "from pykafka import KafkaClient\n",
    "from pykafka.common import OffsetType\n",
    "\n",
    "ZOOKEEPER_QUORUM = 'iccluster044.iccluster.epfl.ch:2181,'\\\n",
    "                   'iccluster054.iccluster.epfl.ch:2181,'\\\n",
    "                   'iccluster059.iccluster.epfl.ch:2181'\n",
    "\n",
    "client = KafkaClient(zookeeper_hosts=ZOOKEEPER_QUORUM)"
   ]
  },
  {
   "cell_type": "markdown",
   "metadata": {},
   "source": [
    "## Streams from Kafka"
   ]
  },
  {
   "cell_type": "code",
   "execution_count": 7,
   "metadata": {
    "scrolled": true
   },
   "outputs": [
    {
     "data": {
      "application/vnd.jupyter.widget-view+json": {
       "model_id": "",
       "version_major": 2,
       "version_minor": 0
      },
      "text/plain": [
       "FloatProgress(value=0.0, bar_style='info', description='Progress:', layout=Layout(height='25px', width='50%'),…"
      ]
     },
     "metadata": {},
     "output_type": "display_data"
    },
    {
     "name": "stdout",
     "output_type": "stream",
     "text": [
      "checkpoint created at hdfs:///user/ghribi/checkpoint/"
     ]
    }
   ],
   "source": [
    "# Define the checkpoint folder\n",
    "checkpoint = 'hdfs:///user/{}/checkpoint/'.format(username)\n",
    "print('checkpoint created at hdfs:///user/{}/checkpoint/'.format(username))"
   ]
  },
  {
   "cell_type": "code",
   "execution_count": 8,
   "metadata": {
    "scrolled": true
   },
   "outputs": [
    {
     "data": {
      "application/vnd.jupyter.widget-view+json": {
       "model_id": "",
       "version_major": 2,
       "version_minor": 0
      },
      "text/plain": [
       "FloatProgress(value=0.0, bar_style='info', description='Progress:', layout=Layout(height='25px', width='50%'),…"
      ]
     },
     "metadata": {},
     "output_type": "display_data"
    }
   ],
   "source": [
    "from pyspark.streaming import StreamingContext\n",
    "from pyspark.streaming.kafka import KafkaUtils\n",
    "\n",
    "# Create a StreamingContext with two working thread and batch interval of 10 seconds.\n",
    "# Each time you stop a StreamingContext, you will need to recreate it.\n",
    "ssc = StreamingContext(sc, 10)\n",
    "ssc.checkpoint(checkpoint)\n",
    "\n",
    "group_id = 'ns-{0}'.format(username)\n",
    "\n",
    "# Input streams\n",
    "arrival_stream = KafkaUtils.createStream(ssc, ZOOKEEPER_QUORUM, group_id, { 'ndovloketnl-arrivals': 1})\n",
    "departure_stream = KafkaUtils.createStream(ssc, ZOOKEEPER_QUORUM, group_id, { 'ndovloketnl-departures': 1})"
   ]
  },
  {
   "cell_type": "markdown",
   "metadata": {},
   "source": [
    "For now, let's just print the content of the streams. Note: the output may be shown after you run `ssc.stop`."
   ]
  },
  {
   "cell_type": "code",
   "execution_count": 9,
   "metadata": {
    "scrolled": true
   },
   "outputs": [
    {
     "data": {
      "application/vnd.jupyter.widget-view+json": {
       "model_id": "",
       "version_major": 2,
       "version_minor": 0
      },
      "text/plain": [
       "FloatProgress(value=0.0, bar_style='info', description='Progress:', layout=Layout(height='25px', width='50%'),…"
      ]
     },
     "metadata": {},
     "output_type": "display_data"
    }
   ],
   "source": [
    "arrival_stream.pprint()\n",
    "departure_stream.pprint()\n",
    "\n",
    "ssc.start()\n",
    "ssc.awaitTermination(timeout=10)"
   ]
  },
  {
   "cell_type": "code",
   "execution_count": 10,
   "metadata": {
    "scrolled": true
   },
   "outputs": [
    {
     "data": {
      "application/vnd.jupyter.widget-view+json": {
       "model_id": "",
       "version_major": 2,
       "version_minor": 0
      },
      "text/plain": [
       "FloatProgress(value=0.0, bar_style='info', description='Progress:', layout=Layout(height='25px', width='50%'),…"
      ]
     },
     "metadata": {},
     "output_type": "display_data"
    },
    {
     "name": "stdout",
     "output_type": "stream",
     "text": [
      "-------------------------------------------\n",
      "Time: 2020-05-11 13:06:00\n",
      "-------------------------------------------\n",
      "(None, u'{\"ns1:PutReisInformatieBoodschapIn\": {\"@xmlns:ns1\": \"urn:ndov:cdm:trein:reisinformatie:messages:dynamischeaankomststaat:1\", \"@xmlns:ns2\": \"urn:ndov:cdm:trein:reisinformatie:data:4\", \"ns2:ReisInformatieProductDAS\": {\"@TimeStamp\": \"2020-05-10T22:51:11.540Z\", \"@Versie\": \"6.1\", \"ns2:RIPAdministratie\": {\"ns2:ReisInformatieProductID\": \"2005110051112300004\", \"ns2:AbonnementId\": \"55\", \"ns2:ReisInformatieTijdstip\": \"2020-05-10T22:54:00.000Z\"}, \"ns2:DynamischeAankomstStaat\": {\"ns2:RitId\": \"1787\", \"ns2:RitDatum\": \"2020-05-10\", \"ns2:RitStation\": {\"ns2:StationCode\": \"AML\", \"ns2:Type\": \"5\", \"ns2:KorteNaam\": \"Almelo\", \"ns2:MiddelNaam\": \"Almelo\", \"ns2:LangeNaam\": \"Almelo\", \"ns2:UICCode\": \"8400051\"}, \"ns2:TreinAankomst\": {\"ns2:TreinNummer\": \"1787\", \"ns2:TreinSoort\": {\"@Code\": \"IC\", \"#text\": \"Intercity\"}, \"ns2:TreinStatus\": \"0\", \"ns2:Vervoerder\": \"NS\", \"ns2:TreinHerkomst\": [{\"@InfoStatus\": \"Gepland\", \"ns2:StationCode\": \"GVC\", \"ns2:Type\": \"6\", \"ns2:KorteNaam\": \"Den Haag C\", \"ns2:MiddelNaam\": \"Den Haag C.\", \"ns2:LangeNaam\": \"Den Haag Centraal\", \"ns2:UICCode\": \"8400282\"}, {\"@InfoStatus\": \"Actueel\", \"ns2:StationCode\": \"GVC\", \"ns2:Type\": \"6\", \"ns2:KorteNaam\": \"Den Haag C\", \"ns2:MiddelNaam\": \"Den Haag C.\", \"ns2:LangeNaam\": \"Den Haag Centraal\", \"ns2:UICCode\": \"8400282\"}], \"ns2:PresentatieTreinHerkomst\": {\"ns2:Uitingen\": {\"ns2:Uiting\": \"Den Haag C.\"}}, \"ns2:AankomstTijd\": [{\"@InfoStatus\": \"Gepland\", \"#text\": \"2020-05-10T22:54:00.000Z\"}, {\"@InfoStatus\": \"Actueel\", \"#text\": \"2020-05-10T22:54:52.000Z\"}], \"ns2:ExacteAankomstVertraging\": \"PT52S\", \"ns2:GedempteAankomstVertraging\": \"PT0S\", \"ns2:TreinAankomstSpoor\": [{\"@InfoStatus\": \"Gepland\", \"ns2:SpoorNummer\": \"2\", \"ns2:SpoorFase\": \"b\"}, {\"@InfoStatus\": \"Actueel\", \"ns2:SpoorNummer\": \"2\", \"ns2:SpoorFase\": \"b\"}], \"ns2:PresentatieTreinAankomstSpoor\": {\"ns2:Uitingen\": {\"ns2:Uiting\": \"2b\"}}, \"ns2:VerkorteRouteHerkomst\": [{\"@InfoStatus\": \"Gepland\", \"ns2:Station\": [{\"ns2:StationCode\": \"UT\", \"ns2:Type\": \"6\", \"ns2:KorteNaam\": \"Utrecht C\", \"ns2:MiddelNaam\": \"Utrecht C.\", \"ns2:LangeNaam\": \"Utrecht Centraal\", \"ns2:UICCode\": \"8400621\"}, {\"ns2:StationCode\": \"AMF\", \"ns2:Type\": \"5\", \"ns2:KorteNaam\": \"Amersfrt C\", \"ns2:MiddelNaam\": \"Amersfoort C.\", \"ns2:LangeNaam\": \"Amersfoort Centraal\", \"ns2:UICCode\": \"8400055\"}, {\"ns2:StationCode\": \"APD\", \"ns2:Type\": \"5\", \"ns2:KorteNaam\": \"Apeldoorn\", \"ns2:MiddelNaam\": \"Apeldoorn\", \"ns2:LangeNaam\": \"Apeldoorn\", \"ns2:UICCode\": \"8400066\"}, {\"ns2:StationCode\": \"DV\", \"ns2:Type\": \"5\", \"ns2:KorteNaam\": \"Deventer\", \"ns2:MiddelNaam\": \"Deventer\", \"ns2:LangeNaam\": \"Deventer\", \"ns2:UICCode\": \"8400173\"}]}, {\"@InfoStatus\": \"Actueel\", \"ns2:Station\": [{\"ns2:StationCode\": \"UT\", \"ns2:Type\": \"6\", \"ns2:KorteNaam\": \"Utrecht C\", \"ns2:MiddelNaam\": \"Utrecht C.\", \"ns2:LangeNaam\": \"Utrecht Centraal\", \"ns2:UICCode\": \"8400621\"}, {\"ns2:StationCode\": \"AMF\", \"ns2:Type\": \"5\", \"ns2:KorteNaam\": \"Amersfrt C\", \"ns2:MiddelNaam\": \"Amersfoort C.\", \"ns2:LangeNaam\": \"Amersfoort Centraal\", \"ns2:UICCode\": \"8400055\"}, {\"ns2:StationCode\": \"APD\", \"ns2:Type\": \"5\", \"ns2:KorteNaam\": \"Apeldoorn\", \"ns2:MiddelNaam\": \"Apeldoorn\", \"ns2:LangeNaam\": \"Apeldoorn\", \"ns2:UICCode\": \"8400066\"}, {\"ns2:StationCode\": \"DV\", \"ns2:Type\": \"5\", \"ns2:KorteNaam\": \"Deventer\", \"ns2:MiddelNaam\": \"Deventer\", \"ns2:LangeNaam\": \"Deventer\", \"ns2:UICCode\": \"8400173\"}]}], \"ns2:PresentatieVerkorteRouteHerkomst\": {\"ns2:Uitingen\": {\"ns2:Uiting\": \"Utrecht C., Amersfoort C., Apeldoorn, Deventer\"}}, \"ns2:WijzigingHerkomst\": {\"ns2:WijzigingType\": \"11\"}}}}}}')\n",
      "(None, u'{\"ns1:PutReisInformatieBoodschapIn\": {\"@xmlns:ns1\": \"urn:ndov:cdm:trein:reisinformatie:messages:dynamischeaankomststaat:1\", \"@xmlns:ns2\": \"urn:ndov:cdm:trein:reisinformatie:data:4\", \"ns2:ReisInformatieProductDAS\": {\"@TimeStamp\": \"2020-05-10T22:51:11.987Z\", \"@Versie\": \"6.1\", \"ns2:RIPAdministratie\": {\"ns2:ReisInformatieProductID\": \"2005110051112500007\", \"ns2:AbonnementId\": \"55\", \"ns2:ReisInformatieTijdstip\": \"2020-05-10T22:51:00.000Z\"}, \"ns2:DynamischeAankomstStaat\": {\"ns2:RitId\": \"4895\", \"ns2:RitDatum\": \"2020-05-10\", \"ns2:RitStation\": {\"ns2:StationCode\": \"HWZB\", \"ns2:Type\": \"0\", \"ns2:KorteNaam\": \"Halfweg-Zw\", \"ns2:MiddelNaam\": \"Halfweg-Zw.\", \"ns2:LangeNaam\": \"Halfweg-Zwanenburg\", \"ns2:UICCode\": \"8400400\"}, \"ns2:TreinAankomst\": {\"ns2:TreinNummer\": \"4895\", \"ns2:TreinSoort\": {\"@Code\": \"SPR\", \"#text\": \"Sprinter\"}, \"ns2:TreinStatus\": \"5\", \"ns2:Vervoerder\": \"NS\", \"ns2:TreinHerkomst\": [{\"@InfoStatus\": \"Gepland\", \"ns2:StationCode\": \"ASD\", \"ns2:Type\": \"6\", \"ns2:KorteNaam\": \"Amsterdm C\", \"ns2:MiddelNaam\": \"Amsterdam C.\", \"ns2:LangeNaam\": \"Amsterdam Centraal\", \"ns2:UICCode\": \"8400058\"}, {\"@InfoStatus\": \"Actueel\", \"ns2:StationCode\": \"ASD\", \"ns2:Type\": \"6\", \"ns2:KorteNaam\": \"Amsterdm C\", \"ns2:MiddelNaam\": \"Amsterdam C.\", \"ns2:LangeNaam\": \"Amsterdam Centraal\", \"ns2:UICCode\": \"8400058\"}], \"ns2:PresentatieTreinHerkomst\": {\"ns2:Uitingen\": {\"ns2:Uiting\": \"Amsterdam C.\"}}, \"ns2:AankomstTijd\": [{\"@InfoStatus\": \"Gepland\", \"#text\": \"2020-05-10T22:51:00.000Z\"}, {\"@InfoStatus\": \"Actueel\", \"#text\": \"2020-05-10T22:51:00.000Z\"}], \"ns2:ExacteAankomstVertraging\": \"PT0S\", \"ns2:GedempteAankomstVertraging\": \"PT0S\", \"ns2:TreinAankomstSpoor\": [{\"@InfoStatus\": \"Gepland\", \"ns2:SpoorNummer\": \"2\"}, {\"@InfoStatus\": \"Actueel\", \"ns2:SpoorNummer\": \"2\"}], \"ns2:PresentatieTreinAankomstSpoor\": {\"ns2:Uitingen\": {\"ns2:Uiting\": \"2\"}}, \"ns2:VerkorteRouteHerkomst\": [{\"@InfoStatus\": \"Gepland\", \"ns2:Station\": {\"ns2:StationCode\": \"ASS\", \"ns2:Type\": \"5\", \"ns2:KorteNaam\": \"Sloterdijk\", \"ns2:MiddelNaam\": \"Sloterdijk\", \"ns2:LangeNaam\": \"Amsterdam Sloterdijk\", \"ns2:UICCode\": \"8400059\"}}, {\"@InfoStatus\": \"Actueel\", \"ns2:Station\": {\"ns2:StationCode\": \"ASS\", \"ns2:Type\": \"5\", \"ns2:KorteNaam\": \"Sloterdijk\", \"ns2:MiddelNaam\": \"Sloterdijk\", \"ns2:LangeNaam\": \"Amsterdam Sloterdijk\", \"ns2:UICCode\": \"8400059\"}}], \"ns2:PresentatieVerkorteRouteHerkomst\": {\"ns2:Uitingen\": {\"ns2:Uiting\": \"Sloterdijk\"}}, \"ns2:WijzigingHerkomst\": {\"ns2:WijzigingType\": \"40\"}}}}}}')\n",
      "(None, u'{\"ns1:PutReisInformatieBoodschapIn\": {\"@xmlns:ns1\": \"urn:ndov:cdm:trein:reisinformatie:messages:dynamischeaankomststaat:1\", \"@xmlns:ns2\": \"urn:ndov:cdm:trein:reisinformatie:data:4\", \"ns2:ReisInformatieProductDAS\": {\"@TimeStamp\": \"2020-05-10T22:51:11.989Z\", \"@Versie\": \"6.1\", \"ns2:RIPAdministratie\": {\"ns2:ReisInformatieProductID\": \"2005110051112500008\", \"ns2:AbonnementId\": \"55\", \"ns2:ReisInformatieTijdstip\": \"2020-05-10T22:48:00.000Z\"}, \"ns2:DynamischeAankomstStaat\": {\"ns2:RitId\": \"5586\", \"ns2:RitDatum\": \"2020-05-10\", \"ns2:RitStation\": {\"ns2:StationCode\": \"UTO\", \"ns2:Type\": \"1\", \"ns2:KorteNaam\": \"Overvecht\", \"ns2:MiddelNaam\": \"Overvecht\", \"ns2:LangeNaam\": \"Utrecht Overvecht\", \"ns2:UICCode\": \"8400620\"}, \"ns2:TreinAankomst\": {\"ns2:TreinNummer\": \"5586\", \"ns2:TreinSoort\": {\"@Code\": \"SPR\", \"#text\": \"Sprinter\"}, \"ns2:TreinStatus\": \"5\", \"ns2:Vervoerder\": \"NS\", \"ns2:TreinHerkomst\": [{\"@InfoStatus\": \"Gepland\", \"ns2:StationCode\": \"BRN\", \"ns2:Type\": \"1\", \"ns2:KorteNaam\": \"Baarn\", \"ns2:MiddelNaam\": \"Baarn\", \"ns2:LangeNaam\": \"Baarn\", \"ns2:UICCode\": \"8400086\"}, {\"@InfoStatus\": \"Actueel\", \"ns2:StationCode\": \"BRN\", \"ns2:Type\": \"1\", \"ns2:KorteNaam\": \"Baarn\", \"ns2:MiddelNaam\": \"Baarn\", \"ns2:LangeNaam\": \"Baarn\", \"ns2:UICCode\": \"8400086\"}], \"ns2:PresentatieTreinHerkomst\": {\"ns2:Uitingen\": {\"ns2:Uiting\": \"Baarn\"}}, \"ns2:AankomstTijd\": [{\"@InfoStatus\": \"Gepland\", \"#text\": \"2020-05-10T22:48:00.000Z\"}, {\"@InfoStatus\": \"Actueel\", \"#text\": \"2020-05-10T22:48:00.000Z\"}], \"ns2:ExacteAankomstVertraging\": \"PT0S\", \"ns2:GedempteAankomstVertraging\": \"PT0S\", \"ns2:TreinAankomstSpoor\": [{\"@InfoStatus\": \"Gepland\", \"ns2:SpoorNummer\": \"3\"}, {\"@InfoStatus\": \"Actueel\", \"ns2:SpoorNummer\": \"3\"}], \"ns2:PresentatieTreinAankomstSpoor\": {\"ns2:Uitingen\": {\"ns2:Uiting\": \"3\"}}, \"ns2:VerkorteRouteHerkomst\": [{\"@InfoStatus\": \"Gepland\", \"ns2:Station\": [{\"ns2:StationCode\": \"ST\", \"ns2:Type\": \"1\", \"ns2:KorteNaam\": \"Soest\", \"ns2:MiddelNaam\": \"Soest\", \"ns2:LangeNaam\": \"Soest\", \"ns2:UICCode\": \"8400567\"}, {\"ns2:StationCode\": \"DLD\", \"ns2:Type\": \"1\", \"ns2:KorteNaam\": \"Den Dolder\", \"ns2:MiddelNaam\": \"Den Dolder\", \"ns2:LangeNaam\": \"Den Dolder\", \"ns2:UICCode\": \"8400179\"}]}, {\"@InfoStatus\": \"Actueel\", \"ns2:Station\": [{\"ns2:StationCode\": \"ST\", \"ns2:Type\": \"1\", \"ns2:KorteNaam\": \"Soest\", \"ns2:MiddelNaam\": \"Soest\", \"ns2:LangeNaam\": \"Soest\", \"ns2:UICCode\": \"8400567\"}, {\"ns2:StationCode\": \"DLD\", \"ns2:Type\": \"1\", \"ns2:KorteNaam\": \"Den Dolder\", \"ns2:MiddelNaam\": \"Den Dolder\", \"ns2:LangeNaam\": \"Den Dolder\", \"ns2:UICCode\": \"8400179\"}]}], \"ns2:PresentatieVerkorteRouteHerkomst\": {\"ns2:Uitingen\": {\"ns2:Uiting\": \"Soest, Den Dolder\"}}, \"ns2:WijzigingHerkomst\": {\"ns2:WijzigingType\": \"40\"}}}}}}')\n",
      "(None, u'{\"ns1:PutReisInformatieBoodschapIn\": {\"@xmlns:ns1\": \"urn:ndov:cdm:trein:reisinformatie:messages:dynamischeaankomststaat:1\", \"@xmlns:ns2\": \"urn:ndov:cdm:trein:reisinformatie:data:4\", \"ns2:ReisInformatieProductDAS\": {\"@TimeStamp\": \"2020-05-10T22:51:11.992Z\", \"@Versie\": \"6.1\", \"ns2:RIPAdministratie\": {\"ns2:ReisInformatieProductID\": \"2005110051112500009\", \"ns2:AbonnementId\": \"55\", \"ns2:ReisInformatieTijdstip\": \"2020-05-10T22:50:00.000Z\"}, \"ns2:DynamischeAankomstStaat\": {\"ns2:RitId\": \"7291\", \"ns2:RitDatum\": \"2020-05-10\", \"ns2:RitStation\": {\"ns2:StationCode\": \"LDM\", \"ns2:Type\": \"0\", \"ns2:KorteNaam\": \"Leerdam\", \"ns2:MiddelNaam\": \"Leerdam\", \"ns2:LangeNaam\": \"Leerdam\", \"ns2:UICCode\": \"8400386\"}, \"ns2:TreinAankomst\": {\"ns2:TreinNummer\": \"7291\", \"ns2:TreinSoort\": {\"@Code\": \"ST\", \"#text\": \"Stoptrein\"}, \"ns2:TreinStatus\": \"5\", \"ns2:Vervoerder\": \"R-net\", \"ns2:TreinHerkomst\": [{\"@InfoStatus\": \"Gepland\", \"ns2:StationCode\": \"DDR\", \"ns2:Type\": \"5\", \"ns2:KorteNaam\": \"Dordrecht\", \"ns2:MiddelNaam\": \"Dordrecht\", \"ns2:LangeNaam\": \"Dordrecht\", \"ns2:UICCode\": \"8400180\"}, {\"@InfoStatus\": \"Actueel\", \"ns2:StationCode\": \"DDR\", \"ns2:Type\": \"5\", \"ns2:KorteNaam\": \"Dordrecht\", \"ns2:MiddelNaam\": \"Dordrecht\", \"ns2:LangeNaam\": \"Dordrecht\", \"ns2:UICCode\": \"8400180\"}], \"ns2:PresentatieTreinHerkomst\": {\"ns2:Uitingen\": {\"ns2:Uiting\": \"Dordrecht\"}}, \"ns2:AankomstTijd\": [{\"@InfoStatus\": \"Gepland\", \"#text\": \"2020-05-10T22:50:00.000Z\"}, {\"@InfoStatus\": \"Actueel\", \"#text\": \"2020-05-10T22:50:00.000Z\"}], \"ns2:ExacteAankomstVertraging\": \"PT0S\", \"ns2:GedempteAankomstVertraging\": \"PT0S\", \"ns2:TreinAankomstSpoor\": [{\"@InfoStatus\": \"Gepland\", \"ns2:SpoorNummer\": \"1\"}, {\"@InfoStatus\": \"Actueel\", \"ns2:SpoorNummer\": \"1\"}], \"ns2:PresentatieTreinAankomstSpoor\": {\"ns2:Uitingen\": {\"ns2:Uiting\": \"1\"}}, \"ns2:VerkorteRouteHerkomst\": [{\"@InfoStatus\": \"Gepland\", \"ns2:Station\": {\"ns2:StationCode\": \"GR\", \"ns2:Type\": \"1\", \"ns2:KorteNaam\": \"Gorinchem\", \"ns2:MiddelNaam\": \"Gorinchem\", \"ns2:LangeNaam\": \"Gorinchem\", \"ns2:UICCode\": \"8400256\"}}, {\"@InfoStatus\": \"Actueel\", \"ns2:Station\": {\"ns2:StationCode\": \"GR\", \"ns2:Type\": \"1\", \"ns2:KorteNaam\": \"Gorinchem\", \"ns2:MiddelNaam\": \"Gorinchem\", \"ns2:LangeNaam\": \"Gorinchem\", \"ns2:UICCode\": \"8400256\"}}], \"ns2:PresentatieVerkorteRouteHerkomst\": {\"ns2:Uitingen\": {\"ns2:Uiting\": \"Gorinchem\"}}, \"ns2:WijzigingHerkomst\": {\"ns2:WijzigingType\": \"40\"}}}}}}')\n",
      "(None, u'{\"ns1:PutReisInformatieBoodschapIn\": {\"@xmlns:ns1\": \"urn:ndov:cdm:trein:reisinformatie:messages:dynamischeaankomststaat:1\", \"@xmlns:ns2\": \"urn:ndov:cdm:trein:reisinformatie:data:4\", \"ns2:ReisInformatieProductDAS\": {\"@TimeStamp\": \"2020-05-10T22:51:18.828Z\", \"@Versie\": \"6.1\", \"ns2:RIPAdministratie\": {\"ns2:ReisInformatieProductID\": \"2005110051182500005\", \"ns2:AbonnementId\": \"55\", \"ns2:ReisInformatieTijdstip\": \"2020-05-10T22:52:00.000Z\"}, \"ns2:DynamischeAankomstStaat\": {\"ns2:RitId\": \"703082\", \"ns2:RitDatum\": \"2020-05-10\", \"ns2:RitStation\": {\"ns2:StationCode\": \"AMRN\", \"ns2:Type\": \"0\", \"ns2:KorteNaam\": \"Alkmaar N\", \"ns2:MiddelNaam\": \"Alkmaar N.\", \"ns2:LangeNaam\": \"Alkmaar Noord\", \"ns2:UICCode\": \"8400052\"}, \"ns2:TreinAankomst\": {\"ns2:TreinNummer\": \"703082\", \"ns2:TreinSoort\": {\"@Code\": \"IC\", \"#text\": \"Intercity\"}, \"ns2:TreinStatus\": \"2\", \"ns2:Vervoerder\": \"NS\", \"ns2:TreinHerkomst\": [{\"@InfoStatus\": \"Gepland\", \"ns2:StationCode\": \"AMR\", \"ns2:Type\": \"5\", \"ns2:KorteNaam\": \"Alkmaar\", \"ns2:MiddelNaam\": \"Alkmaar\", \"ns2:LangeNaam\": \"Alkmaar\", \"ns2:UICCode\": \"8400050\"}, {\"@InfoStatus\": \"Actueel\", \"ns2:StationCode\": \"AMR\", \"ns2:Type\": \"5\", \"ns2:KorteNaam\": \"Alkmaar\", \"ns2:MiddelNaam\": \"Alkmaar\", \"ns2:LangeNaam\": \"Alkmaar\", \"ns2:UICCode\": \"8400050\"}], \"ns2:PresentatieTreinHerkomst\": {\"ns2:Uitingen\": {\"ns2:Uiting\": \"Alkmaar\"}}, \"ns2:AankomstTijd\": [{\"@InfoStatus\": \"Gepland\", \"#text\": \"2020-05-10T22:52:00.000Z\"}, {\"@InfoStatus\": \"Actueel\", \"#text\": \"2020-05-10T22:52:00.000Z\"}], \"ns2:ExacteAankomstVertraging\": \"PT0S\", \"ns2:GedempteAankomstVertraging\": \"PT0S\", \"ns2:TreinAankomstSpoor\": [{\"@InfoStatus\": \"Gepland\", \"ns2:SpoorNummer\": \"2\"}, {\"@InfoStatus\": \"Actueel\", \"ns2:SpoorNummer\": \"2\"}], \"ns2:PresentatieTreinAankomstSpoor\": {\"ns2:Uitingen\": {\"ns2:Uiting\": \"2\"}}, \"ns2:WijzigingHerkomst\": {\"ns2:WijzigingType\": \"40\"}}}}}}')\n",
      "(None, u'{\"ns1:PutReisInformatieBoodschapIn\": {\"@xmlns:ns1\": \"urn:ndov:cdm:trein:reisinformatie:messages:dynamischeaankomststaat:1\", \"@xmlns:ns2\": \"urn:ndov:cdm:trein:reisinformatie:data:4\", \"ns2:ReisInformatieProductDAS\": {\"@TimeStamp\": \"2020-05-10T22:51:18.828Z\", \"@Versie\": \"6.1\", \"ns2:RIPAdministratie\": {\"ns2:ReisInformatieProductID\": \"2005110051182500004\", \"ns2:AbonnementId\": \"55\", \"ns2:ReisInformatieTijdstip\": \"2020-05-10T22:50:00.000Z\"}, \"ns2:DynamischeAankomstStaat\": {\"ns2:RitId\": \"14686\", \"ns2:RitDatum\": \"2020-05-10\", \"ns2:RitStation\": {\"ns2:StationCode\": \"WP\", \"ns2:Type\": \"1\", \"ns2:KorteNaam\": \"Weesp\", \"ns2:MiddelNaam\": \"Weesp\", \"ns2:LangeNaam\": \"Weesp\", \"ns2:UICCode\": \"8400685\"}, \"ns2:TreinAankomst\": {\"ns2:TreinNummer\": \"14686\", \"ns2:TreinSoort\": {\"@Code\": \"SPR\", \"#text\": \"Sprinter\"}, \"ns2:TreinStatus\": \"5\", \"ns2:Vervoerder\": \"NS\", \"ns2:TreinHerkomst\": [{\"@InfoStatus\": \"Gepland\", \"ns2:StationCode\": \"ZL\", \"ns2:Type\": \"5\", \"ns2:KorteNaam\": \"Zwolle\", \"ns2:MiddelNaam\": \"Zwolle\", \"ns2:LangeNaam\": \"Zwolle\", \"ns2:UICCode\": \"8400747\"}, {\"@InfoStatus\": \"Actueel\", \"ns2:StationCode\": \"LLS\", \"ns2:Type\": \"5\", \"ns2:KorteNaam\": \"Lelystad C\", \"ns2:MiddelNaam\": \"Lelystad C.\", \"ns2:LangeNaam\": \"Lelystad Centrum\", \"ns2:UICCode\": \"8400394\"}], \"ns2:PresentatieTreinHerkomst\": {\"ns2:Uitingen\": {\"ns2:Uiting\": \"Zwolle\"}}, \"ns2:AankomstTijd\": [{\"@InfoStatus\": \"Gepland\", \"#text\": \"2020-05-10T22:50:00.000Z\"}, {\"@InfoStatus\": \"Actueel\", \"#text\": \"2020-05-10T22:50:00.000Z\"}], \"ns2:ExacteAankomstVertraging\": \"PT0S\", \"ns2:GedempteAankomstVertraging\": \"PT0S\", \"ns2:TreinAankomstSpoor\": [{\"@InfoStatus\": \"Gepland\", \"ns2:SpoorNummer\": \"6\"}, {\"@InfoStatus\": \"Actueel\", \"ns2:SpoorNummer\": \"6\"}], \"ns2:PresentatieTreinAankomstSpoor\": {\"ns2:Uitingen\": {\"ns2:Uiting\": \"6\"}}, \"ns2:VerkorteRouteHerkomst\": [{\"@InfoStatus\": \"Gepland\", \"ns2:Station\": [{\"ns2:StationCode\": \"LLS\", \"ns2:Type\": \"5\", \"ns2:KorteNaam\": \"Lelystad C\", \"ns2:MiddelNaam\": \"Lelystad C.\", \"ns2:LangeNaam\": \"Lelystad Centrum\", \"ns2:UICCode\": \"8400394\"}, {\"ns2:StationCode\": \"ALM\", \"ns2:Type\": \"5\", \"ns2:KorteNaam\": \"Almere C\", \"ns2:MiddelNaam\": \"Almere C.\", \"ns2:LangeNaam\": \"Almere Centrum\", \"ns2:UICCode\": \"8400080\"}]}, {\"@InfoStatus\": \"Actueel\", \"ns2:Station\": {\"ns2:StationCode\": \"ALM\", \"ns2:Type\": \"5\", \"ns2:KorteNaam\": \"Almere C\", \"ns2:MiddelNaam\": \"Almere C.\", \"ns2:LangeNaam\": \"Almere Centrum\", \"ns2:UICCode\": \"8400080\"}}], \"ns2:PresentatieVerkorteRouteHerkomst\": {\"ns2:Uitingen\": {\"ns2:Uiting\": \"Almere C.\"}}, \"ns2:WijzigingHerkomst\": [{\"ns2:WijzigingType\": \"36\", \"ns2:WijzigingOorzaakKort\": \"defecte trein\", \"ns2:WijzigingOorzaakLang\": \"door een defecte trein\", \"ns2:WijzigingStationHerkomst\": {\"ns2:StationCode\": \"LLS\", \"ns2:Type\": \"5\", \"ns2:KorteNaam\": \"Lelystad C\", \"ns2:MiddelNaam\": \"Lelystad C.\", \"ns2:LangeNaam\": \"Lelystad Centrum\", \"ns2:UICCode\": \"8400394\"}, \"ns2:PresentatieWijzigingHerkomst\": {\"ns2:Uitingen\": [{\"@Taal\": \"nl\", \"ns2:Uiting\": {\"@Prioriteit\": \"64\", \"#text\": \"Vandaag afkomstig uit Lelystad C. door een defecte trein\"}}, {\"@Taal\": \"en\", \"ns2:Uiting\": {\"@Prioriteit\": \"64\", \"#text\": \"Arriving from Lelystad C. today\"}}]}}, {\"ns2:WijzigingType\": \"40\"}]}, \"ns2:PresentatieOpmerkingen\": {\"ns2:Uitingen\": [{\"@Taal\": \"nl\", \"ns2:Uiting\": {\"@Prioriteit\": \"64\", \"@ReferentieType\": \"Wijziging\", \"@ReferentieWaarde\": \"36\", \"#text\": \"Vandaag afkomstig uit Lelystad C. door een defecte trein\"}}, {\"@Taal\": \"en\", \"ns2:Uiting\": {\"@Prioriteit\": \"64\", \"@ReferentieType\": \"Wijziging\", \"@ReferentieWaarde\": \"36\", \"#text\": \"Arriving from Lelystad C. today\"}}]}}}}}')\n",
      "(None, u'{\"ns1:PutReisInformatieBoodschapIn\": {\"@xmlns:ns1\": \"urn:ndov:cdm:trein:reisinformatie:messages:dynamischeaankomststaat:1\", \"@xmlns:ns2\": \"urn:ndov:cdm:trein:reisinformatie:data:4\", \"ns2:ReisInformatieProductDAS\": {\"@TimeStamp\": \"2020-05-10T22:51:22.536Z\", \"@Versie\": \"6.1\", \"ns2:RIPAdministratie\": {\"ns2:ReisInformatieProductID\": \"2005110051222200003\", \"ns2:AbonnementId\": \"55\", \"ns2:ReisInformatieTijdstip\": \"2020-05-10T22:50:00.000Z\"}, \"ns2:DynamischeAankomstStaat\": {\"ns2:RitId\": \"4391\", \"ns2:RitDatum\": \"2020-05-10\", \"ns2:RitStation\": {\"ns2:StationCode\": \"WP\", \"ns2:Type\": \"1\", \"ns2:KorteNaam\": \"Weesp\", \"ns2:MiddelNaam\": \"Weesp\", \"ns2:LangeNaam\": \"Weesp\", \"ns2:UICCode\": \"8400685\"}, \"ns2:TreinAankomst\": {\"ns2:TreinNummer\": \"4391\", \"ns2:TreinSoort\": {\"@Code\": \"SPR\", \"#text\": \"Sprinter\"}, \"ns2:TreinStatus\": \"2\", \"ns2:Vervoerder\": \"NS\", \"ns2:TreinHerkomst\": [{\"@InfoStatus\": \"Gepland\", \"ns2:StationCode\": \"HFD\", \"ns2:Type\": \"0\", \"ns2:KorteNaam\": \"Hoofddorp\", \"ns2:MiddelNaam\": \"Hoofddorp\", \"ns2:LangeNaam\": \"Hoofddorp\", \"ns2:UICCode\": \"8400332\"}, {\"@InfoStatus\": \"Actueel\", \"ns2:StationCode\": \"HFD\", \"ns2:Type\": \"0\", \"ns2:KorteNaam\": \"Hoofddorp\", \"ns2:MiddelNaam\": \"Hoofddorp\", \"ns2:LangeNaam\": \"Hoofddorp\", \"ns2:UICCode\": \"8400332\"}], \"ns2:PresentatieTreinHerkomst\": {\"ns2:Uitingen\": {\"ns2:Uiting\": \"Hoofddorp\"}}, \"ns2:AankomstTijd\": [{\"@InfoStatus\": \"Gepland\", \"#text\": \"2020-05-10T22:50:00.000Z\"}, {\"@InfoStatus\": \"Actueel\", \"#text\": \"2020-05-10T22:51:43.000Z\"}], \"ns2:ExacteAankomstVertraging\": \"PT1M43S\", \"ns2:PresentatieAankomstVertraging\": {\"ns2:Uitingen\": {\"ns2:Uiting\": \"+1 min.\"}}, \"ns2:GedempteAankomstVertraging\": \"PT0S\", \"ns2:TreinAankomstSpoor\": [{\"@InfoStatus\": \"Gepland\", \"ns2:SpoorNummer\": \"1\"}, {\"@InfoStatus\": \"Actueel\", \"ns2:SpoorNummer\": \"2\"}], \"ns2:PresentatieTreinAankomstSpoor\": {\"ns2:Uitingen\": {\"ns2:Uiting\": \"2\"}}, \"ns2:VerkorteRouteHerkomst\": [{\"@InfoStatus\": \"Gepland\", \"ns2:Station\": [{\"ns2:StationCode\": \"SHL\", \"ns2:Type\": \"6\", \"ns2:KorteNaam\": \"Schiphol\", \"ns2:MiddelNaam\": \"Schiphol Airport\", \"ns2:LangeNaam\": \"Schiphol Airport\", \"ns2:UICCode\": \"8400561\"}, {\"ns2:StationCode\": \"DVD\", \"ns2:Type\": \"1\", \"ns2:KorteNaam\": \"Duivendrt\", \"ns2:MiddelNaam\": \"Duivendrecht\", \"ns2:LangeNaam\": \"Duivendrecht\", \"ns2:UICCode\": \"8400194\"}]}, {\"@InfoStatus\": \"Actueel\", \"ns2:Station\": [{\"ns2:StationCode\": \"SHL\", \"ns2:Type\": \"6\", \"ns2:KorteNaam\": \"Schiphol\", \"ns2:MiddelNaam\": \"Schiphol Airport\", \"ns2:LangeNaam\": \"Schiphol Airport\", \"ns2:UICCode\": \"8400561\"}, {\"ns2:StationCode\": \"DVD\", \"ns2:Type\": \"1\", \"ns2:KorteNaam\": \"Duivendrt\", \"ns2:MiddelNaam\": \"Duivendrecht\", \"ns2:LangeNaam\": \"Duivendrecht\", \"ns2:UICCode\": \"8400194\"}]}], \"ns2:PresentatieVerkorteRouteHerkomst\": {\"ns2:Uitingen\": {\"ns2:Uiting\": \"Schiphol Airport, Duivendrecht\"}}, \"ns2:WijzigingHerkomst\": [{\"ns2:WijzigingType\": \"11\"}, {\"ns2:WijzigingType\": \"21\", \"ns2:PresentatieWijzigingHerkomst\": {\"ns2:Uitingen\": [{\"@Taal\": \"nl\", \"ns2:Uiting\": {\"@Prioriteit\": \"61\", \"#text\": \"Dit is een gewijzigd aankomstspoor\"}}, {\"@Taal\": \"en\", \"ns2:Uiting\": {\"@Prioriteit\": \"61\", \"#text\": \"Arrival platform changed\"}}]}}]}, \"ns2:PresentatieOpmerkingen\": {\"ns2:Uitingen\": [{\"@Taal\": \"nl\", \"ns2:Uiting\": {\"@Prioriteit\": \"61\", \"@ReferentieType\": \"Wijziging\", \"@ReferentieWaarde\": \"21\", \"#text\": \"Dit is een gewijzigd aankomstspoor\"}}, {\"@Taal\": \"en\", \"ns2:Uiting\": {\"@Prioriteit\": \"61\", \"@ReferentieType\": \"Wijziging\", \"@ReferentieWaarde\": \"21\", \"#text\": \"Arrival platform changed\"}}]}}}}}')\n",
      "(None, u'{\"ns1:PutReisInformatieBoodschapIn\": {\"@xmlns:ns1\": \"urn:ndov:cdm:trein:reisinformatie:messages:dynamischeaankomststaat:1\", \"@xmlns:ns2\": \"urn:ndov:cdm:trein:reisinformatie:data:4\", \"ns2:ReisInformatieProductDAS\": {\"@TimeStamp\": \"2020-05-10T22:51:22.183Z\", \"@Versie\": \"6.1\", \"ns2:RIPAdministratie\": {\"ns2:ReisInformatieProductID\": \"2005110051222300003\", \"ns2:AbonnementId\": \"55\", \"ns2:ReisInformatieTijdstip\": \"2020-05-10T22:54:00.000Z\"}, \"ns2:DynamischeAankomstStaat\": {\"ns2:RitId\": \"6380\", \"ns2:RitDatum\": \"2020-05-10\", \"ns2:RitStation\": {\"ns2:StationCode\": \"HIL\", \"ns2:Type\": \"0\", \"ns2:KorteNaam\": \"Hillegom\", \"ns2:MiddelNaam\": \"Hillegom\", \"ns2:LangeNaam\": \"Hillegom\", \"ns2:UICCode\": \"8400329\"}, \"ns2:TreinAankomst\": {\"ns2:TreinNummer\": \"6380\", \"ns2:TreinSoort\": {\"@Code\": \"SPR\", \"#text\": \"Sprinter\"}, \"ns2:TreinStatus\": \"2\", \"ns2:Vervoerder\": \"NS\", \"ns2:TreinHerkomst\": [{\"@InfoStatus\": \"Gepland\", \"ns2:StationCode\": \"GVC\", \"ns2:Type\": \"6\", \"ns2:KorteNaam\": \"Den Haag C\", \"ns2:MiddelNaam\": \"Den Haag C.\", \"ns2:LangeNaam\": \"Den Haag Centraal\", \"ns2:UICCode\": \"8400282\"}, {\"@InfoStatus\": \"Actueel\", \"ns2:StationCode\": \"GVC\", \"ns2:Type\": \"6\", \"ns2:KorteNaam\": \"Den Haag C\", \"ns2:MiddelNaam\": \"Den Haag C.\", \"ns2:LangeNaam\": \"Den Haag Centraal\", \"ns2:UICCode\": \"8400282\"}], \"ns2:PresentatieTreinHerkomst\": {\"ns2:Uitingen\": {\"ns2:Uiting\": \"Den Haag C.\"}}, \"ns2:AankomstTijd\": [{\"@InfoStatus\": \"Gepland\", \"#text\": \"2020-05-10T22:54:00.000Z\"}, {\"@InfoStatus\": \"Actueel\", \"#text\": \"2020-05-10T22:54:00.000Z\"}], \"ns2:ExacteAankomstVertraging\": \"PT0S\", \"ns2:GedempteAankomstVertraging\": \"PT0S\", \"ns2:TreinAankomstSpoor\": [{\"@InfoStatus\": \"Gepland\", \"ns2:SpoorNummer\": \"1\"}, {\"@InfoStatus\": \"Actueel\", \"ns2:SpoorNummer\": \"1\"}], \"ns2:PresentatieTreinAankomstSpoor\": {\"ns2:Uitingen\": {\"ns2:Uiting\": \"1\"}}, \"ns2:VerkorteRouteHerkomst\": [{\"@InfoStatus\": \"Gepland\", \"ns2:Station\": [{\"ns2:StationCode\": \"LAA\", \"ns2:Type\": \"1\", \"ns2:KorteNaam\": \"Laan v NOI\", \"ns2:MiddelNaam\": \"Laan v NOI\", \"ns2:LangeNaam\": \"Den Haag Laan v NOI\", \"ns2:UICCode\": \"8400380\"}, {\"ns2:StationCode\": \"LEDN\", \"ns2:Type\": \"5\", \"ns2:KorteNaam\": \"Leiden C\", \"ns2:MiddelNaam\": \"Leiden C.\", \"ns2:LangeNaam\": \"Leiden Centraal\", \"ns2:UICCode\": \"8400390\"}]}, {\"@InfoStatus\": \"Actueel\", \"ns2:Station\": [{\"ns2:StationCode\": \"LAA\", \"ns2:Type\": \"1\", \"ns2:KorteNaam\": \"Laan v NOI\", \"ns2:MiddelNaam\": \"Laan v NOI\", \"ns2:LangeNaam\": \"Den Haag Laan v NOI\", \"ns2:UICCode\": \"8400380\"}, {\"ns2:StationCode\": \"LEDN\", \"ns2:Type\": \"5\", \"ns2:KorteNaam\": \"Leiden C\", \"ns2:MiddelNaam\": \"Leiden C.\", \"ns2:LangeNaam\": \"Leiden Centraal\", \"ns2:UICCode\": \"8400390\"}]}], \"ns2:PresentatieVerkorteRouteHerkomst\": {\"ns2:Uitingen\": {\"ns2:Uiting\": \"Laan v NOI, Leiden C.\"}}, \"ns2:WijzigingHerkomst\": {\"ns2:WijzigingType\": \"40\"}}}}}}')\n",
      "(None, u'{\"ns1:PutReisInformatieBoodschapIn\": {\"@xmlns:ns1\": \"urn:ndov:cdm:trein:reisinformatie:messages:dynamischeaankomststaat:1\", \"@xmlns:ns2\": \"urn:ndov:cdm:trein:reisinformatie:data:4\", \"ns2:ReisInformatieProductDAS\": {\"@TimeStamp\": \"2020-05-10T22:51:23.816Z\", \"@Versie\": \"6.1\", \"ns2:RIPAdministratie\": {\"ns2:ReisInformatieProductID\": \"2005110051232300003\", \"ns2:AbonnementId\": \"55\", \"ns2:ReisInformatieTijdstip\": \"2020-05-10T22:51:00.000Z\"}, \"ns2:DynamischeAankomstStaat\": {\"ns2:RitId\": \"14691\", \"ns2:RitDatum\": \"2020-05-10\", \"ns2:RitStation\": {\"ns2:StationCode\": \"ALMM\", \"ns2:Type\": \"0\", \"ns2:KorteNaam\": \"Muziekwijk\", \"ns2:MiddelNaam\": \"Muziekwijk\", \"ns2:LangeNaam\": \"Almere Muziekwijk\", \"ns2:UICCode\": \"8400082\"}, \"ns2:TreinAankomst\": {\"ns2:TreinNummer\": \"14691\", \"ns2:TreinSoort\": {\"@Code\": \"SPR\", \"#text\": \"Sprinter\"}, \"ns2:TreinStatus\": \"5\", \"ns2:Vervoerder\": \"NS\", \"ns2:TreinHerkomst\": [{\"@InfoStatus\": \"Gepland\", \"ns2:StationCode\": \"ASD\", \"ns2:Type\": \"6\", \"ns2:KorteNaam\": \"Amsterdm C\", \"ns2:MiddelNaam\": \"Amsterdam C.\", \"ns2:LangeNaam\": \"Amsterdam Centraal\", \"ns2:UICCode\": \"8400058\"}, {\"@InfoStatus\": \"Actueel\", \"ns2:StationCode\": \"ASD\", \"ns2:Type\": \"6\", \"ns2:KorteNaam\": \"Amsterdm C\", \"ns2:MiddelNaam\": \"Amsterdam C.\", \"ns2:LangeNaam\": \"Amsterdam Centraal\", \"ns2:UICCode\": \"8400058\"}], \"ns2:PresentatieTreinHerkomst\": {\"ns2:Uitingen\": {\"ns2:Uiting\": \"Amsterdam C.\"}}, \"ns2:AankomstTijd\": [{\"@InfoStatus\": \"Gepland\", \"#text\": \"2020-05-10T22:51:00.000Z\"}, {\"@InfoStatus\": \"Actueel\", \"#text\": \"2020-05-10T22:51:00.000Z\"}], \"ns2:ExacteAankomstVertraging\": \"PT0S\", \"ns2:GedempteAankomstVertraging\": \"PT0S\", \"ns2:TreinAankomstSpoor\": [{\"@InfoStatus\": \"Gepland\", \"ns2:SpoorNummer\": \"2\"}, {\"@InfoStatus\": \"Actueel\", \"ns2:SpoorNummer\": \"2\"}], \"ns2:PresentatieTreinAankomstSpoor\": {\"ns2:Uitingen\": {\"ns2:Uiting\": \"2\"}}, \"ns2:VerkorteRouteHerkomst\": [{\"@InfoStatus\": \"Gepland\", \"ns2:Station\": {\"ns2:StationCode\": \"WP\", \"ns2:Type\": \"1\", \"ns2:KorteNaam\": \"Weesp\", \"ns2:MiddelNaam\": \"Weesp\", \"ns2:LangeNaam\": \"Weesp\", \"ns2:UICCode\": \"8400685\"}}, {\"@InfoStatus\": \"Actueel\", \"ns2:Station\": {\"ns2:StationCode\": \"WP\", \"ns2:Type\": \"1\", \"ns2:KorteNaam\": \"Weesp\", \"ns2:MiddelNaam\": \"Weesp\", \"ns2:LangeNaam\": \"Weesp\", \"ns2:UICCode\": \"8400685\"}}], \"ns2:PresentatieVerkorteRouteHerkomst\": {\"ns2:Uitingen\": {\"ns2:Uiting\": \"Weesp\"}}, \"ns2:WijzigingHerkomst\": {\"ns2:WijzigingType\": \"40\"}}}}}}')\n",
      "(None, u'{\"ns1:PutReisInformatieBoodschapIn\": {\"@xmlns:ns1\": \"urn:ndov:cdm:trein:reisinformatie:messages:dynamischeaankomststaat:1\", \"@xmlns:ns2\": \"urn:ndov:cdm:trein:reisinformatie:data:4\", \"ns2:ReisInformatieProductDAS\": {\"@TimeStamp\": \"2020-05-10T22:51:26.880Z\", \"@Versie\": \"6.1\", \"ns2:RIPAdministratie\": {\"ns2:ReisInformatieProductID\": \"2005110051262300002\", \"ns2:AbonnementId\": \"55\", \"ns2:ReisInformatieTijdstip\": \"2020-05-10T22:49:00.000Z\"}, \"ns2:DynamischeAankomstStaat\": {\"ns2:RitId\": \"2984\", \"ns2:RitDatum\": \"2020-05-10\", \"ns2:RitStation\": {\"ns2:StationCode\": \"PMR\", \"ns2:Type\": \"1\", \"ns2:KorteNaam\": \"Purmerend\", \"ns2:MiddelNaam\": \"Purmerend\", \"ns2:LangeNaam\": \"Purmerend\", \"ns2:UICCode\": \"8400508\"}, \"ns2:TreinAankomst\": {\"ns2:TreinNummer\": \"2984\", \"ns2:TreinSoort\": {\"@Code\": \"IC\", \"#text\": \"Intercity\"}, \"ns2:TreinStatus\": \"5\", \"ns2:Vervoerder\": \"NS\", \"ns2:TreinHerkomst\": [{\"@InfoStatus\": \"Gepland\", \"ns2:StationCode\": \"STD\", \"ns2:Type\": \"5\", \"ns2:KorteNaam\": \"Sittard\", \"ns2:MiddelNaam\": \"Sittard\", \"ns2:LangeNaam\": \"Sittard\", \"ns2:UICCode\": \"8400564\"}, {\"@InfoStatus\": \"Actueel\", \"ns2:StationCode\": \"STD\", \"ns2:Type\": \"5\", \"ns2:KorteNaam\": \"Sittard\", \"ns2:MiddelNaam\": \"Sittard\", \"ns2:LangeNaam\": \"Sittard\", \"ns2:UICCode\": \"8400564\"}], \"ns2:PresentatieTreinHerkomst\": {\"ns2:Uitingen\": {\"ns2:Uiting\": \"Sittard\"}}, \"ns2:AankomstTijd\": [{\"@InfoStatus\": \"Gepland\", \"#text\": \"2020-05-10T22:49:00.000Z\"}, {\"@InfoStatus\": \"Actueel\", \"#text\": \"2020-05-10T22:51:35.000Z\"}], \"ns2:ExacteAankomstVertraging\": \"PT2M35S\", \"ns2:PresentatieAankomstVertraging\": {\"ns2:Uitingen\": {\"ns2:Uiting\": \"+2 min.\"}}, \"ns2:GedempteAankomstVertraging\": \"PT0S\", \"ns2:TreinAankomstSpoor\": [{\"@InfoStatus\": \"Gepland\", \"ns2:SpoorNummer\": \"2\"}, {\"@InfoStatus\": \"Actueel\", \"ns2:SpoorNummer\": \"2\"}], \"ns2:PresentatieTreinAankomstSpoor\": {\"ns2:Uitingen\": {\"ns2:Uiting\": \"2\"}}, \"ns2:VerkorteRouteHerkomst\": [{\"@InfoStatus\": \"Gepland\", \"ns2:Station\": [{\"ns2:StationCode\": \"EHV\", \"ns2:Type\": \"6\", \"ns2:KorteNaam\": \"Eindhovn C\", \"ns2:MiddelNaam\": \"Eindhoven C.\", \"ns2:LangeNaam\": \"Eindhoven Centraal\", \"ns2:UICCode\": \"8400206\"}, {\"ns2:StationCode\": \"UT\", \"ns2:Type\": \"6\", \"ns2:KorteNaam\": \"Utrecht C\", \"ns2:MiddelNaam\": \"Utrecht C.\", \"ns2:LangeNaam\": \"Utrecht Centraal\", \"ns2:UICCode\": \"8400621\"}, {\"ns2:StationCode\": \"ASD\", \"ns2:Type\": \"6\", \"ns2:KorteNaam\": \"Amsterdm C\", \"ns2:MiddelNaam\": \"Amsterdam C.\", \"ns2:LangeNaam\": \"Amsterdam Centraal\", \"ns2:UICCode\": \"8400058\"}, {\"ns2:StationCode\": \"ZD\", \"ns2:Type\": \"5\", \"ns2:KorteNaam\": \"Zaandam\", \"ns2:MiddelNaam\": \"Zaandam\", \"ns2:LangeNaam\": \"Zaandam\", \"ns2:UICCode\": \"8400731\"}]}, {\"@InfoStatus\": \"Actueel\", \"ns2:Station\": [{\"ns2:StationCode\": \"EHV\", \"ns2:Type\": \"6\", \"ns2:KorteNaam\": \"Eindhovn C\", \"ns2:MiddelNaam\": \"Eindhoven C.\", \"ns2:LangeNaam\": \"Eindhoven Centraal\", \"ns2:UICCode\": \"8400206\"}, {\"ns2:StationCode\": \"UT\", \"ns2:Type\": \"6\", \"ns2:KorteNaam\": \"Utrecht C\", \"ns2:MiddelNaam\": \"Utrecht C.\", \"ns2:LangeNaam\": \"Utrecht Centraal\", \"ns2:UICCode\": \"8400621\"}, {\"ns2:StationCode\": \"ASD\", \"ns2:Type\": \"6\", \"ns2:KorteNaam\": \"Amsterdm C\", \"ns2:MiddelNaam\": \"Amsterdam C.\", \"ns2:LangeNaam\": \"Amsterdam Centraal\", \"ns2:UICCode\": \"8400058\"}, {\"ns2:StationCode\": \"ZD\", \"ns2:Type\": \"5\", \"ns2:KorteNaam\": \"Zaandam\", \"ns2:MiddelNaam\": \"Zaandam\", \"ns2:LangeNaam\": \"Zaandam\", \"ns2:UICCode\": \"8400731\"}]}], \"ns2:PresentatieVerkorteRouteHerkomst\": {\"ns2:Uitingen\": {\"ns2:Uiting\": \"Eindhoven C., Utrecht C., Amsterdam C., Zaandam\"}}, \"ns2:WijzigingHerkomst\": [{\"ns2:WijzigingType\": \"11\"}, {\"ns2:WijzigingType\": \"40\"}]}}}}}')\n",
      "...\n",
      "\n",
      "-------------------------------------------\n",
      "Time: 2020-05-11 13:06:00\n",
      "-------------------------------------------\n",
      "(None, u'{\"ns1:PutReisInformatieBoodschapIn\": {\"@xmlns:ns1\": \"urn:ndov:cdm:trein:reisinformatie:messages:5\", \"@xmlns:ns2\": \"urn:ndov:cdm:trein:reisinformatie:data:4\", \"ns2:ReisInformatieProductDVS\": {\"@TimeStamp\": \"2020-05-10T22:51:11.481Z\", \"@Versie\": \"6.2\", \"ns2:RIPAdministratie\": {\"ns2:ReisInformatieProductID\": \"2005110051112300001\", \"ns2:AbonnementId\": \"54\", \"ns2:ReisInformatieTijdstip\": \"2020-05-10T22:55:00.000Z\"}, \"ns2:DynamischeVertrekStaat\": {\"ns2:RitId\": \"1787\", \"ns2:RitDatum\": \"2020-05-10\", \"ns2:RitStation\": {\"ns2:StationCode\": \"AML\", \"ns2:Type\": \"5\", \"ns2:KorteNaam\": \"Almelo\", \"ns2:MiddelNaam\": \"Almelo\", \"ns2:LangeNaam\": \"Almelo\", \"ns2:UICCode\": \"8400051\"}, \"ns2:Trein\": {\"ns2:TreinNummer\": \"1787\", \"ns2:TreinSoort\": {\"@Code\": \"IC\", \"#text\": \"Intercity\"}, \"ns2:TreinFormule\": \"3\", \"ns2:TreinStatus\": \"0\", \"ns2:Vervoerder\": \"NS\", \"ns2:Reserveren\": \"N\", \"ns2:Toeslag\": \"N\", \"ns2:NietInstappen\": \"N\", \"ns2:AchterBlijvenAchtersteTreinDeel\": \"N\", \"ns2:RangeerBeweging\": \"N\", \"ns2:SpeciaalKaartje\": \"N\", \"ns2:TreinEindBestemming\": [{\"@InfoStatus\": \"Gepland\", \"ns2:StationCode\": \"ES\", \"ns2:Type\": \"5\", \"ns2:KorteNaam\": \"Enschede\", \"ns2:MiddelNaam\": \"Enschede\", \"ns2:LangeNaam\": \"Enschede\", \"ns2:UICCode\": \"8400212\"}, {\"@InfoStatus\": \"Actueel\", \"ns2:StationCode\": \"ES\", \"ns2:Type\": \"5\", \"ns2:KorteNaam\": \"Enschede\", \"ns2:MiddelNaam\": \"Enschede\", \"ns2:LangeNaam\": \"Enschede\", \"ns2:UICCode\": \"8400212\"}], \"ns2:PresentatieTreinEindBestemming\": {\"ns2:Uitingen\": {\"ns2:Uiting\": \"Enschede\"}}, \"ns2:VertrekTijd\": [{\"@InfoStatus\": \"Gepland\", \"#text\": \"2020-05-10T22:55:00.000Z\"}, {\"@InfoStatus\": \"Actueel\", \"#text\": \"2020-05-10T22:55:52.000Z\"}], \"ns2:ExacteVertrekVertraging\": \"PT52S\", \"ns2:GedempteVertrekVertraging\": \"PT0S\", \"ns2:TreinVertrekSpoor\": [{\"@InfoStatus\": \"Gepland\", \"ns2:SpoorNummer\": \"2\", \"ns2:SpoorFase\": \"b\"}, {\"@InfoStatus\": \"Actueel\", \"ns2:SpoorNummer\": \"2\", \"ns2:SpoorFase\": \"b\"}], \"ns2:PresentatieTreinVertrekSpoor\": {\"ns2:Uitingen\": {\"ns2:Uiting\": \"2b\"}}, \"ns2:VertrekRichting\": \"B\", \"ns2:AfstandPerronEindKopVertrekTrein\": \"0\", \"ns2:VerkorteRoute\": [{\"@InfoStatus\": \"Gepland\", \"ns2:Station\": {\"ns2:StationCode\": \"HGL\", \"ns2:Type\": \"5\", \"ns2:KorteNaam\": \"Hengelo\", \"ns2:MiddelNaam\": \"Hengelo\", \"ns2:LangeNaam\": \"Hengelo\", \"ns2:UICCode\": \"8400316\"}}, {\"@InfoStatus\": \"Actueel\", \"ns2:Station\": {\"ns2:StationCode\": \"HGL\", \"ns2:Type\": \"5\", \"ns2:KorteNaam\": \"Hengelo\", \"ns2:MiddelNaam\": \"Hengelo\", \"ns2:LangeNaam\": \"Hengelo\", \"ns2:UICCode\": \"8400316\"}}], \"ns2:PresentatieVerkorteRoute\": {\"ns2:Uitingen\": {\"ns2:Uiting\": \"Hengelo\"}}, \"ns2:TreinVleugel\": {\"ns2:TreinVleugelVertrekSpoor\": [{\"@InfoStatus\": \"Gepland\", \"ns2:SpoorNummer\": \"2\", \"ns2:SpoorFase\": \"b\"}, {\"@InfoStatus\": \"Actueel\", \"ns2:SpoorNummer\": \"2\", \"ns2:SpoorFase\": \"b\"}], \"ns2:PresentatieTreinVleugelVertrekSpoor\": {\"ns2:Uitingen\": {\"ns2:Uiting\": \"2b\"}}, \"ns2:TreinVleugelEindBestemming\": [{\"@InfoStatus\": \"Gepland\", \"ns2:StationCode\": \"ES\", \"ns2:Type\": \"5\", \"ns2:KorteNaam\": \"Enschede\", \"ns2:MiddelNaam\": \"Enschede\", \"ns2:LangeNaam\": \"Enschede\", \"ns2:UICCode\": \"8400212\"}, {\"@InfoStatus\": \"Actueel\", \"ns2:StationCode\": \"ES\", \"ns2:Type\": \"5\", \"ns2:KorteNaam\": \"Enschede\", \"ns2:MiddelNaam\": \"Enschede\", \"ns2:LangeNaam\": \"Enschede\", \"ns2:UICCode\": \"8400212\"}], \"ns2:PresentatieTreinVleugelEindBestemming\": {\"ns2:Uitingen\": {\"ns2:Uiting\": \"Enschede\"}}, \"ns2:StopStations\": [{\"@InfoStatus\": \"Gepland\", \"ns2:Station\": [{\"ns2:StationCode\": \"HGL\", \"ns2:Type\": \"5\", \"ns2:KorteNaam\": \"Hengelo\", \"ns2:MiddelNaam\": \"Hengelo\", \"ns2:LangeNaam\": \"Hengelo\", \"ns2:UICCode\": \"8400316\"}, {\"ns2:StationCode\": \"ES\", \"ns2:Type\": \"5\", \"ns2:KorteNaam\": \"Enschede\", \"ns2:MiddelNaam\": \"Enschede\", \"ns2:LangeNaam\": \"Enschede\", \"ns2:UICCode\": \"8400212\"}]}, {\"@InfoStatus\": \"Actueel\", \"ns2:Station\": [{\"ns2:StationCode\": \"HGL\", \"ns2:Type\": \"5\", \"ns2:KorteNaam\": \"Hengelo\", \"ns2:MiddelNaam\": \"Hengelo\", \"ns2:LangeNaam\": \"Hengelo\", \"ns2:UICCode\": \"8400316\"}, {\"ns2:StationCode\": \"ES\", \"ns2:Type\": \"5\", \"ns2:KorteNaam\": \"Enschede\", \"ns2:MiddelNaam\": \"Enschede\", \"ns2:LangeNaam\": \"Enschede\", \"ns2:UICCode\": \"8400212\"}]}], \"ns2:MaterieelDeelDVS\": {\"ns2:MaterieelSoort\": \"ICM\", \"ns2:MaterieelAanduiding\": \"4\", \"ns2:MaterieelLengte\": \"10710\", \"ns2:MaterieelNummer\": \"000000-04210-0\", \"ns2:MaterieelDeelEindBestemming\": [{\"@InfoStatus\": \"Gepland\", \"ns2:StationCode\": \"ES\", \"ns2:Type\": \"5\", \"ns2:KorteNaam\": \"Enschede\", \"ns2:MiddelNaam\": \"Enschede\", \"ns2:LangeNaam\": \"Enschede\", \"ns2:UICCode\": \"8400212\"}, {\"@InfoStatus\": \"Actueel\", \"ns2:StationCode\": \"ES\", \"ns2:Type\": \"5\", \"ns2:KorteNaam\": \"Enschede\", \"ns2:MiddelNaam\": \"Enschede\", \"ns2:LangeNaam\": \"Enschede\", \"ns2:UICCode\": \"8400212\"}], \"ns2:PresentatieMaterieelDeelEindBestemming\": {\"ns2:Uitingen\": {\"ns2:Uiting\": \"Enschede\"}}}}, \"ns2:Wijziging\": {\"ns2:WijzigingType\": \"10\", \"ns2:PresentatieWijziging\": {\"ns2:Uitingen\": [{\"@Taal\": \"nl\", \"ns2:Uiting\": {\"@Prioriteit\": \"10\", \"#text\": \"Later vertrek\"}}, {\"@Taal\": \"en\", \"ns2:Uiting\": {\"@Prioriteit\": \"10\", \"#text\": \"Delayed\"}}]}}}, \"ns2:PresentatieOpmerkingen\": {\"ns2:Uitingen\": [{\"@Taal\": \"nl\", \"ns2:Uiting\": {\"@Prioriteit\": \"20\", \"@ReferentieType\": \"Wijziging\", \"@ReferentieWaarde\": \"10\", \"#text\": \"Later vertrek\"}}, {\"@Taal\": \"en\", \"ns2:Uiting\": {\"@Prioriteit\": \"20\", \"@ReferentieType\": \"Wijziging\", \"@ReferentieWaarde\": \"10\", \"#text\": \"Delayed\"}}]}}}}}')\n",
      "(None, u'{\"ns1:PutReisInformatieBoodschapIn\": {\"@xmlns:ns1\": \"urn:ndov:cdm:trein:reisinformatie:messages:5\", \"@xmlns:ns2\": \"urn:ndov:cdm:trein:reisinformatie:data:4\", \"ns2:ReisInformatieProductDVS\": {\"@TimeStamp\": \"2020-05-10T22:51:11.976Z\", \"@Versie\": \"6.2\", \"ns2:RIPAdministratie\": {\"ns2:ReisInformatieProductID\": \"2005110051112500005\", \"ns2:AbonnementId\": \"54\", \"ns2:ReisInformatieTijdstip\": \"2020-05-10T22:51:00.000Z\"}, \"ns2:DynamischeVertrekStaat\": {\"ns2:RitId\": \"5586\", \"ns2:RitDatum\": \"2020-05-10\", \"ns2:RitStation\": {\"ns2:StationCode\": \"UTO\", \"ns2:Type\": \"1\", \"ns2:KorteNaam\": \"Overvecht\", \"ns2:MiddelNaam\": \"Overvecht\", \"ns2:LangeNaam\": \"Utrecht Overvecht\", \"ns2:UICCode\": \"8400620\"}, \"ns2:Trein\": {\"ns2:TreinNummer\": \"5586\", \"ns2:TreinSoort\": {\"@Code\": \"SPR\", \"#text\": \"Sprinter\"}, \"ns2:TreinFormule\": \"1\", \"ns2:TreinStatus\": \"5\", \"ns2:Vervoerder\": \"NS\", \"ns2:Reserveren\": \"N\", \"ns2:Toeslag\": \"N\", \"ns2:NietInstappen\": \"N\", \"ns2:AchterBlijvenAchtersteTreinDeel\": \"N\", \"ns2:RangeerBeweging\": \"N\", \"ns2:SpeciaalKaartje\": \"N\", \"ns2:TreinEindBestemming\": [{\"@InfoStatus\": \"Gepland\", \"ns2:StationCode\": \"UT\", \"ns2:Type\": \"6\", \"ns2:KorteNaam\": \"Utrecht C\", \"ns2:MiddelNaam\": \"Utrecht C.\", \"ns2:LangeNaam\": \"Utrecht Centraal\", \"ns2:UICCode\": \"8400621\"}, {\"@InfoStatus\": \"Actueel\", \"ns2:StationCode\": \"UT\", \"ns2:Type\": \"6\", \"ns2:KorteNaam\": \"Utrecht C\", \"ns2:MiddelNaam\": \"Utrecht C.\", \"ns2:LangeNaam\": \"Utrecht Centraal\", \"ns2:UICCode\": \"8400621\"}], \"ns2:PresentatieTreinEindBestemming\": {\"ns2:Uitingen\": {\"ns2:Uiting\": \"Utrecht Centraal\"}}, \"ns2:VertrekTijd\": [{\"@InfoStatus\": \"Gepland\", \"#text\": \"2020-05-10T22:51:00.000Z\"}, {\"@InfoStatus\": \"Actueel\", \"#text\": \"2020-05-10T22:51:00.000Z\"}], \"ns2:ExacteVertrekVertraging\": \"PT0S\", \"ns2:GedempteVertrekVertraging\": \"PT0S\", \"ns2:TreinVertrekSpoor\": [{\"@InfoStatus\": \"Gepland\", \"ns2:SpoorNummer\": \"3\"}, {\"@InfoStatus\": \"Actueel\", \"ns2:SpoorNummer\": \"3\"}], \"ns2:PresentatieTreinVertrekSpoor\": {\"ns2:Uitingen\": {\"ns2:Uiting\": \"3\"}}, \"ns2:VertrekRichting\": \"B\", \"ns2:AfstandPerronEindKopVertrekTrein\": \"0\", \"ns2:TreinVleugel\": {\"ns2:TreinVleugelVertrekSpoor\": [{\"@InfoStatus\": \"Gepland\", \"ns2:SpoorNummer\": \"3\"}, {\"@InfoStatus\": \"Actueel\", \"ns2:SpoorNummer\": \"3\"}], \"ns2:PresentatieTreinVleugelVertrekSpoor\": {\"ns2:Uitingen\": {\"ns2:Uiting\": \"3\"}}, \"ns2:TreinVleugelEindBestemming\": [{\"@InfoStatus\": \"Gepland\", \"ns2:StationCode\": \"UT\", \"ns2:Type\": \"6\", \"ns2:KorteNaam\": \"Utrecht C\", \"ns2:MiddelNaam\": \"Utrecht C.\", \"ns2:LangeNaam\": \"Utrecht Centraal\", \"ns2:UICCode\": \"8400621\"}, {\"@InfoStatus\": \"Actueel\", \"ns2:StationCode\": \"UT\", \"ns2:Type\": \"6\", \"ns2:KorteNaam\": \"Utrecht C\", \"ns2:MiddelNaam\": \"Utrecht C.\", \"ns2:LangeNaam\": \"Utrecht Centraal\", \"ns2:UICCode\": \"8400621\"}], \"ns2:PresentatieTreinVleugelEindBestemming\": {\"ns2:Uitingen\": {\"ns2:Uiting\": \"Utrecht Centraal\"}}, \"ns2:StopStations\": [{\"@InfoStatus\": \"Gepland\", \"ns2:Station\": {\"ns2:StationCode\": \"UT\", \"ns2:Type\": \"6\", \"ns2:KorteNaam\": \"Utrecht C\", \"ns2:MiddelNaam\": \"Utrecht C.\", \"ns2:LangeNaam\": \"Utrecht Centraal\", \"ns2:UICCode\": \"8400621\"}}, {\"@InfoStatus\": \"Actueel\", \"ns2:Station\": {\"ns2:StationCode\": \"UT\", \"ns2:Type\": \"6\", \"ns2:KorteNaam\": \"Utrecht C\", \"ns2:MiddelNaam\": \"Utrecht C.\", \"ns2:LangeNaam\": \"Utrecht Centraal\", \"ns2:UICCode\": \"8400621\"}}], \"ns2:MaterieelDeelDVS\": {\"ns2:MaterieelSoort\": \"SLT\", \"ns2:MaterieelAanduiding\": \"4\", \"ns2:MaterieelLengte\": \"6940\", \"ns2:MaterieelNummer\": \"000000-02414-0\", \"ns2:MaterieelDeelEindBestemming\": [{\"@InfoStatus\": \"Gepland\", \"ns2:StationCode\": \"UT\", \"ns2:Type\": \"6\", \"ns2:KorteNaam\": \"Utrecht C\", \"ns2:MiddelNaam\": \"Utrecht C.\", \"ns2:LangeNaam\": \"Utrecht Centraal\", \"ns2:UICCode\": \"8400621\"}, {\"@InfoStatus\": \"Actueel\", \"ns2:StationCode\": \"UT\", \"ns2:Type\": \"6\", \"ns2:KorteNaam\": \"Utrecht C\", \"ns2:MiddelNaam\": \"Utrecht C.\", \"ns2:LangeNaam\": \"Utrecht Centraal\", \"ns2:UICCode\": \"8400621\"}], \"ns2:PresentatieMaterieelDeelEindBestemming\": {\"ns2:Uitingen\": {\"ns2:Uiting\": \"Utrecht Centraal\"}}}}, \"ns2:Wijziging\": {\"ns2:WijzigingType\": \"40\"}}}}}}')\n",
      "(None, u'{\"ns1:PutReisInformatieBoodschapIn\": {\"@xmlns:ns1\": \"urn:ndov:cdm:trein:reisinformatie:messages:5\", \"@xmlns:ns2\": \"urn:ndov:cdm:trein:reisinformatie:data:4\", \"ns2:ReisInformatieProductDVS\": {\"@TimeStamp\": \"2020-05-10T22:51:11.972Z\", \"@Versie\": \"6.2\", \"ns2:RIPAdministratie\": {\"ns2:ReisInformatieProductID\": \"2005110051112500004\", \"ns2:AbonnementId\": \"54\", \"ns2:ReisInformatieTijdstip\": \"2020-05-10T22:51:00.000Z\"}, \"ns2:DynamischeVertrekStaat\": {\"ns2:RitId\": \"4895\", \"ns2:RitDatum\": \"2020-05-10\", \"ns2:RitStation\": {\"ns2:StationCode\": \"HWZB\", \"ns2:Type\": \"0\", \"ns2:KorteNaam\": \"Halfweg-Zw\", \"ns2:MiddelNaam\": \"Halfweg-Zw.\", \"ns2:LangeNaam\": \"Halfweg-Zwanenburg\", \"ns2:UICCode\": \"8400400\"}, \"ns2:Trein\": {\"ns2:TreinNummer\": \"4895\", \"ns2:TreinSoort\": {\"@Code\": \"SPR\", \"#text\": \"Sprinter\"}, \"ns2:TreinFormule\": \"1\", \"ns2:TreinStatus\": \"5\", \"ns2:Vervoerder\": \"NS\", \"ns2:Reserveren\": \"N\", \"ns2:Toeslag\": \"N\", \"ns2:NietInstappen\": \"N\", \"ns2:AchterBlijvenAchtersteTreinDeel\": \"N\", \"ns2:RangeerBeweging\": \"N\", \"ns2:SpeciaalKaartje\": \"N\", \"ns2:TreinEindBestemming\": [{\"@InfoStatus\": \"Gepland\", \"ns2:StationCode\": \"HLM\", \"ns2:Type\": \"5\", \"ns2:KorteNaam\": \"Haarlem\", \"ns2:MiddelNaam\": \"Haarlem\", \"ns2:LangeNaam\": \"Haarlem\", \"ns2:UICCode\": \"8400285\"}, {\"@InfoStatus\": \"Actueel\", \"ns2:StationCode\": \"HLM\", \"ns2:Type\": \"5\", \"ns2:KorteNaam\": \"Haarlem\", \"ns2:MiddelNaam\": \"Haarlem\", \"ns2:LangeNaam\": \"Haarlem\", \"ns2:UICCode\": \"8400285\"}], \"ns2:PresentatieTreinEindBestemming\": {\"ns2:Uitingen\": {\"ns2:Uiting\": \"Haarlem\"}}, \"ns2:VertrekTijd\": [{\"@InfoStatus\": \"Gepland\", \"#text\": \"2020-05-10T22:51:00.000Z\"}, {\"@InfoStatus\": \"Actueel\", \"#text\": \"2020-05-10T22:51:00.000Z\"}], \"ns2:ExacteVertrekVertraging\": \"PT0S\", \"ns2:GedempteVertrekVertraging\": \"PT0S\", \"ns2:TreinVertrekSpoor\": [{\"@InfoStatus\": \"Gepland\", \"ns2:SpoorNummer\": \"2\"}, {\"@InfoStatus\": \"Actueel\", \"ns2:SpoorNummer\": \"2\"}], \"ns2:PresentatieTreinVertrekSpoor\": {\"ns2:Uitingen\": {\"ns2:Uiting\": \"2\"}}, \"ns2:VertrekRichting\": \"B\", \"ns2:AfstandPerronEindKopVertrekTrein\": \"0\", \"ns2:TreinVleugel\": {\"ns2:TreinVleugelVertrekSpoor\": [{\"@InfoStatus\": \"Gepland\", \"ns2:SpoorNummer\": \"2\"}, {\"@InfoStatus\": \"Actueel\", \"ns2:SpoorNummer\": \"2\"}], \"ns2:PresentatieTreinVleugelVertrekSpoor\": {\"ns2:Uitingen\": {\"ns2:Uiting\": \"2\"}}, \"ns2:TreinVleugelEindBestemming\": [{\"@InfoStatus\": \"Gepland\", \"ns2:StationCode\": \"HLM\", \"ns2:Type\": \"5\", \"ns2:KorteNaam\": \"Haarlem\", \"ns2:MiddelNaam\": \"Haarlem\", \"ns2:LangeNaam\": \"Haarlem\", \"ns2:UICCode\": \"8400285\"}, {\"@InfoStatus\": \"Actueel\", \"ns2:StationCode\": \"HLM\", \"ns2:Type\": \"5\", \"ns2:KorteNaam\": \"Haarlem\", \"ns2:MiddelNaam\": \"Haarlem\", \"ns2:LangeNaam\": \"Haarlem\", \"ns2:UICCode\": \"8400285\"}], \"ns2:PresentatieTreinVleugelEindBestemming\": {\"ns2:Uitingen\": {\"ns2:Uiting\": \"Haarlem\"}}, \"ns2:StopStations\": [{\"@InfoStatus\": \"Gepland\", \"ns2:Station\": [{\"ns2:StationCode\": \"HLMS\", \"ns2:Type\": \"0\", \"ns2:KorteNaam\": \"Spaarnwde\", \"ns2:MiddelNaam\": \"Spaarnwoude\", \"ns2:LangeNaam\": \"Haarlem Spaarnwoude\", \"ns2:UICCode\": \"8400270\"}, {\"ns2:StationCode\": \"HLM\", \"ns2:Type\": \"5\", \"ns2:KorteNaam\": \"Haarlem\", \"ns2:MiddelNaam\": \"Haarlem\", \"ns2:LangeNaam\": \"Haarlem\", \"ns2:UICCode\": \"8400285\"}]}, {\"@InfoStatus\": \"Actueel\", \"ns2:Station\": [{\"ns2:StationCode\": \"HLMS\", \"ns2:Type\": \"0\", \"ns2:KorteNaam\": \"Spaarnwde\", \"ns2:MiddelNaam\": \"Spaarnwoude\", \"ns2:LangeNaam\": \"Haarlem Spaarnwoude\", \"ns2:UICCode\": \"8400270\"}, {\"ns2:StationCode\": \"HLM\", \"ns2:Type\": \"5\", \"ns2:KorteNaam\": \"Haarlem\", \"ns2:MiddelNaam\": \"Haarlem\", \"ns2:LangeNaam\": \"Haarlem\", \"ns2:UICCode\": \"8400285\"}]}], \"ns2:MaterieelDeelDVS\": {\"ns2:MaterieelSoort\": \"SLT\", \"ns2:MaterieelAanduiding\": \"6\", \"ns2:MaterieelLengte\": \"10050\", \"ns2:MaterieelNummer\": \"000000-02646-0\", \"ns2:MaterieelDeelEindBestemming\": [{\"@InfoStatus\": \"Gepland\", \"ns2:StationCode\": \"HLM\", \"ns2:Type\": \"5\", \"ns2:KorteNaam\": \"Haarlem\", \"ns2:MiddelNaam\": \"Haarlem\", \"ns2:LangeNaam\": \"Haarlem\", \"ns2:UICCode\": \"8400285\"}, {\"@InfoStatus\": \"Actueel\", \"ns2:StationCode\": \"HLM\", \"ns2:Type\": \"5\", \"ns2:KorteNaam\": \"Haarlem\", \"ns2:MiddelNaam\": \"Haarlem\", \"ns2:LangeNaam\": \"Haarlem\", \"ns2:UICCode\": \"8400285\"}], \"ns2:PresentatieMaterieelDeelEindBestemming\": {\"ns2:Uitingen\": {\"ns2:Uiting\": \"Haarlem\"}}}}, \"ns2:Wijziging\": {\"ns2:WijzigingType\": \"40\"}}}}}}')\n",
      "(None, u'{\"ns1:PutReisInformatieBoodschapIn\": {\"@xmlns:ns1\": \"urn:ndov:cdm:trein:reisinformatie:messages:5\", \"@xmlns:ns2\": \"urn:ndov:cdm:trein:reisinformatie:data:4\", \"ns2:ReisInformatieProductDVS\": {\"@TimeStamp\": \"2020-05-10T22:51:11.978Z\", \"@Versie\": \"6.2\", \"ns2:RIPAdministratie\": {\"ns2:ReisInformatieProductID\": \"2005110051112500006\", \"ns2:AbonnementId\": \"54\", \"ns2:ReisInformatieTijdstip\": \"2020-05-10T22:51:00.000Z\"}, \"ns2:DynamischeVertrekStaat\": {\"ns2:RitId\": \"7291\", \"ns2:RitDatum\": \"2020-05-10\", \"ns2:RitStation\": {\"ns2:StationCode\": \"LDM\", \"ns2:Type\": \"0\", \"ns2:KorteNaam\": \"Leerdam\", \"ns2:MiddelNaam\": \"Leerdam\", \"ns2:LangeNaam\": \"Leerdam\", \"ns2:UICCode\": \"8400386\"}, \"ns2:Trein\": {\"ns2:TreinNummer\": \"7291\", \"ns2:TreinSoort\": {\"@Code\": \"ST\", \"#text\": \"Stoptrein\"}, \"ns2:TreinFormule\": \"1\", \"ns2:TreinStatus\": \"5\", \"ns2:Vervoerder\": \"R-net\", \"ns2:Reserveren\": \"N\", \"ns2:Toeslag\": \"N\", \"ns2:NietInstappen\": \"N\", \"ns2:AchterBlijvenAchtersteTreinDeel\": \"N\", \"ns2:RangeerBeweging\": \"N\", \"ns2:SpeciaalKaartje\": \"N\", \"ns2:TreinEindBestemming\": [{\"@InfoStatus\": \"Gepland\", \"ns2:StationCode\": \"GDM\", \"ns2:Type\": \"1\", \"ns2:KorteNaam\": \"Geldermlsn\", \"ns2:MiddelNaam\": \"Geldermalsen\", \"ns2:LangeNaam\": \"Geldermalsen\", \"ns2:UICCode\": \"8400244\"}, {\"@InfoStatus\": \"Actueel\", \"ns2:StationCode\": \"GDM\", \"ns2:Type\": \"1\", \"ns2:KorteNaam\": \"Geldermlsn\", \"ns2:MiddelNaam\": \"Geldermalsen\", \"ns2:LangeNaam\": \"Geldermalsen\", \"ns2:UICCode\": \"8400244\"}], \"ns2:PresentatieTreinEindBestemming\": {\"ns2:Uitingen\": {\"ns2:Uiting\": \"Geldermalsen\"}}, \"ns2:VertrekTijd\": [{\"@InfoStatus\": \"Gepland\", \"#text\": \"2020-05-10T22:51:00.000Z\"}, {\"@InfoStatus\": \"Actueel\", \"#text\": \"2020-05-10T22:51:00.000Z\"}], \"ns2:ExacteVertrekVertraging\": \"PT0S\", \"ns2:GedempteVertrekVertraging\": \"PT0S\", \"ns2:TreinVertrekSpoor\": [{\"@InfoStatus\": \"Gepland\", \"ns2:SpoorNummer\": \"1\"}, {\"@InfoStatus\": \"Actueel\", \"ns2:SpoorNummer\": \"1\"}], \"ns2:PresentatieTreinVertrekSpoor\": {\"ns2:Uitingen\": {\"ns2:Uiting\": \"1\"}}, \"ns2:VertrekRichting\": \"B\", \"ns2:AfstandPerronEindKopVertrekTrein\": \"0\", \"ns2:TreinVleugel\": {\"ns2:TreinVleugelVertrekSpoor\": [{\"@InfoStatus\": \"Gepland\", \"ns2:SpoorNummer\": \"1\"}, {\"@InfoStatus\": \"Actueel\", \"ns2:SpoorNummer\": \"1\"}], \"ns2:PresentatieTreinVleugelVertrekSpoor\": {\"ns2:Uitingen\": {\"ns2:Uiting\": \"1\"}}, \"ns2:TreinVleugelEindBestemming\": [{\"@InfoStatus\": \"Gepland\", \"ns2:StationCode\": \"GDM\", \"ns2:Type\": \"1\", \"ns2:KorteNaam\": \"Geldermlsn\", \"ns2:MiddelNaam\": \"Geldermalsen\", \"ns2:LangeNaam\": \"Geldermalsen\", \"ns2:UICCode\": \"8400244\"}, {\"@InfoStatus\": \"Actueel\", \"ns2:StationCode\": \"GDM\", \"ns2:Type\": \"1\", \"ns2:KorteNaam\": \"Geldermlsn\", \"ns2:MiddelNaam\": \"Geldermalsen\", \"ns2:LangeNaam\": \"Geldermalsen\", \"ns2:UICCode\": \"8400244\"}], \"ns2:PresentatieTreinVleugelEindBestemming\": {\"ns2:Uitingen\": {\"ns2:Uiting\": \"Geldermalsen\"}}, \"ns2:StopStations\": [{\"@InfoStatus\": \"Gepland\", \"ns2:Station\": [{\"ns2:StationCode\": \"BSD\", \"ns2:Type\": \"0\", \"ns2:KorteNaam\": \"Beesd\", \"ns2:MiddelNaam\": \"Beesd\", \"ns2:LangeNaam\": \"Beesd\", \"ns2:UICCode\": \"8400097\"}, {\"ns2:StationCode\": \"GDM\", \"ns2:Type\": \"1\", \"ns2:KorteNaam\": \"Geldermlsn\", \"ns2:MiddelNaam\": \"Geldermalsen\", \"ns2:LangeNaam\": \"Geldermalsen\", \"ns2:UICCode\": \"8400244\"}]}, {\"@InfoStatus\": \"Actueel\", \"ns2:Station\": [{\"ns2:StationCode\": \"BSD\", \"ns2:Type\": \"0\", \"ns2:KorteNaam\": \"Beesd\", \"ns2:MiddelNaam\": \"Beesd\", \"ns2:LangeNaam\": \"Beesd\", \"ns2:UICCode\": \"8400097\"}, {\"ns2:StationCode\": \"GDM\", \"ns2:Type\": \"1\", \"ns2:KorteNaam\": \"Geldermlsn\", \"ns2:MiddelNaam\": \"Geldermalsen\", \"ns2:LangeNaam\": \"Geldermalsen\", \"ns2:UICCode\": \"8400244\"}]}], \"ns2:MaterieelDeelDVS\": {\"ns2:MaterieelSoort\": \"GTW-E-QB\", \"ns2:MaterieelAanduiding\": \"2/6\", \"ns2:MaterieelLengte\": \"4100\", \"ns2:MaterieelDeelEindBestemming\": [{\"@InfoStatus\": \"Gepland\", \"ns2:StationCode\": \"GDM\", \"ns2:Type\": \"1\", \"ns2:KorteNaam\": \"Geldermlsn\", \"ns2:MiddelNaam\": \"Geldermalsen\", \"ns2:LangeNaam\": \"Geldermalsen\", \"ns2:UICCode\": \"8400244\"}, {\"@InfoStatus\": \"Actueel\", \"ns2:StationCode\": \"GDM\", \"ns2:Type\": \"1\", \"ns2:KorteNaam\": \"Geldermlsn\", \"ns2:MiddelNaam\": \"Geldermalsen\", \"ns2:LangeNaam\": \"Geldermalsen\", \"ns2:UICCode\": \"8400244\"}], \"ns2:PresentatieMaterieelDeelEindBestemming\": {\"ns2:Uitingen\": {\"ns2:Uiting\": \"Geldermalsen\"}}}}, \"ns2:Wijziging\": {\"ns2:WijzigingType\": \"40\"}}}}}}')\n",
      "(None, u'{\"ns1:PutReisInformatieBoodschapIn\": {\"@xmlns:ns1\": \"urn:ndov:cdm:trein:reisinformatie:messages:5\", \"@xmlns:ns2\": \"urn:ndov:cdm:trein:reisinformatie:data:4\", \"ns2:ReisInformatieProductDVS\": {\"@TimeStamp\": \"2020-05-10T22:51:18.814Z\", \"@Versie\": \"6.2\", \"ns2:RIPAdministratie\": {\"ns2:ReisInformatieProductID\": \"2005110051182500002\", \"ns2:AbonnementId\": \"54\", \"ns2:ReisInformatieTijdstip\": \"2020-05-10T22:51:00.000Z\"}, \"ns2:DynamischeVertrekStaat\": {\"ns2:RitId\": \"14686\", \"ns2:RitDatum\": \"2020-05-10\", \"ns2:RitStation\": {\"ns2:StationCode\": \"WP\", \"ns2:Type\": \"1\", \"ns2:KorteNaam\": \"Weesp\", \"ns2:MiddelNaam\": \"Weesp\", \"ns2:LangeNaam\": \"Weesp\", \"ns2:UICCode\": \"8400685\"}, \"ns2:Trein\": {\"ns2:TreinNummer\": \"14686\", \"ns2:TreinSoort\": {\"@Code\": \"SPR\", \"#text\": \"Sprinter\"}, \"ns2:TreinFormule\": \"1\", \"ns2:TreinStatus\": \"5\", \"ns2:Vervoerder\": \"NS\", \"ns2:Reserveren\": \"N\", \"ns2:Toeslag\": \"N\", \"ns2:NietInstappen\": \"N\", \"ns2:AchterBlijvenAchtersteTreinDeel\": \"N\", \"ns2:RangeerBeweging\": \"N\", \"ns2:SpeciaalKaartje\": \"N\", \"ns2:TreinEindBestemming\": [{\"@InfoStatus\": \"Gepland\", \"ns2:StationCode\": \"ASD\", \"ns2:Type\": \"6\", \"ns2:KorteNaam\": \"Amsterdm C\", \"ns2:MiddelNaam\": \"Amsterdam C.\", \"ns2:LangeNaam\": \"Amsterdam Centraal\", \"ns2:UICCode\": \"8400058\"}, {\"@InfoStatus\": \"Actueel\", \"ns2:StationCode\": \"ASD\", \"ns2:Type\": \"6\", \"ns2:KorteNaam\": \"Amsterdm C\", \"ns2:MiddelNaam\": \"Amsterdam C.\", \"ns2:LangeNaam\": \"Amsterdam Centraal\", \"ns2:UICCode\": \"8400058\"}], \"ns2:PresentatieTreinEindBestemming\": {\"ns2:Uitingen\": {\"ns2:Uiting\": \"Amsterdam Centraal\"}}, \"ns2:VertrekTijd\": [{\"@InfoStatus\": \"Gepland\", \"#text\": \"2020-05-10T22:51:00.000Z\"}, {\"@InfoStatus\": \"Actueel\", \"#text\": \"2020-05-10T22:51:00.000Z\"}], \"ns2:ExacteVertrekVertraging\": \"PT0S\", \"ns2:GedempteVertrekVertraging\": \"PT0S\", \"ns2:TreinVertrekSpoor\": [{\"@InfoStatus\": \"Gepland\", \"ns2:SpoorNummer\": \"6\"}, {\"@InfoStatus\": \"Actueel\", \"ns2:SpoorNummer\": \"6\"}], \"ns2:PresentatieTreinVertrekSpoor\": {\"ns2:Uitingen\": {\"ns2:Uiting\": \"6\"}}, \"ns2:VertrekRichting\": \"A\", \"ns2:AfstandPerronEindKopVertrekTrein\": \"0\", \"ns2:TreinVleugel\": {\"ns2:TreinVleugelVertrekSpoor\": [{\"@InfoStatus\": \"Gepland\", \"ns2:SpoorNummer\": \"6\"}, {\"@InfoStatus\": \"Actueel\", \"ns2:SpoorNummer\": \"6\"}], \"ns2:PresentatieTreinVleugelVertrekSpoor\": {\"ns2:Uitingen\": {\"ns2:Uiting\": \"6\"}}, \"ns2:TreinVleugelEindBestemming\": [{\"@InfoStatus\": \"Gepland\", \"ns2:StationCode\": \"ASD\", \"ns2:Type\": \"6\", \"ns2:KorteNaam\": \"Amsterdm C\", \"ns2:MiddelNaam\": \"Amsterdam C.\", \"ns2:LangeNaam\": \"Amsterdam Centraal\", \"ns2:UICCode\": \"8400058\"}, {\"@InfoStatus\": \"Actueel\", \"ns2:StationCode\": \"ASD\", \"ns2:Type\": \"6\", \"ns2:KorteNaam\": \"Amsterdm C\", \"ns2:MiddelNaam\": \"Amsterdam C.\", \"ns2:LangeNaam\": \"Amsterdam Centraal\", \"ns2:UICCode\": \"8400058\"}], \"ns2:PresentatieTreinVleugelEindBestemming\": {\"ns2:Uitingen\": {\"ns2:Uiting\": \"Amsterdam Centraal\"}}, \"ns2:StopStations\": [{\"@InfoStatus\": \"Gepland\", \"ns2:Station\": [{\"ns2:StationCode\": \"DMN\", \"ns2:Type\": \"0\", \"ns2:KorteNaam\": \"Diemen\", \"ns2:MiddelNaam\": \"Diemen\", \"ns2:LangeNaam\": \"Diemen\", \"ns2:UICCode\": \"8400165\"}, {\"ns2:StationCode\": \"ASSP\", \"ns2:Type\": \"0\", \"ns2:KorteNaam\": \"Scienceprk\", \"ns2:MiddelNaam\": \"Science Park\", \"ns2:LangeNaam\": \"Amsterdam Science Park\", \"ns2:UICCode\": \"8400235\"}, {\"ns2:StationCode\": \"ASDM\", \"ns2:Type\": \"0\", \"ns2:KorteNaam\": \"Muiderprt\", \"ns2:MiddelNaam\": \"Muiderpoort\", \"ns2:LangeNaam\": \"Amsterdam Muiderpoort\", \"ns2:UICCode\": \"8400060\"}, {\"ns2:StationCode\": \"ASD\", \"ns2:Type\": \"6\", \"ns2:KorteNaam\": \"Amsterdm C\", \"ns2:MiddelNaam\": \"Amsterdam C.\", \"ns2:LangeNaam\": \"Amsterdam Centraal\", \"ns2:UICCode\": \"8400058\"}]}, {\"@InfoStatus\": \"Actueel\", \"ns2:Station\": [{\"ns2:StationCode\": \"DMN\", \"ns2:Type\": \"0\", \"ns2:KorteNaam\": \"Diemen\", \"ns2:MiddelNaam\": \"Diemen\", \"ns2:LangeNaam\": \"Diemen\", \"ns2:UICCode\": \"8400165\"}, {\"ns2:StationCode\": \"ASSP\", \"ns2:Type\": \"0\", \"ns2:KorteNaam\": \"Scienceprk\", \"ns2:MiddelNaam\": \"Science Park\", \"ns2:LangeNaam\": \"Amsterdam Science Park\", \"ns2:UICCode\": \"8400235\"}, {\"ns2:StationCode\": \"ASDM\", \"ns2:Type\": \"0\", \"ns2:KorteNaam\": \"Muiderprt\", \"ns2:MiddelNaam\": \"Muiderpoort\", \"ns2:LangeNaam\": \"Amsterdam Muiderpoort\", \"ns2:UICCode\": \"8400060\"}, {\"ns2:StationCode\": \"ASD\", \"ns2:Type\": \"6\", \"ns2:KorteNaam\": \"Amsterdm C\", \"ns2:MiddelNaam\": \"Amsterdam C.\", \"ns2:LangeNaam\": \"Amsterdam Centraal\", \"ns2:UICCode\": \"8400058\"}]}], \"ns2:MaterieelDeelDVS\": [{\"ns2:MaterieelSoort\": \"SNG\", \"ns2:MaterieelAanduiding\": \"4\", \"ns2:MaterieelLengte\": \"7576\", \"ns2:MaterieelDeelVertrekPositie\": \"1\", \"ns2:MaterieelDeelVolgordeVertrek\": \"1\", \"ns2:MaterieelNummer\": \"000000-02738-0\", \"ns2:MaterieelDeelEindBestemming\": [{\"@InfoStatus\": \"Gepland\", \"ns2:StationCode\": \"ASD\", \"ns2:Type\": \"6\", \"ns2:KorteNaam\": \"Amsterdm C\", \"ns2:MiddelNaam\": \"Amsterdam C.\", \"ns2:LangeNaam\": \"Amsterdam Centraal\", \"ns2:UICCode\": \"8400058\"}, {\"@InfoStatus\": \"Actueel\", \"ns2:StationCode\": \"ASD\", \"ns2:Type\": \"6\", \"ns2:KorteNaam\": \"Amsterdm C\", \"ns2:MiddelNaam\": \"Amsterdam C.\", \"ns2:LangeNaam\": \"Amsterdam Centraal\", \"ns2:UICCode\": \"8400058\"}], \"ns2:PresentatieMaterieelDeelEindBestemming\": {\"ns2:Uitingen\": {\"ns2:Uiting\": \"Amsterdam Centraal\"}}}, {\"ns2:MaterieelSoort\": \"SNG\", \"ns2:MaterieelAanduiding\": \"3\", \"ns2:MaterieelLengte\": \"5956\", \"ns2:MaterieelDeelVertrekPositie\": \"3\", \"ns2:MaterieelDeelVolgordeVertrek\": \"2\", \"ns2:MaterieelNummer\": \"000000-02303-0\", \"ns2:MaterieelDeelEindBestemming\": [{\"@InfoStatus\": \"Gepland\", \"ns2:StationCode\": \"ASD\", \"ns2:Type\": \"6\", \"ns2:KorteNaam\": \"Amsterdm C\", \"ns2:MiddelNaam\": \"Amsterdam C.\", \"ns2:LangeNaam\": \"Amsterdam Centraal\", \"ns2:UICCode\": \"8400058\"}, {\"@InfoStatus\": \"Actueel\", \"ns2:StationCode\": \"ASD\", \"ns2:Type\": \"6\", \"ns2:KorteNaam\": \"Amsterdm C\", \"ns2:MiddelNaam\": \"Amsterdam C.\", \"ns2:LangeNaam\": \"Amsterdam Centraal\", \"ns2:UICCode\": \"8400058\"}], \"ns2:PresentatieMaterieelDeelEindBestemming\": {\"ns2:Uitingen\": {\"ns2:Uiting\": \"Amsterdam Centraal\"}}}]}, \"ns2:Wijziging\": {\"ns2:WijzigingType\": \"40\"}}}}}}')\n",
      "(None, u'{\"ns1:PutReisInformatieBoodschapIn\": {\"@xmlns:ns1\": \"urn:ndov:cdm:trein:reisinformatie:messages:5\", \"@xmlns:ns2\": \"urn:ndov:cdm:trein:reisinformatie:data:4\", \"ns2:ReisInformatieProductDVS\": {\"@TimeStamp\": \"2020-05-10T22:51:18.814Z\", \"@Versie\": \"6.2\", \"ns2:RIPAdministratie\": {\"ns2:ReisInformatieProductID\": \"2005110051182500003\", \"ns2:AbonnementId\": \"54\", \"ns2:ReisInformatieTijdstip\": \"2020-05-10T22:52:00.000Z\"}, \"ns2:DynamischeVertrekStaat\": {\"ns2:RitId\": \"703082\", \"ns2:RitDatum\": \"2020-05-10\", \"ns2:RitStation\": {\"ns2:StationCode\": \"AMRN\", \"ns2:Type\": \"0\", \"ns2:KorteNaam\": \"Alkmaar N\", \"ns2:MiddelNaam\": \"Alkmaar N.\", \"ns2:LangeNaam\": \"Alkmaar Noord\", \"ns2:UICCode\": \"8400052\"}, \"ns2:Trein\": {\"ns2:TreinNummer\": \"703082\", \"ns2:TreinSoort\": {\"@Code\": \"IC\", \"#text\": \"Intercity\"}, \"ns2:TreinFormule\": \"3\", \"ns2:TreinStatus\": \"2\", \"ns2:Vervoerder\": \"NS\", \"ns2:Reserveren\": \"N\", \"ns2:Toeslag\": \"N\", \"ns2:NietInstappen\": \"N\", \"ns2:AchterBlijvenAchtersteTreinDeel\": \"N\", \"ns2:RangeerBeweging\": \"N\", \"ns2:SpeciaalKaartje\": \"N\", \"ns2:ReisTip\": {\"ns2:ReisTipStation\": [{\"ns2:StationCode\": \"HWD\", \"ns2:Type\": \"1\", \"ns2:KorteNaam\": \"Heerhugow\", \"ns2:MiddelNaam\": \"Heerhugowaard\", \"ns2:LangeNaam\": \"Heerhugowaard\", \"ns2:UICCode\": \"8400306\"}, {\"ns2:StationCode\": \"SGN\", \"ns2:Type\": \"0\", \"ns2:KorteNaam\": \"Schagen\", \"ns2:MiddelNaam\": \"Schagen\", \"ns2:LangeNaam\": \"Schagen\", \"ns2:UICCode\": \"8400549\"}, {\"ns2:StationCode\": \"ANA\", \"ns2:Type\": \"0\", \"ns2:KorteNaam\": \"Anna Paulo\", \"ns2:MiddelNaam\": \"Anna Paulowna\", \"ns2:LangeNaam\": \"Anna Paulowna\", \"ns2:UICCode\": \"8400065\"}], \"ns2:ReisTipCode\": \"STO\", \"ns2:PresentatieReisTip\": {\"ns2:Uitingen\": [{\"@Taal\": \"nl\", \"ns2:Uiting\": {\"@Prioriteit\": \"7\", \"#text\": \"Stopt ook in Heerhugowaard, Schagen, Anna Paulowna\"}}, {\"@Taal\": \"en\", \"ns2:Uiting\": {\"@Prioriteit\": \"7\", \"#text\": \"Also stopping in Heerhugowaard, Schagen, Anna Paulowna\"}}]}}, \"ns2:TreinEindBestemming\": [{\"@InfoStatus\": \"Gepland\", \"ns2:StationCode\": \"HDR\", \"ns2:Type\": \"4\", \"ns2:KorteNaam\": \"Den Helder\", \"ns2:MiddelNaam\": \"Den Helder\", \"ns2:LangeNaam\": \"Den Helder\", \"ns2:UICCode\": \"8400311\"}, {\"@InfoStatus\": \"Actueel\", \"ns2:StationCode\": \"HDR\", \"ns2:Type\": \"4\", \"ns2:KorteNaam\": \"Den Helder\", \"ns2:MiddelNaam\": \"Den Helder\", \"ns2:LangeNaam\": \"Den Helder\", \"ns2:UICCode\": \"8400311\"}], \"ns2:PresentatieTreinEindBestemming\": {\"ns2:Uitingen\": {\"ns2:Uiting\": \"Den Helder\"}}, \"ns2:VertrekTijd\": [{\"@InfoStatus\": \"Gepland\", \"#text\": \"2020-05-10T22:52:00.000Z\"}, {\"@InfoStatus\": \"Actueel\", \"#text\": \"2020-05-10T22:52:00.000Z\"}], \"ns2:ExacteVertrekVertraging\": \"PT0S\", \"ns2:GedempteVertrekVertraging\": \"PT0S\", \"ns2:TreinVertrekSpoor\": [{\"@InfoStatus\": \"Gepland\", \"ns2:SpoorNummer\": \"2\"}, {\"@InfoStatus\": \"Actueel\", \"ns2:SpoorNummer\": \"2\"}], \"ns2:PresentatieTreinVertrekSpoor\": {\"ns2:Uitingen\": {\"ns2:Uiting\": \"2\"}}, \"ns2:VertrekRichting\": \"B\", \"ns2:AfstandPerronEindKopVertrekTrein\": \"0\", \"ns2:TreinVleugel\": {\"ns2:TreinVleugelVertrekSpoor\": [{\"@InfoStatus\": \"Gepland\", \"ns2:SpoorNummer\": \"2\"}, {\"@InfoStatus\": \"Actueel\", \"ns2:SpoorNummer\": \"2\"}], \"ns2:PresentatieTreinVleugelVertrekSpoor\": {\"ns2:Uitingen\": {\"ns2:Uiting\": \"2\"}}, \"ns2:TreinVleugelEindBestemming\": [{\"@InfoStatus\": \"Gepland\", \"ns2:StationCode\": \"HDR\", \"ns2:Type\": \"4\", \"ns2:KorteNaam\": \"Den Helder\", \"ns2:MiddelNaam\": \"Den Helder\", \"ns2:LangeNaam\": \"Den Helder\", \"ns2:UICCode\": \"8400311\"}, {\"@InfoStatus\": \"Actueel\", \"ns2:StationCode\": \"HDR\", \"ns2:Type\": \"4\", \"ns2:KorteNaam\": \"Den Helder\", \"ns2:MiddelNaam\": \"Den Helder\", \"ns2:LangeNaam\": \"Den Helder\", \"ns2:UICCode\": \"8400311\"}], \"ns2:PresentatieTreinVleugelEindBestemming\": {\"ns2:Uitingen\": {\"ns2:Uiting\": \"Den Helder\"}}, \"ns2:StopStations\": [{\"@InfoStatus\": \"Gepland\", \"ns2:Station\": [{\"ns2:StationCode\": \"HWD\", \"ns2:Type\": \"1\", \"ns2:KorteNaam\": \"Heerhugow\", \"ns2:MiddelNaam\": \"Heerhugowaard\", \"ns2:LangeNaam\": \"Heerhugowaard\", \"ns2:UICCode\": \"8400306\"}, {\"ns2:StationCode\": \"SGN\", \"ns2:Type\": \"0\", \"ns2:KorteNaam\": \"Schagen\", \"ns2:MiddelNaam\": \"Schagen\", \"ns2:LangeNaam\": \"Schagen\", \"ns2:UICCode\": \"8400549\"}, {\"ns2:StationCode\": \"ANA\", \"ns2:Type\": \"0\", \"ns2:KorteNaam\": \"Anna Paulo\", \"ns2:MiddelNaam\": \"Anna Paulowna\", \"ns2:LangeNaam\": \"Anna Paulowna\", \"ns2:UICCode\": \"8400065\"}, {\"ns2:StationCode\": \"HDRZ\", \"ns2:Type\": \"0\", \"ns2:KorteNaam\": \"Dn Heldr Z\", \"ns2:MiddelNaam\": \"Den Helder Z.\", \"ns2:LangeNaam\": \"Den Helder Zuid\", \"ns2:UICCode\": \"8400303\"}, {\"ns2:StationCode\": \"HDR\", \"ns2:Type\": \"4\", \"ns2:KorteNaam\": \"Den Helder\", \"ns2:MiddelNaam\": \"Den Helder\", \"ns2:LangeNaam\": \"Den Helder\", \"ns2:UICCode\": \"8400311\"}]}, {\"@InfoStatus\": \"Actueel\", \"ns2:Station\": [{\"ns2:StationCode\": \"HWD\", \"ns2:Type\": \"1\", \"ns2:KorteNaam\": \"Heerhugow\", \"ns2:MiddelNaam\": \"Heerhugowaard\", \"ns2:LangeNaam\": \"Heerhugowaard\", \"ns2:UICCode\": \"8400306\"}, {\"ns2:StationCode\": \"SGN\", \"ns2:Type\": \"0\", \"ns2:KorteNaam\": \"Schagen\", \"ns2:MiddelNaam\": \"Schagen\", \"ns2:LangeNaam\": \"Schagen\", \"ns2:UICCode\": \"8400549\"}, {\"ns2:StationCode\": \"ANA\", \"ns2:Type\": \"0\", \"ns2:KorteNaam\": \"Anna Paulo\", \"ns2:MiddelNaam\": \"Anna Paulowna\", \"ns2:LangeNaam\": \"Anna Paulowna\", \"ns2:UICCode\": \"8400065\"}, {\"ns2:StationCode\": \"HDRZ\", \"ns2:Type\": \"0\", \"ns2:KorteNaam\": \"Dn Heldr Z\", \"ns2:MiddelNaam\": \"Den Helder Z.\", \"ns2:LangeNaam\": \"Den Helder Zuid\", \"ns2:UICCode\": \"8400303\"}, {\"ns2:StationCode\": \"HDR\", \"ns2:Type\": \"4\", \"ns2:KorteNaam\": \"Den Helder\", \"ns2:MiddelNaam\": \"Den Helder\", \"ns2:LangeNaam\": \"Den Helder\", \"ns2:UICCode\": \"8400311\"}]}], \"ns2:MaterieelDeelDVS\": {\"ns2:MaterieelSoort\": \"VIRM\", \"ns2:MaterieelAanduiding\": \"6\", \"ns2:MaterieelLengte\": \"16210\", \"ns2:MaterieelNummer\": \"000000-08715-0\", \"ns2:MaterieelDeelEindBestemming\": [{\"@InfoStatus\": \"Gepland\", \"ns2:StationCode\": \"HDR\", \"ns2:Type\": \"4\", \"ns2:KorteNaam\": \"Den Helder\", \"ns2:MiddelNaam\": \"Den Helder\", \"ns2:LangeNaam\": \"Den Helder\", \"ns2:UICCode\": \"8400311\"}, {\"@InfoStatus\": \"Actueel\", \"ns2:StationCode\": \"HDR\", \"ns2:Type\": \"4\", \"ns2:KorteNaam\": \"Den Helder\", \"ns2:MiddelNaam\": \"Den Helder\", \"ns2:LangeNaam\": \"Den Helder\", \"ns2:UICCode\": \"8400311\"}], \"ns2:PresentatieMaterieelDeelEindBestemming\": {\"ns2:Uitingen\": {\"ns2:Uiting\": \"Den Helder\"}}}}, \"ns2:Wijziging\": {\"ns2:WijzigingType\": \"40\"}}, \"ns2:PresentatieOpmerkingen\": {\"ns2:Uitingen\": [{\"@Taal\": \"nl\", \"ns2:Uiting\": {\"@Prioriteit\": \"13\", \"@ReferentieType\": \"ReisTip\", \"@ReferentieWaarde\": \"STO\", \"#text\": \"Stopt ook in Heerhugowaard, Schagen, Anna Paulowna\"}}, {\"@Taal\": \"en\", \"ns2:Uiting\": {\"@Prioriteit\": \"13\", \"@ReferentieType\": \"ReisTip\", \"@ReferentieWaarde\": \"STO\", \"#text\": \"Also stopping in Heerhugowaard, Schagen, Anna Paulowna\"}}]}}}}}')\n",
      "(None, u'{\"ns1:PutReisInformatieBoodschapIn\": {\"@xmlns:ns1\": \"urn:ndov:cdm:trein:reisinformatie:messages:5\", \"@xmlns:ns2\": \"urn:ndov:cdm:trein:reisinformatie:data:4\", \"ns2:ReisInformatieProductDVS\": {\"@TimeStamp\": \"2020-05-10T22:51:22.168Z\", \"@Versie\": \"6.2\", \"ns2:RIPAdministratie\": {\"ns2:ReisInformatieProductID\": \"2005110051222300002\", \"ns2:AbonnementId\": \"54\", \"ns2:ReisInformatieTijdstip\": \"2020-05-10T22:54:00.000Z\"}, \"ns2:DynamischeVertrekStaat\": {\"ns2:RitId\": \"6380\", \"ns2:RitDatum\": \"2020-05-10\", \"ns2:RitStation\": {\"ns2:StationCode\": \"HIL\", \"ns2:Type\": \"0\", \"ns2:KorteNaam\": \"Hillegom\", \"ns2:MiddelNaam\": \"Hillegom\", \"ns2:LangeNaam\": \"Hillegom\", \"ns2:UICCode\": \"8400329\"}, \"ns2:Trein\": {\"ns2:TreinNummer\": \"6380\", \"ns2:TreinSoort\": {\"@Code\": \"SPR\", \"#text\": \"Sprinter\"}, \"ns2:TreinFormule\": \"1\", \"ns2:TreinStatus\": \"2\", \"ns2:Vervoerder\": \"NS\", \"ns2:Reserveren\": \"N\", \"ns2:Toeslag\": \"N\", \"ns2:NietInstappen\": \"N\", \"ns2:AchterBlijvenAchtersteTreinDeel\": \"N\", \"ns2:RangeerBeweging\": \"N\", \"ns2:SpeciaalKaartje\": \"N\", \"ns2:TreinEindBestemming\": [{\"@InfoStatus\": \"Gepland\", \"ns2:StationCode\": \"HLM\", \"ns2:Type\": \"5\", \"ns2:KorteNaam\": \"Haarlem\", \"ns2:MiddelNaam\": \"Haarlem\", \"ns2:LangeNaam\": \"Haarlem\", \"ns2:UICCode\": \"8400285\"}, {\"@InfoStatus\": \"Actueel\", \"ns2:StationCode\": \"HLM\", \"ns2:Type\": \"5\", \"ns2:KorteNaam\": \"Haarlem\", \"ns2:MiddelNaam\": \"Haarlem\", \"ns2:LangeNaam\": \"Haarlem\", \"ns2:UICCode\": \"8400285\"}], \"ns2:PresentatieTreinEindBestemming\": {\"ns2:Uitingen\": {\"ns2:Uiting\": \"Haarlem\"}}, \"ns2:VertrekTijd\": [{\"@InfoStatus\": \"Gepland\", \"#text\": \"2020-05-10T22:54:00.000Z\"}, {\"@InfoStatus\": \"Actueel\", \"#text\": \"2020-05-10T22:54:00.000Z\"}], \"ns2:ExacteVertrekVertraging\": \"PT0S\", \"ns2:GedempteVertrekVertraging\": \"PT0S\", \"ns2:TreinVertrekSpoor\": [{\"@InfoStatus\": \"Gepland\", \"ns2:SpoorNummer\": \"1\"}, {\"@InfoStatus\": \"Actueel\", \"ns2:SpoorNummer\": \"1\"}], \"ns2:PresentatieTreinVertrekSpoor\": {\"ns2:Uitingen\": {\"ns2:Uiting\": \"1\"}}, \"ns2:VertrekRichting\": \"A\", \"ns2:AfstandPerronEindKopVertrekTrein\": \"0\", \"ns2:TreinVleugel\": {\"ns2:TreinVleugelVertrekSpoor\": [{\"@InfoStatus\": \"Gepland\", \"ns2:SpoorNummer\": \"1\"}, {\"@InfoStatus\": \"Actueel\", \"ns2:SpoorNummer\": \"1\"}], \"ns2:PresentatieTreinVleugelVertrekSpoor\": {\"ns2:Uitingen\": {\"ns2:Uiting\": \"1\"}}, \"ns2:TreinVleugelEindBestemming\": [{\"@InfoStatus\": \"Gepland\", \"ns2:StationCode\": \"HLM\", \"ns2:Type\": \"5\", \"ns2:KorteNaam\": \"Haarlem\", \"ns2:MiddelNaam\": \"Haarlem\", \"ns2:LangeNaam\": \"Haarlem\", \"ns2:UICCode\": \"8400285\"}, {\"@InfoStatus\": \"Actueel\", \"ns2:StationCode\": \"HLM\", \"ns2:Type\": \"5\", \"ns2:KorteNaam\": \"Haarlem\", \"ns2:MiddelNaam\": \"Haarlem\", \"ns2:LangeNaam\": \"Haarlem\", \"ns2:UICCode\": \"8400285\"}], \"ns2:PresentatieTreinVleugelEindBestemming\": {\"ns2:Uitingen\": {\"ns2:Uiting\": \"Haarlem\"}}, \"ns2:StopStations\": [{\"@InfoStatus\": \"Gepland\", \"ns2:Station\": [{\"ns2:StationCode\": \"HAD\", \"ns2:Type\": \"4\", \"ns2:KorteNaam\": \"Heemstede\", \"ns2:MiddelNaam\": \"Heemstede-A.\", \"ns2:LangeNaam\": \"Heemstede-Aerdenhout\", \"ns2:UICCode\": \"8400302\"}, {\"ns2:StationCode\": \"HLM\", \"ns2:Type\": \"5\", \"ns2:KorteNaam\": \"Haarlem\", \"ns2:MiddelNaam\": \"Haarlem\", \"ns2:LangeNaam\": \"Haarlem\", \"ns2:UICCode\": \"8400285\"}]}, {\"@InfoStatus\": \"Actueel\", \"ns2:Station\": [{\"ns2:StationCode\": \"HAD\", \"ns2:Type\": \"4\", \"ns2:KorteNaam\": \"Heemstede\", \"ns2:MiddelNaam\": \"Heemstede-A.\", \"ns2:LangeNaam\": \"Heemstede-Aerdenhout\", \"ns2:UICCode\": \"8400302\"}, {\"ns2:StationCode\": \"HLM\", \"ns2:Type\": \"5\", \"ns2:KorteNaam\": \"Haarlem\", \"ns2:MiddelNaam\": \"Haarlem\", \"ns2:LangeNaam\": \"Haarlem\", \"ns2:UICCode\": \"8400285\"}]}], \"ns2:MaterieelDeelDVS\": {\"ns2:MaterieelSoort\": \"SNG\", \"ns2:MaterieelAanduiding\": \"4\", \"ns2:MaterieelLengte\": \"7576\", \"ns2:MaterieelNummer\": \"000000-02709-0\", \"ns2:MaterieelDeelEindBestemming\": [{\"@InfoStatus\": \"Gepland\", \"ns2:StationCode\": \"HLM\", \"ns2:Type\": \"5\", \"ns2:KorteNaam\": \"Haarlem\", \"ns2:MiddelNaam\": \"Haarlem\", \"ns2:LangeNaam\": \"Haarlem\", \"ns2:UICCode\": \"8400285\"}, {\"@InfoStatus\": \"Actueel\", \"ns2:StationCode\": \"HLM\", \"ns2:Type\": \"5\", \"ns2:KorteNaam\": \"Haarlem\", \"ns2:MiddelNaam\": \"Haarlem\", \"ns2:LangeNaam\": \"Haarlem\", \"ns2:UICCode\": \"8400285\"}], \"ns2:PresentatieMaterieelDeelEindBestemming\": {\"ns2:Uitingen\": {\"ns2:Uiting\": \"Haarlem\"}}}}, \"ns2:Wijziging\": {\"ns2:WijzigingType\": \"40\"}}}}}}')\n",
      "(None, u'{\"ns1:PutReisInformatieBoodschapIn\": {\"@xmlns:ns1\": \"urn:ndov:cdm:trein:reisinformatie:messages:5\", \"@xmlns:ns2\": \"urn:ndov:cdm:trein:reisinformatie:data:4\", \"ns2:ReisInformatieProductDVS\": {\"@TimeStamp\": \"2020-05-10T22:51:23.803Z\", \"@Versie\": \"6.2\", \"ns2:RIPAdministratie\": {\"ns2:ReisInformatieProductID\": \"2005110051232300002\", \"ns2:AbonnementId\": \"54\", \"ns2:ReisInformatieTijdstip\": \"2020-05-10T22:51:00.000Z\"}, \"ns2:DynamischeVertrekStaat\": {\"ns2:RitId\": \"14691\", \"ns2:RitDatum\": \"2020-05-10\", \"ns2:RitStation\": {\"ns2:StationCode\": \"ALMM\", \"ns2:Type\": \"0\", \"ns2:KorteNaam\": \"Muziekwijk\", \"ns2:MiddelNaam\": \"Muziekwijk\", \"ns2:LangeNaam\": \"Almere Muziekwijk\", \"ns2:UICCode\": \"8400082\"}, \"ns2:Trein\": {\"ns2:TreinNummer\": \"14691\", \"ns2:TreinSoort\": {\"@Code\": \"SPR\", \"#text\": \"Sprinter\"}, \"ns2:TreinFormule\": \"1\", \"ns2:TreinStatus\": \"5\", \"ns2:Vervoerder\": \"NS\", \"ns2:Reserveren\": \"N\", \"ns2:Toeslag\": \"N\", \"ns2:NietInstappen\": \"N\", \"ns2:AchterBlijvenAchtersteTreinDeel\": \"N\", \"ns2:RangeerBeweging\": \"N\", \"ns2:SpeciaalKaartje\": \"N\", \"ns2:TreinEindBestemming\": [{\"@InfoStatus\": \"Gepland\", \"ns2:StationCode\": \"LLS\", \"ns2:Type\": \"5\", \"ns2:KorteNaam\": \"Lelystad C\", \"ns2:MiddelNaam\": \"Lelystad C.\", \"ns2:LangeNaam\": \"Lelystad Centrum\", \"ns2:UICCode\": \"8400394\"}, {\"@InfoStatus\": \"Actueel\", \"ns2:StationCode\": \"LLS\", \"ns2:Type\": \"5\", \"ns2:KorteNaam\": \"Lelystad C\", \"ns2:MiddelNaam\": \"Lelystad C.\", \"ns2:LangeNaam\": \"Lelystad Centrum\", \"ns2:UICCode\": \"8400394\"}], \"ns2:PresentatieTreinEindBestemming\": {\"ns2:Uitingen\": {\"ns2:Uiting\": \"Lelystad Centrum\"}}, \"ns2:VertrekTijd\": [{\"@InfoStatus\": \"Gepland\", \"#text\": \"2020-05-10T22:51:00.000Z\"}, {\"@InfoStatus\": \"Actueel\", \"#text\": \"2020-05-10T22:51:00.000Z\"}], \"ns2:ExacteVertrekVertraging\": \"PT0S\", \"ns2:GedempteVertrekVertraging\": \"PT0S\", \"ns2:TreinVertrekSpoor\": [{\"@InfoStatus\": \"Gepland\", \"ns2:SpoorNummer\": \"2\"}, {\"@InfoStatus\": \"Actueel\", \"ns2:SpoorNummer\": \"2\"}], \"ns2:PresentatieTreinVertrekSpoor\": {\"ns2:Uitingen\": {\"ns2:Uiting\": \"2\"}}, \"ns2:VertrekRichting\": \"B\", \"ns2:AfstandPerronEindKopVertrekTrein\": \"0\", \"ns2:VerkorteRoute\": [{\"@InfoStatus\": \"Gepland\", \"ns2:Station\": {\"ns2:StationCode\": \"ALM\", \"ns2:Type\": \"5\", \"ns2:KorteNaam\": \"Almere C\", \"ns2:MiddelNaam\": \"Almere C.\", \"ns2:LangeNaam\": \"Almere Centrum\", \"ns2:UICCode\": \"8400080\"}}, {\"@InfoStatus\": \"Actueel\", \"ns2:Station\": {\"ns2:StationCode\": \"ALM\", \"ns2:Type\": \"5\", \"ns2:KorteNaam\": \"Almere C\", \"ns2:MiddelNaam\": \"Almere C.\", \"ns2:LangeNaam\": \"Almere Centrum\", \"ns2:UICCode\": \"8400080\"}}], \"ns2:PresentatieVerkorteRoute\": {\"ns2:Uitingen\": {\"ns2:Uiting\": \"Almere C.\"}}, \"ns2:TreinVleugel\": {\"ns2:TreinVleugelVertrekSpoor\": [{\"@InfoStatus\": \"Gepland\", \"ns2:SpoorNummer\": \"2\"}, {\"@InfoStatus\": \"Actueel\", \"ns2:SpoorNummer\": \"2\"}], \"ns2:PresentatieTreinVleugelVertrekSpoor\": {\"ns2:Uitingen\": {\"ns2:Uiting\": \"2\"}}, \"ns2:TreinVleugelEindBestemming\": [{\"@InfoStatus\": \"Gepland\", \"ns2:StationCode\": \"LLS\", \"ns2:Type\": \"5\", \"ns2:KorteNaam\": \"Lelystad C\", \"ns2:MiddelNaam\": \"Lelystad C.\", \"ns2:LangeNaam\": \"Lelystad Centrum\", \"ns2:UICCode\": \"8400394\"}, {\"@InfoStatus\": \"Actueel\", \"ns2:StationCode\": \"LLS\", \"ns2:Type\": \"5\", \"ns2:KorteNaam\": \"Lelystad C\", \"ns2:MiddelNaam\": \"Lelystad C.\", \"ns2:LangeNaam\": \"Lelystad Centrum\", \"ns2:UICCode\": \"8400394\"}], \"ns2:PresentatieTreinVleugelEindBestemming\": {\"ns2:Uitingen\": {\"ns2:Uiting\": \"Lelystad Centrum\"}}, \"ns2:StopStations\": [{\"@InfoStatus\": \"Gepland\", \"ns2:Station\": [{\"ns2:StationCode\": \"ALM\", \"ns2:Type\": \"5\", \"ns2:KorteNaam\": \"Almere C\", \"ns2:MiddelNaam\": \"Almere C.\", \"ns2:LangeNaam\": \"Almere Centrum\", \"ns2:UICCode\": \"8400080\"}, {\"ns2:StationCode\": \"ALMP\", \"ns2:Type\": \"0\", \"ns2:KorteNaam\": \"Parkwijk\", \"ns2:MiddelNaam\": \"Parkwijk\", \"ns2:LangeNaam\": \"Almere Parkwijk\", \"ns2:UICCode\": \"8400104\"}, {\"ns2:StationCode\": \"ALMB\", \"ns2:Type\": \"0\", \"ns2:KorteNaam\": \"Buiten\", \"ns2:MiddelNaam\": \"Buiten\", \"ns2:LangeNaam\": \"Almere Buiten\", \"ns2:UICCode\": \"8400081\"}, {\"ns2:StationCode\": \"ALMO\", \"ns2:Type\": \"0\", \"ns2:KorteNaam\": \"Oostvaard\", \"ns2:MiddelNaam\": \"Oostvaarders\", \"ns2:LangeNaam\": \"Almere Oostvaarders\", \"ns2:UICCode\": \"8400226\"}, {\"ns2:StationCode\": \"LLS\", \"ns2:Type\": \"5\", \"ns2:KorteNaam\": \"Lelystad C\", \"ns2:MiddelNaam\": \"Lelystad C.\", \"ns2:LangeNaam\": \"Lelystad Centrum\", \"ns2:UICCode\": \"8400394\"}]}, {\"@InfoStatus\": \"Actueel\", \"ns2:Station\": [{\"ns2:StationCode\": \"ALM\", \"ns2:Type\": \"5\", \"ns2:KorteNaam\": \"Almere C\", \"ns2:MiddelNaam\": \"Almere C.\", \"ns2:LangeNaam\": \"Almere Centrum\", \"ns2:UICCode\": \"8400080\"}, {\"ns2:StationCode\": \"ALMP\", \"ns2:Type\": \"0\", \"ns2:KorteNaam\": \"Parkwijk\", \"ns2:MiddelNaam\": \"Parkwijk\", \"ns2:LangeNaam\": \"Almere Parkwijk\", \"ns2:UICCode\": \"8400104\"}, {\"ns2:StationCode\": \"ALMB\", \"ns2:Type\": \"0\", \"ns2:KorteNaam\": \"Buiten\", \"ns2:MiddelNaam\": \"Buiten\", \"ns2:LangeNaam\": \"Almere Buiten\", \"ns2:UICCode\": \"8400081\"}, {\"ns2:StationCode\": \"ALMO\", \"ns2:Type\": \"0\", \"ns2:KorteNaam\": \"Oostvaard\", \"ns2:MiddelNaam\": \"Oostvaarders\", \"ns2:LangeNaam\": \"Almere Oostvaarders\", \"ns2:UICCode\": \"8400226\"}, {\"ns2:StationCode\": \"LLS\", \"ns2:Type\": \"5\", \"ns2:KorteNaam\": \"Lelystad C\", \"ns2:MiddelNaam\": \"Lelystad C.\", \"ns2:LangeNaam\": \"Lelystad Centrum\", \"ns2:UICCode\": \"8400394\"}]}], \"ns2:MaterieelDeelDVS\": [{\"ns2:MaterieelSoort\": \"SNG\", \"ns2:MaterieelAanduiding\": \"3\", \"ns2:MaterieelLengte\": \"5956\", \"ns2:MaterieelDeelVertrekPositie\": \"1\", \"ns2:MaterieelDeelVolgordeVertrek\": \"1\", \"ns2:MaterieelNummer\": \"000000-02335-0\", \"ns2:MaterieelDeelEindBestemming\": [{\"@InfoStatus\": \"Gepland\", \"ns2:StationCode\": \"LLS\", \"ns2:Type\": \"5\", \"ns2:KorteNaam\": \"Lelystad C\", \"ns2:MiddelNaam\": \"Lelystad C.\", \"ns2:LangeNaam\": \"Lelystad Centrum\", \"ns2:UICCode\": \"8400394\"}, {\"@InfoStatus\": \"Actueel\", \"ns2:StationCode\": \"LLS\", \"ns2:Type\": \"5\", \"ns2:KorteNaam\": \"Lelystad C\", \"ns2:MiddelNaam\": \"Lelystad C.\", \"ns2:LangeNaam\": \"Lelystad Centrum\", \"ns2:UICCode\": \"8400394\"}], \"ns2:PresentatieMaterieelDeelEindBestemming\": {\"ns2:Uitingen\": {\"ns2:Uiting\": \"Lelystad Centrum\"}}}, {\"ns2:MaterieelSoort\": \"SNG\", \"ns2:MaterieelAanduiding\": \"4\", \"ns2:MaterieelLengte\": \"7576\", \"ns2:MaterieelDeelVertrekPositie\": \"3\", \"ns2:MaterieelDeelVolgordeVertrek\": \"2\", \"ns2:MaterieelNummer\": \"000000-02710-0\", \"ns2:MaterieelDeelEindBestemming\": [{\"@InfoStatus\": \"Gepland\", \"ns2:StationCode\": \"LLS\", \"ns2:Type\": \"5\", \"ns2:KorteNaam\": \"Lelystad C\", \"ns2:MiddelNaam\": \"Lelystad C.\", \"ns2:LangeNaam\": \"Lelystad Centrum\", \"ns2:UICCode\": \"8400394\"}, {\"@InfoStatus\": \"Actueel\", \"ns2:StationCode\": \"LLS\", \"ns2:Type\": \"5\", \"ns2:KorteNaam\": \"Lelystad C\", \"ns2:MiddelNaam\": \"Lelystad C.\", \"ns2:LangeNaam\": \"Lelystad Centrum\", \"ns2:UICCode\": \"8400394\"}], \"ns2:PresentatieMaterieelDeelEindBestemming\": {\"ns2:Uitingen\": {\"ns2:Uiting\": \"Lelystad Centrum\"}}}]}, \"ns2:Wijziging\": {\"ns2:WijzigingType\": \"40\"}}}}}}')\n",
      "(None, u'{\"ns1:PutReisInformatieBoodschapIn\": {\"@xmlns:ns1\": \"urn:ndov:cdm:trein:reisinformatie:messages:5\", \"@xmlns:ns2\": \"urn:ndov:cdm:trein:reisinformatie:data:4\", \"ns2:ReisInformatieProductDVS\": {\"@TimeStamp\": \"2020-05-10T22:51:25.144Z\", \"@Versie\": \"6.2\", \"ns2:RIPAdministratie\": {\"ns2:ReisInformatieProductID\": \"2005110051252100001\", \"ns2:AbonnementId\": \"54\", \"ns2:ReisInformatieTijdstip\": \"2020-05-10T22:51:00.000Z\"}, \"ns2:DynamischeVertrekStaat\": {\"ns2:RitId\": \"202282\", \"ns2:RitDatum\": \"2020-05-10\", \"ns2:RitStation\": {\"ns2:StationCode\": \"RTD\", \"ns2:Type\": \"6\", \"ns2:KorteNaam\": \"Rotterdm C\", \"ns2:MiddelNaam\": \"Rotterdam C.\", \"ns2:LangeNaam\": \"Rotterdam Centraal\", \"ns2:UICCode\": \"8400530\"}, \"ns2:Trein\": {\"ns2:TreinNummer\": \"202282\", \"ns2:TreinSoort\": {\"@Code\": \"IC\", \"#text\": \"Intercity\"}, \"ns2:TreinFormule\": \"3\", \"ns2:TreinStatus\": \"5\", \"ns2:Vervoerder\": \"NS\", \"ns2:Reserveren\": \"N\", \"ns2:Toeslag\": \"N\", \"ns2:NietInstappen\": \"N\", \"ns2:AchterBlijvenAchtersteTreinDeel\": \"N\", \"ns2:RangeerBeweging\": \"N\", \"ns2:SpeciaalKaartje\": \"N\", \"ns2:ReisTip\": {\"ns2:ReisTipStation\": {\"ns2:StationCode\": \"RTB\", \"ns2:Type\": \"0\", \"ns2:KorteNaam\": \"Blaak\", \"ns2:MiddelNaam\": \"Blaak\", \"ns2:LangeNaam\": \"Rotterdam Blaak\", \"ns2:UICCode\": \"8400529\"}, \"ns2:ReisTipCode\": \"STO\", \"ns2:PresentatieReisTip\": {\"ns2:Uitingen\": [{\"@Taal\": \"nl\", \"ns2:Uiting\": {\"@Prioriteit\": \"7\", \"#text\": \"Stopt ook in Blaak\"}}, {\"@Taal\": \"en\", \"ns2:Uiting\": {\"@Prioriteit\": \"7\", \"#text\": \"Also stopping in Blaak\"}}]}}, \"ns2:TreinEindBestemming\": [{\"@InfoStatus\": \"Gepland\", \"ns2:StationCode\": \"DDR\", \"ns2:Type\": \"5\", \"ns2:KorteNaam\": \"Dordrecht\", \"ns2:MiddelNaam\": \"Dordrecht\", \"ns2:LangeNaam\": \"Dordrecht\", \"ns2:UICCode\": \"8400180\"}, {\"@InfoStatus\": \"Actueel\", \"ns2:StationCode\": \"DDR\", \"ns2:Type\": \"5\", \"ns2:KorteNaam\": \"Dordrecht\", \"ns2:MiddelNaam\": \"Dordrecht\", \"ns2:LangeNaam\": \"Dordrecht\", \"ns2:UICCode\": \"8400180\"}], \"ns2:PresentatieTreinEindBestemming\": {\"ns2:Uitingen\": {\"ns2:Uiting\": \"Dordrecht\"}}, \"ns2:VertrekTijd\": [{\"@InfoStatus\": \"Gepland\", \"#text\": \"2020-05-10T22:51:00.000Z\"}, {\"@InfoStatus\": \"Actueel\", \"#text\": \"2020-05-10T22:51:00.000Z\"}], \"ns2:ExacteVertrekVertraging\": \"PT0S\", \"ns2:GedempteVertrekVertraging\": \"PT0S\", \"ns2:TreinVertrekSpoor\": [{\"@InfoStatus\": \"Gepland\", \"ns2:SpoorNummer\": \"8\"}, {\"@InfoStatus\": \"Actueel\", \"ns2:SpoorNummer\": \"8\"}], \"ns2:PresentatieTreinVertrekSpoor\": {\"ns2:Uitingen\": {\"ns2:Uiting\": \"8\"}}, \"ns2:VertrekRichting\": \"B\", \"ns2:AfstandPerronEindKopVertrekTrein\": \"0\", \"ns2:TreinVleugel\": {\"ns2:TreinVleugelVertrekSpoor\": [{\"@InfoStatus\": \"Gepland\", \"ns2:SpoorNummer\": \"8\"}, {\"@InfoStatus\": \"Actueel\", \"ns2:SpoorNummer\": \"8\"}], \"ns2:PresentatieTreinVleugelVertrekSpoor\": {\"ns2:Uitingen\": {\"ns2:Uiting\": \"8\"}}, \"ns2:TreinVleugelEindBestemming\": [{\"@InfoStatus\": \"Gepland\", \"ns2:StationCode\": \"DDR\", \"ns2:Type\": \"5\", \"ns2:KorteNaam\": \"Dordrecht\", \"ns2:MiddelNaam\": \"Dordrecht\", \"ns2:LangeNaam\": \"Dordrecht\", \"ns2:UICCode\": \"8400180\"}, {\"@InfoStatus\": \"Actueel\", \"ns2:StationCode\": \"DDR\", \"ns2:Type\": \"5\", \"ns2:KorteNaam\": \"Dordrecht\", \"ns2:MiddelNaam\": \"Dordrecht\", \"ns2:LangeNaam\": \"Dordrecht\", \"ns2:UICCode\": \"8400180\"}], \"ns2:PresentatieTreinVleugelEindBestemming\": {\"ns2:Uitingen\": {\"ns2:Uiting\": \"Dordrecht\"}}, \"ns2:StopStations\": [{\"@InfoStatus\": \"Gepland\", \"ns2:Station\": [{\"ns2:StationCode\": \"RTB\", \"ns2:Type\": \"0\", \"ns2:KorteNaam\": \"Blaak\", \"ns2:MiddelNaam\": \"Blaak\", \"ns2:LangeNaam\": \"Rotterdam Blaak\", \"ns2:UICCode\": \"8400529\"}, {\"ns2:StationCode\": \"DDR\", \"ns2:Type\": \"5\", \"ns2:KorteNaam\": \"Dordrecht\", \"ns2:MiddelNaam\": \"Dordrecht\", \"ns2:LangeNaam\": \"Dordrecht\", \"ns2:UICCode\": \"8400180\"}]}, {\"@InfoStatus\": \"Actueel\", \"ns2:Station\": [{\"ns2:StationCode\": \"RTB\", \"ns2:Type\": \"0\", \"ns2:KorteNaam\": \"Blaak\", \"ns2:MiddelNaam\": \"Blaak\", \"ns2:LangeNaam\": \"Rotterdam Blaak\", \"ns2:UICCode\": \"8400529\"}, {\"ns2:StationCode\": \"DDR\", \"ns2:Type\": \"5\", \"ns2:KorteNaam\": \"Dordrecht\", \"ns2:MiddelNaam\": \"Dordrecht\", \"ns2:LangeNaam\": \"Dordrecht\", \"ns2:UICCode\": \"8400180\"}]}], \"ns2:MaterieelDeelDVS\": {\"ns2:MaterieelSoort\": \"VIRM\", \"ns2:MaterieelAanduiding\": \"6\", \"ns2:MaterieelLengte\": \"16210\", \"ns2:MaterieelNummer\": \"000000-08705-0\", \"ns2:MaterieelDeelEindBestemming\": [{\"@InfoStatus\": \"Gepland\", \"ns2:StationCode\": \"DDR\", \"ns2:Type\": \"5\", \"ns2:KorteNaam\": \"Dordrecht\", \"ns2:MiddelNaam\": \"Dordrecht\", \"ns2:LangeNaam\": \"Dordrecht\", \"ns2:UICCode\": \"8400180\"}, {\"@InfoStatus\": \"Actueel\", \"ns2:StationCode\": \"DDR\", \"ns2:Type\": \"5\", \"ns2:KorteNaam\": \"Dordrecht\", \"ns2:MiddelNaam\": \"Dordrecht\", \"ns2:LangeNaam\": \"Dordrecht\", \"ns2:UICCode\": \"8400180\"}], \"ns2:PresentatieMaterieelDeelEindBestemming\": {\"ns2:Uitingen\": {\"ns2:Uiting\": \"Dordrecht\"}}}}, \"ns2:Wijziging\": {\"ns2:WijzigingType\": \"40\"}}, \"ns2:PresentatieOpmerkingen\": {\"ns2:Uitingen\": [{\"@Taal\": \"nl\", \"ns2:Uiting\": {\"@Prioriteit\": \"13\", \"@ReferentieType\": \"ReisTip\", \"@ReferentieWaarde\": \"STO\", \"#text\": \"Stopt ook in Blaak\"}}, {\"@Taal\": \"en\", \"ns2:Uiting\": {\"@Prioriteit\": \"13\", \"@ReferentieType\": \"ReisTip\", \"@ReferentieWaarde\": \"STO\", \"#text\": \"Also stopping in Blaak\"}}]}}}}}')\n",
      "(None, u'{\"ns1:PutReisInformatieBoodschapIn\": {\"@xmlns:ns1\": \"urn:ndov:cdm:trein:reisinformatie:messages:5\", \"@xmlns:ns2\": \"urn:ndov:cdm:trein:reisinformatie:data:4\", \"ns2:ReisInformatieProductDVS\": {\"@TimeStamp\": \"2020-05-10T22:51:26.296Z\", \"@Versie\": \"6.2\", \"ns2:RIPAdministratie\": {\"ns2:ReisInformatieProductID\": \"202005071313016003\", \"ns2:AbonnementId\": \"0\", \"ns2:ReisInformatieTijdstip\": \"2020-05-10T22:51:00.000Z\"}, \"ns2:DynamischeVertrekStaat\": {\"ns2:RitId\": \"980820\", \"ns2:RitDatum\": \"2020-05-10\", \"ns2:RitStation\": {\"ns2:StationCode\": \"OW\", \"ns2:Type\": \"0\", \"ns2:KorteNaam\": \"Oss W\", \"ns2:MiddelNaam\": \"Oss W.\", \"ns2:LangeNaam\": \"Oss West\", \"ns2:UICCode\": \"8400496\"}, \"ns2:Trein\": {\"ns2:TreinNummer\": \"980820\", \"ns2:TreinSoort\": {\"@Code\": \"BUS\", \"#text\": \"Stopbus i.p.v. trein\"}, \"ns2:TreinStatus\": \"5\", \"ns2:Vervoerder\": \"NS\", \"ns2:Reserveren\": \"N\", \"ns2:Toeslag\": \"N\", \"ns2:NietInstappen\": \"N\", \"ns2:AchterBlijvenAchtersteTreinDeel\": \"N\", \"ns2:RangeerBeweging\": \"N\", \"ns2:SpeciaalKaartje\": \"N\", \"ns2:TreinEindBestemming\": [{\"@InfoStatus\": \"Gepland\", \"ns2:StationCode\": \"WC\", \"ns2:Type\": \"0\", \"ns2:KorteNaam\": \"Wijchen\", \"ns2:MiddelNaam\": \"Wijchen\", \"ns2:LangeNaam\": \"Wijchen\", \"ns2:UICCode\": \"8400710\"}, {\"@InfoStatus\": \"Actueel\", \"ns2:StationCode\": \"WC\", \"ns2:Type\": \"0\", \"ns2:KorteNaam\": \"Wijchen\", \"ns2:MiddelNaam\": \"Wijchen\", \"ns2:LangeNaam\": \"Wijchen\", \"ns2:UICCode\": \"8400710\"}], \"ns2:PresentatieTreinEindBestemming\": {\"ns2:Uitingen\": {\"ns2:Uiting\": \"Wijchen\"}}, \"ns2:VertrekTijd\": [{\"@InfoStatus\": \"Gepland\", \"#text\": \"2020-05-10T22:51:00.000Z\"}, {\"@InfoStatus\": \"Actueel\", \"#text\": \"2020-05-10T22:51:00.000Z\"}], \"ns2:ExacteVertrekVertraging\": \"PT0S\", \"ns2:GedempteVertrekVertraging\": \"PT0S\", \"ns2:VertrekRichting\": \"A\", \"ns2:AfstandPerronEindKopVertrekTrein\": \"0\", \"ns2:VerkorteRoute\": [{\"@InfoStatus\": \"Gepland\", \"ns2:Station\": [{\"ns2:StationCode\": \"O\", \"ns2:Type\": \"5\", \"ns2:KorteNaam\": \"Oss\", \"ns2:MiddelNaam\": \"Oss\", \"ns2:LangeNaam\": \"Oss\", \"ns2:UICCode\": \"8400495\"}, {\"ns2:StationCode\": \"RVS\", \"ns2:Type\": \"0\", \"ns2:KorteNaam\": \"Ravenstein\", \"ns2:MiddelNaam\": \"Ravenstein\", \"ns2:LangeNaam\": \"Ravenstein\", \"ns2:UICCode\": \"8400515\"}]}, {\"@InfoStatus\": \"Actueel\", \"ns2:Station\": [{\"ns2:StationCode\": \"O\", \"ns2:Type\": \"5\", \"ns2:KorteNaam\": \"Oss\", \"ns2:MiddelNaam\": \"Oss\", \"ns2:LangeNaam\": \"Oss\", \"ns2:UICCode\": \"8400495\"}, {\"ns2:StationCode\": \"RVS\", \"ns2:Type\": \"0\", \"ns2:KorteNaam\": \"Ravenstein\", \"ns2:MiddelNaam\": \"Ravenstein\", \"ns2:LangeNaam\": \"Ravenstein\", \"ns2:UICCode\": \"8400515\"}]}], \"ns2:PresentatieVerkorteRoute\": {\"ns2:Uitingen\": {\"ns2:Uiting\": \"Oss, Ravenstein\"}}, \"ns2:TreinVleugel\": {\"ns2:TreinVleugelEindBestemming\": [{\"@InfoStatus\": \"Gepland\", \"ns2:StationCode\": \"WC\", \"ns2:Type\": \"0\", \"ns2:KorteNaam\": \"Wijchen\", \"ns2:MiddelNaam\": \"Wijchen\", \"ns2:LangeNaam\": \"Wijchen\", \"ns2:UICCode\": \"8400710\"}, {\"@InfoStatus\": \"Actueel\", \"ns2:StationCode\": \"WC\", \"ns2:Type\": \"0\", \"ns2:KorteNaam\": \"Wijchen\", \"ns2:MiddelNaam\": \"Wijchen\", \"ns2:LangeNaam\": \"Wijchen\", \"ns2:UICCode\": \"8400710\"}], \"ns2:PresentatieTreinVleugelEindBestemming\": {\"ns2:Uitingen\": {\"ns2:Uiting\": \"Wijchen\"}}, \"ns2:StopStations\": [{\"@InfoStatus\": \"Gepland\", \"ns2:Station\": [{\"ns2:StationCode\": \"O\", \"ns2:Type\": \"5\", \"ns2:KorteNaam\": \"Oss\", \"ns2:MiddelNaam\": \"Oss\", \"ns2:LangeNaam\": \"Oss\", \"ns2:UICCode\": \"8400495\"}, {\"ns2:StationCode\": \"RVS\", \"ns2:Type\": \"0\", \"ns2:KorteNaam\": \"Ravenstein\", \"ns2:MiddelNaam\": \"Ravenstein\", \"ns2:LangeNaam\": \"Ravenstein\", \"ns2:UICCode\": \"8400515\"}, {\"ns2:StationCode\": \"WC\", \"ns2:Type\": \"0\", \"ns2:KorteNaam\": \"Wijchen\", \"ns2:MiddelNaam\": \"Wijchen\", \"ns2:LangeNaam\": \"Wijchen\", \"ns2:UICCode\": \"8400710\"}]}, {\"@InfoStatus\": \"Actueel\", \"ns2:Station\": [{\"ns2:StationCode\": \"O\", \"ns2:Type\": \"5\", \"ns2:KorteNaam\": \"Oss\", \"ns2:MiddelNaam\": \"Oss\", \"ns2:LangeNaam\": \"Oss\", \"ns2:UICCode\": \"8400495\"}, {\"ns2:StationCode\": \"RVS\", \"ns2:Type\": \"0\", \"ns2:KorteNaam\": \"Ravenstein\", \"ns2:MiddelNaam\": \"Ravenstein\", \"ns2:LangeNaam\": \"Ravenstein\", \"ns2:UICCode\": \"8400515\"}, {\"ns2:StationCode\": \"WC\", \"ns2:Type\": \"0\", \"ns2:KorteNaam\": \"Wijchen\", \"ns2:MiddelNaam\": \"Wijchen\", \"ns2:LangeNaam\": \"Wijchen\", \"ns2:UICCode\": \"8400710\"}]}]}, \"ns2:Wijziging\": [{\"ns2:WijzigingType\": \"50\"}, {\"ns2:WijzigingType\": \"51\", \"ns2:PresentatieWijziging\": {\"ns2:Uitingen\": [{\"@Taal\": \"nl\", \"ns2:Uiting\": {\"@Prioriteit\": \"2\", \"#text\": \"Bus in plaats van trein\"}}, {\"@Taal\": \"en\", \"ns2:Uiting\": {\"@Prioriteit\": \"2\", \"#text\": \"Bus replaces train\"}}]}}, {\"ns2:WijzigingType\": \"40\"}]}, \"ns2:PresentatieOpmerkingen\": {\"ns2:Uitingen\": [{\"@Taal\": \"nl\", \"ns2:Uiting\": {\"@Prioriteit\": \"2\", \"@ReferentieType\": \"Wijziging\", \"@ReferentieWaarde\": \"51\", \"#text\": \"Bus in plaats van trein\"}}, {\"@Taal\": \"en\", \"ns2:Uiting\": {\"@Prioriteit\": \"2\", \"@ReferentieType\": \"Wijziging\", \"@ReferentieWaarde\": \"51\", \"#text\": \"Bus replaces train\"}}]}}}}}')\n",
      "..."
     ]
    }
   ],
   "source": [
    "ssc.stop(stopSparkContext=False)"
   ]
  },
  {
   "cell_type": "markdown",
   "metadata": {},
   "source": [
    "You will need to adjust the batch interval (10 seconds here) in accordance with the processing times. Use the spark UI to check if batches are not accumulating."
   ]
  },
  {
   "cell_type": "markdown",
   "metadata": {},
   "source": [
    "---"
   ]
  },
  {
   "cell_type": "markdown",
   "metadata": {},
   "source": [
    "# Part III - Live stopping time (20 points / 50)"
   ]
  },
  {
   "cell_type": "markdown",
   "metadata": {},
   "source": [
    "In this part, we will have a look at the two other streams, namely `ndovloketnl-arrivals` and `ndovloketnl-departures`. Each time a train arrives at or leaves a station, a message is generated. Let's have a look at the content."
   ]
  },
  {
   "cell_type": "code",
   "execution_count": 11,
   "metadata": {
    "scrolled": true
   },
   "outputs": [
    {
     "data": {
      "application/vnd.jupyter.widget-view+json": {
       "model_id": "",
       "version_major": 2,
       "version_minor": 0
      },
      "text/plain": [
       "FloatProgress(value=0.0, bar_style='info', description='Progress:', layout=Layout(height='25px', width='50%'),…"
      ]
     },
     "metadata": {},
     "output_type": "display_data"
    },
    {
     "name": "stdout",
     "output_type": "stream",
     "text": [
      "{\n",
      "  \"ns1:PutReisInformatieBoodschapIn\": {\n",
      "    \"@xmlns:ns1\": \"urn:ndov:cdm:trein:reisinformatie:messages:dynamischeaankomststaat:1\", \n",
      "    \"@xmlns:ns2\": \"urn:ndov:cdm:trein:reisinformatie:data:4\", \n",
      "    \"ns2:ReisInformatieProductDAS\": {\n",
      "      \"ns2:RIPAdministratie\": {\n",
      "        \"ns2:ReisInformatieTijdstip\": \"2020-04-17T10:54:00.000Z\", \n",
      "        \"ns2:ReisInformatieProductID\": \"2004171254422300001\", \n",
      "        \"ns2:AbonnementId\": \"55\"\n",
      "      }, \n",
      "      \"@TimeStamp\": \"2020-04-17T10:54:42.098Z\", \n",
      "      \"@Versie\": \"6.1\", \n",
      "      \"ns2:DynamischeAankomstStaat\": {\n",
      "        \"ns2:RitId\": \"6945\", \n",
      "        \"ns2:RitStation\": {\n",
      "          \"ns2:LangeNaam\": \"Utrecht Vaartsche Rijn\", \n",
      "          \"ns2:MiddelNaam\": \"Vaartsche Rijn\", \n",
      "          \"ns2:StationCode\": \"UTVR\", \n",
      "          \"ns2:Type\": \"1\", \n",
      "          \"ns2:UICCode\": \"8400606\", \n",
      "          \"ns2:KorteNaam\": \"VaartscheR\"\n",
      "        }, \n",
      "        \"ns2:TreinAankomst\": {\n",
      "          \"ns2:TreinHerkomst\": [\n",
      "            {\n",
      "              \"ns2:LangeNaam\": \"Den Haag Centraal\", \n",
      "              \"@InfoStatus\": \"Gepland\", \n",
      "              \"ns2:MiddelNaam\": \"Den Haag C.\", \n",
      "              \"ns2:StationCode\": \"GVC\", \n",
      "              \"ns2:Type\": \"6\", \n",
      "              \"ns2:UICCode\": \"8400282\", \n",
      "              \"ns2:KorteNaam\": \"Den Haag C\"\n",
      "            }, \n",
      "            {\n",
      "              \"ns2:LangeNaam\": \"Den Haag Centraal\", \n",
      "              \"@InfoStatus\": \"Actueel\", \n",
      "              \"ns2:MiddelNaam\": \"Den Haag C.\", \n",
      "              \"ns2:StationCode\": \"GVC\", \n",
      "              \"ns2:Type\": \"6\", \n",
      "              \"ns2:UICCode\": \"8400282\", \n",
      "              \"ns2:KorteNaam\": \"Den Haag C\"\n",
      "            }\n",
      "          ], \n",
      "          \"ns2:TreinSoort\": {\n",
      "            \"@Code\": \"SPR\", \n",
      "            \"#text\": \"Sprinter\"\n",
      "          }, \n",
      "          \"ns2:WijzigingHerkomst\": {\n",
      "            \"ns2:WijzigingType\": \"40\"\n",
      "          }, \n",
      "          \"ns2:VerkorteRouteHerkomst\": [\n",
      "            {\n",
      "              \"ns2:Station\": [\n",
      "                {\n",
      "                  \"ns2:LangeNaam\": \"Zoetermeer\", \n",
      "                  \"ns2:MiddelNaam\": \"Zoetermeer\", \n",
      "                  \"ns2:StationCode\": \"ZTM\", \n",
      "                  \"ns2:Type\": \"1\", \n",
      "                  \"ns2:UICCode\": \"8400741\", \n",
      "                  \"ns2:KorteNaam\": \"Zoetermeer\"\n",
      "                }, \n",
      "                {\n",
      "                  \"ns2:LangeNaam\": \"Gouda\", \n",
      "                  \"ns2:MiddelNaam\": \"Gouda\", \n",
      "                  \"ns2:StationCode\": \"GD\", \n",
      "                  \"ns2:Type\": \"5\", \n",
      "                  \"ns2:UICCode\": \"8400258\", \n",
      "                  \"ns2:KorteNaam\": \"Gouda\"\n",
      "                }, \n",
      "                {\n",
      "                  \"ns2:LangeNaam\": \"Woerden\", \n",
      "                  \"ns2:MiddelNaam\": \"Woerden\", \n",
      "                  \"ns2:StationCode\": \"WD\", \n",
      "                  \"ns2:Type\": \"1\", \n",
      "                  \"ns2:UICCode\": \"8400702\", \n",
      "                  \"ns2:KorteNaam\": \"Woerden\"\n",
      "                }, \n",
      "                {\n",
      "                  \"ns2:LangeNaam\": \"Utrecht Centraal\", \n",
      "                  \"ns2:MiddelNaam\": \"Utrecht C.\", \n",
      "                  \"ns2:StationCode\": \"UT\", \n",
      "                  \"ns2:Type\": \"6\", \n",
      "                  \"ns2:UICCode\": \"8400621\", \n",
      "                  \"ns2:KorteNaam\": \"Utrecht C\"\n",
      "                }\n",
      "              ], \n",
      "              \"@InfoStatus\": \"Gepland\"\n",
      "            }, \n",
      "            {\n",
      "              \"ns2:Station\": [\n",
      "                {\n",
      "                  \"ns2:LangeNaam\": \"Zoetermeer\", \n",
      "                  \"ns2:MiddelNaam\": \"Zoetermeer\", \n",
      "                  \"ns2:StationCode\": \"ZTM\", \n",
      "                  \"ns2:Type\": \"1\", \n",
      "                  \"ns2:UICCode\": \"8400741\", \n",
      "                  \"ns2:KorteNaam\": \"Zoetermeer\"\n",
      "                }, \n",
      "                {\n",
      "                  \"ns2:LangeNaam\": \"Gouda\", \n",
      "                  \"ns2:MiddelNaam\": \"Gouda\", \n",
      "                  \"ns2:StationCode\": \"GD\", \n",
      "                  \"ns2:Type\": \"5\", \n",
      "                  \"ns2:UICCode\": \"8400258\", \n",
      "                  \"ns2:KorteNaam\": \"Gouda\"\n",
      "                }, \n",
      "                {\n",
      "                  \"ns2:LangeNaam\": \"Woerden\", \n",
      "                  \"ns2:MiddelNaam\": \"Woerden\", \n",
      "                  \"ns2:StationCode\": \"WD\", \n",
      "                  \"ns2:Type\": \"1\", \n",
      "                  \"ns2:UICCode\": \"8400702\", \n",
      "                  \"ns2:KorteNaam\": \"Woerden\"\n",
      "                }, \n",
      "                {\n",
      "                  \"ns2:LangeNaam\": \"Utrecht Centraal\", \n",
      "                  \"ns2:MiddelNaam\": \"Utrecht C.\", \n",
      "                  \"ns2:StationCode\": \"UT\", \n",
      "                  \"ns2:Type\": \"6\", \n",
      "                  \"ns2:UICCode\": \"8400621\", \n",
      "                  \"ns2:KorteNaam\": \"Utrecht C\"\n",
      "                }\n",
      "              ], \n",
      "              \"@InfoStatus\": \"Actueel\"\n",
      "            }\n",
      "          ], \n",
      "          \"ns2:PresentatieTreinAankomstSpoor\": {\n",
      "            \"ns2:Uitingen\": {\n",
      "              \"ns2:Uiting\": \"4\"\n",
      "            }\n",
      "          }, \n",
      "          \"ns2:TreinStatus\": \"5\", \n",
      "          \"ns2:PresentatieVerkorteRouteHerkomst\": {\n",
      "            \"ns2:Uitingen\": {\n",
      "              \"ns2:Uiting\": \"Zoetermeer, Gouda, Woerden, Utrecht C.\"\n",
      "            }\n",
      "          }, \n",
      "          \"ns2:AankomstTijd\": [\n",
      "            {\n",
      "              \"@InfoStatus\": \"Gepland\", \n",
      "              \"#text\": \"2020-04-17T10:54:00.000Z\"\n",
      "            }, \n",
      "            {\n",
      "              \"@InfoStatus\": \"Actueel\", \n",
      "              \"#text\": \"2020-04-17T10:54:00.000Z\"\n",
      "            }\n",
      "          ], \n",
      "          \"ns2:TreinNummer\": \"6945\", \n",
      "          \"ns2:TreinAankomstSpoor\": [\n",
      "            {\n",
      "              \"@InfoStatus\": \"Gepland\", \n",
      "              \"ns2:SpoorNummer\": \"4\"\n",
      "            }, \n",
      "            {\n",
      "              \"@InfoStatus\": \"Actueel\", \n",
      "              \"ns2:SpoorNummer\": \"4\"\n",
      "            }\n",
      "          ], \n",
      "          \"ns2:PresentatieTreinHerkomst\": {\n",
      "            \"ns2:Uitingen\": {\n",
      "              \"ns2:Uiting\": \"Den Haag C.\"\n",
      "            }\n",
      "          }, \n",
      "          \"ns2:GedempteAankomstVertraging\": \"PT0S\", \n",
      "          \"ns2:ExacteAankomstVertraging\": \"PT0S\", \n",
      "          \"ns2:Vervoerder\": \"NS\"\n",
      "        }, \n",
      "        \"ns2:RitDatum\": \"2020-04-17\"\n",
      "      }\n",
      "    }\n",
      "  }\n",
      "}"
     ]
    }
   ],
   "source": [
    "import json\n",
    "from pykafka.common import OffsetType\n",
    "\n",
    "example_arrivals = client.topics[b'ndovloketnl-arrivals'].get_simple_consumer(\n",
    "    auto_offset_reset=OffsetType.EARLIEST,\n",
    "    reset_offset_on_start=True\n",
    ").consume()\n",
    "print(json.dumps(json.loads(example_arrivals.value), indent=2))"
   ]
  },
  {
   "cell_type": "code",
   "execution_count": 12,
   "metadata": {
    "scrolled": true
   },
   "outputs": [
    {
     "data": {
      "application/vnd.jupyter.widget-view+json": {
       "model_id": "",
       "version_major": 2,
       "version_minor": 0
      },
      "text/plain": [
       "FloatProgress(value=0.0, bar_style='info', description='Progress:', layout=Layout(height='25px', width='50%'),…"
      ]
     },
     "metadata": {},
     "output_type": "display_data"
    },
    {
     "name": "stdout",
     "output_type": "stream",
     "text": [
      "{\n",
      "  \"ns1:PutReisInformatieBoodschapIn\": {\n",
      "    \"@xmlns:ns1\": \"urn:ndov:cdm:trein:reisinformatie:messages:5\", \n",
      "    \"ns2:ReisInformatieProductDVS\": {\n",
      "      \"ns2:RIPAdministratie\": {\n",
      "        \"ns2:ReisInformatieTijdstip\": \"2020-04-23T15:32:00.000Z\", \n",
      "        \"ns2:ReisInformatieProductID\": \"2004231730412200003\", \n",
      "        \"ns2:AbonnementId\": \"54\"\n",
      "      }, \n",
      "      \"@TimeStamp\": \"2020-04-23T15:30:41.815Z\", \n",
      "      \"@Versie\": \"6.2\", \n",
      "      \"ns2:DynamischeVertrekStaat\": {\n",
      "        \"ns2:RitId\": \"7363\", \n",
      "        \"ns2:RitStation\": {\n",
      "          \"ns2:LangeNaam\": \"Maarssen\", \n",
      "          \"ns2:MiddelNaam\": \"Maarssen\", \n",
      "          \"ns2:StationCode\": \"MAS\", \n",
      "          \"ns2:Type\": \"0\", \n",
      "          \"ns2:UICCode\": \"8400419\", \n",
      "          \"ns2:KorteNaam\": \"Maarssen\"\n",
      "        }, \n",
      "        \"ns2:RitDatum\": \"2020-04-23\", \n",
      "        \"ns2:Trein\": {\n",
      "          \"ns2:VertrekRichting\": \"B\", \n",
      "          \"ns2:VertrekTijd\": [\n",
      "            {\n",
      "              \"@InfoStatus\": \"Gepland\", \n",
      "              \"#text\": \"2020-04-23T15:32:00.000Z\"\n",
      "            }, \n",
      "            {\n",
      "              \"@InfoStatus\": \"Actueel\", \n",
      "              \"#text\": \"2020-04-23T15:32:00.000Z\"\n",
      "            }\n",
      "          ], \n",
      "          \"ns2:RangeerBeweging\": \"N\", \n",
      "          \"ns2:PresentatieTreinVertrekSpoor\": {\n",
      "            \"ns2:Uitingen\": {\n",
      "              \"ns2:Uiting\": \"3\"\n",
      "            }\n",
      "          }, \n",
      "          \"ns2:NietInstappen\": \"N\", \n",
      "          \"ns2:PresentatieVerkorteRoute\": {\n",
      "            \"ns2:Uitingen\": {\n",
      "              \"ns2:Uiting\": \"Utrecht C., Vaartsche Rijn, Driebergen-Zeist, Maarn\"\n",
      "            }\n",
      "          }, \n",
      "          \"ns2:TreinStatus\": \"2\", \n",
      "          \"ns2:TreinNummer\": \"7363\", \n",
      "          \"ns2:ExacteVertrekVertraging\": \"PT0S\", \n",
      "          \"ns2:Wijziging\": {\n",
      "            \"ns2:WijzigingType\": \"40\"\n",
      "          }, \n",
      "          \"ns2:TreinVleugel\": {\n",
      "            \"ns2:PresentatieTreinVleugelVertrekSpoor\": {\n",
      "              \"ns2:Uitingen\": {\n",
      "                \"ns2:Uiting\": \"3\"\n",
      "              }\n",
      "            }, \n",
      "            \"ns2:TreinVleugelVertrekSpoor\": [\n",
      "              {\n",
      "                \"@InfoStatus\": \"Gepland\", \n",
      "                \"ns2:SpoorNummer\": \"3\"\n",
      "              }, \n",
      "              {\n",
      "                \"@InfoStatus\": \"Actueel\", \n",
      "                \"ns2:SpoorNummer\": \"3\"\n",
      "              }\n",
      "            ], \n",
      "            \"ns2:StopStations\": [\n",
      "              {\n",
      "                \"ns2:Station\": [\n",
      "                  {\n",
      "                    \"ns2:LangeNaam\": \"Utrecht Zuilen\", \n",
      "                    \"ns2:MiddelNaam\": \"Zuilen\", \n",
      "                    \"ns2:StationCode\": \"UTZL\", \n",
      "                    \"ns2:Type\": \"0\", \n",
      "                    \"ns2:UICCode\": \"8400613\", \n",
      "                    \"ns2:KorteNaam\": \"Zuilen\"\n",
      "                  }, \n",
      "                  {\n",
      "                    \"ns2:LangeNaam\": \"Utrecht Centraal\", \n",
      "                    \"ns2:MiddelNaam\": \"Utrecht C.\", \n",
      "                    \"ns2:StationCode\": \"UT\", \n",
      "                    \"ns2:Type\": \"6\", \n",
      "                    \"ns2:UICCode\": \"8400621\", \n",
      "                    \"ns2:KorteNaam\": \"Utrecht C\"\n",
      "                  }, \n",
      "                  {\n",
      "                    \"ns2:LangeNaam\": \"Utrecht Vaartsche Rijn\", \n",
      "                    \"ns2:MiddelNaam\": \"Vaartsche Rijn\", \n",
      "                    \"ns2:StationCode\": \"UTVR\", \n",
      "                    \"ns2:Type\": \"1\", \n",
      "                    \"ns2:UICCode\": \"8400606\", \n",
      "                    \"ns2:KorteNaam\": \"VaartscheR\"\n",
      "                  }, \n",
      "                  {\n",
      "                    \"ns2:LangeNaam\": \"Bunnik\", \n",
      "                    \"ns2:MiddelNaam\": \"Bunnik\", \n",
      "                    \"ns2:StationCode\": \"BNK\", \n",
      "                    \"ns2:Type\": \"0\", \n",
      "                    \"ns2:UICCode\": \"8400141\", \n",
      "                    \"ns2:KorteNaam\": \"Bunnik\"\n",
      "                  }, \n",
      "                  {\n",
      "                    \"ns2:LangeNaam\": \"Driebergen-Zeist\", \n",
      "                    \"ns2:MiddelNaam\": \"Driebergen-Zeist\", \n",
      "                    \"ns2:StationCode\": \"DB\", \n",
      "                    \"ns2:Type\": \"1\", \n",
      "                    \"ns2:UICCode\": \"8400182\", \n",
      "                    \"ns2:KorteNaam\": \"Driebergen\"\n",
      "                  }, \n",
      "                  {\n",
      "                    \"ns2:LangeNaam\": \"Maarn\", \n",
      "                    \"ns2:MiddelNaam\": \"Maarn\", \n",
      "                    \"ns2:StationCode\": \"MRN\", \n",
      "                    \"ns2:Type\": \"1\", \n",
      "                    \"ns2:UICCode\": \"8400417\", \n",
      "                    \"ns2:KorteNaam\": \"Maarn\"\n",
      "                  }, \n",
      "                  {\n",
      "                    \"ns2:LangeNaam\": \"Veenendaal West\", \n",
      "                    \"ns2:MiddelNaam\": \"Veenendaal W.\", \n",
      "                    \"ns2:StationCode\": \"VNDW\", \n",
      "                    \"ns2:Type\": \"0\", \n",
      "                    \"ns2:UICCode\": \"8400628\", \n",
      "                    \"ns2:KorteNaam\": \"Veenendl W\"\n",
      "                  }, \n",
      "                  {\n",
      "                    \"ns2:LangeNaam\": \"Veenendaal Centrum\", \n",
      "                    \"ns2:MiddelNaam\": \"Veenendaal C.\", \n",
      "                    \"ns2:StationCode\": \"VNDC\", \n",
      "                    \"ns2:Type\": \"1\", \n",
      "                    \"ns2:UICCode\": \"8400627\", \n",
      "                    \"ns2:KorteNaam\": \"Veenendl C\"\n",
      "                  }, \n",
      "                  {\n",
      "                    \"ns2:LangeNaam\": \"Rhenen\", \n",
      "                    \"ns2:MiddelNaam\": \"Rhenen\", \n",
      "                    \"ns2:StationCode\": \"RHN\", \n",
      "                    \"ns2:Type\": \"1\", \n",
      "                    \"ns2:UICCode\": \"8400517\", \n",
      "                    \"ns2:KorteNaam\": \"Rhenen\"\n",
      "                  }\n",
      "                ], \n",
      "                \"@InfoStatus\": \"Gepland\"\n",
      "              }, \n",
      "              {\n",
      "                \"ns2:Station\": [\n",
      "                  {\n",
      "                    \"ns2:LangeNaam\": \"Utrecht Zuilen\", \n",
      "                    \"ns2:MiddelNaam\": \"Zuilen\", \n",
      "                    \"ns2:StationCode\": \"UTZL\", \n",
      "                    \"ns2:Type\": \"0\", \n",
      "                    \"ns2:UICCode\": \"8400613\", \n",
      "                    \"ns2:KorteNaam\": \"Zuilen\"\n",
      "                  }, \n",
      "                  {\n",
      "                    \"ns2:LangeNaam\": \"Utrecht Centraal\", \n",
      "                    \"ns2:MiddelNaam\": \"Utrecht C.\", \n",
      "                    \"ns2:StationCode\": \"UT\", \n",
      "                    \"ns2:Type\": \"6\", \n",
      "                    \"ns2:UICCode\": \"8400621\", \n",
      "                    \"ns2:KorteNaam\": \"Utrecht C\"\n",
      "                  }, \n",
      "                  {\n",
      "                    \"ns2:LangeNaam\": \"Utrecht Vaartsche Rijn\", \n",
      "                    \"ns2:MiddelNaam\": \"Vaartsche Rijn\", \n",
      "                    \"ns2:StationCode\": \"UTVR\", \n",
      "                    \"ns2:Type\": \"1\", \n",
      "                    \"ns2:UICCode\": \"8400606\", \n",
      "                    \"ns2:KorteNaam\": \"VaartscheR\"\n",
      "                  }, \n",
      "                  {\n",
      "                    \"ns2:LangeNaam\": \"Bunnik\", \n",
      "                    \"ns2:MiddelNaam\": \"Bunnik\", \n",
      "                    \"ns2:StationCode\": \"BNK\", \n",
      "                    \"ns2:Type\": \"0\", \n",
      "                    \"ns2:UICCode\": \"8400141\", \n",
      "                    \"ns2:KorteNaam\": \"Bunnik\"\n",
      "                  }, \n",
      "                  {\n",
      "                    \"ns2:LangeNaam\": \"Driebergen-Zeist\", \n",
      "                    \"ns2:MiddelNaam\": \"Driebergen-Zeist\", \n",
      "                    \"ns2:StationCode\": \"DB\", \n",
      "                    \"ns2:Type\": \"1\", \n",
      "                    \"ns2:UICCode\": \"8400182\", \n",
      "                    \"ns2:KorteNaam\": \"Driebergen\"\n",
      "                  }, \n",
      "                  {\n",
      "                    \"ns2:LangeNaam\": \"Maarn\", \n",
      "                    \"ns2:MiddelNaam\": \"Maarn\", \n",
      "                    \"ns2:StationCode\": \"MRN\", \n",
      "                    \"ns2:Type\": \"1\", \n",
      "                    \"ns2:UICCode\": \"8400417\", \n",
      "                    \"ns2:KorteNaam\": \"Maarn\"\n",
      "                  }, \n",
      "                  {\n",
      "                    \"ns2:LangeNaam\": \"Veenendaal West\", \n",
      "                    \"ns2:MiddelNaam\": \"Veenendaal W.\", \n",
      "                    \"ns2:StationCode\": \"VNDW\", \n",
      "                    \"ns2:Type\": \"0\", \n",
      "                    \"ns2:UICCode\": \"8400628\", \n",
      "                    \"ns2:KorteNaam\": \"Veenendl W\"\n",
      "                  }, \n",
      "                  {\n",
      "                    \"ns2:LangeNaam\": \"Veenendaal Centrum\", \n",
      "                    \"ns2:MiddelNaam\": \"Veenendaal C.\", \n",
      "                    \"ns2:StationCode\": \"VNDC\", \n",
      "                    \"ns2:Type\": \"1\", \n",
      "                    \"ns2:UICCode\": \"8400627\", \n",
      "                    \"ns2:KorteNaam\": \"Veenendl C\"\n",
      "                  }, \n",
      "                  {\n",
      "                    \"ns2:LangeNaam\": \"Rhenen\", \n",
      "                    \"ns2:MiddelNaam\": \"Rhenen\", \n",
      "                    \"ns2:StationCode\": \"RHN\", \n",
      "                    \"ns2:Type\": \"1\", \n",
      "                    \"ns2:UICCode\": \"8400517\", \n",
      "                    \"ns2:KorteNaam\": \"Rhenen\"\n",
      "                  }\n",
      "                ], \n",
      "                \"@InfoStatus\": \"Actueel\"\n",
      "              }\n",
      "            ], \n",
      "            \"ns2:TreinVleugelEindBestemming\": [\n",
      "              {\n",
      "                \"ns2:LangeNaam\": \"Rhenen\", \n",
      "                \"@InfoStatus\": \"Gepland\", \n",
      "                \"ns2:MiddelNaam\": \"Rhenen\", \n",
      "                \"ns2:StationCode\": \"RHN\", \n",
      "                \"ns2:Type\": \"1\", \n",
      "                \"ns2:UICCode\": \"8400517\", \n",
      "                \"ns2:KorteNaam\": \"Rhenen\"\n",
      "              }, \n",
      "              {\n",
      "                \"ns2:LangeNaam\": \"Rhenen\", \n",
      "                \"@InfoStatus\": \"Actueel\", \n",
      "                \"ns2:MiddelNaam\": \"Rhenen\", \n",
      "                \"ns2:StationCode\": \"RHN\", \n",
      "                \"ns2:Type\": \"1\", \n",
      "                \"ns2:UICCode\": \"8400517\", \n",
      "                \"ns2:KorteNaam\": \"Rhenen\"\n",
      "              }\n",
      "            ], \n",
      "            \"ns2:MaterieelDeelDVS\": {\n",
      "              \"ns2:MaterieelLengte\": \"10050\", \n",
      "              \"ns2:MaterieelNummer\": \"000000-02656-0\", \n",
      "              \"ns2:PresentatieMaterieelDeelEindBestemming\": {\n",
      "                \"ns2:Uitingen\": {\n",
      "                  \"ns2:Uiting\": \"Rhenen\"\n",
      "                }\n",
      "              }, \n",
      "              \"ns2:MaterieelDeelEindBestemming\": [\n",
      "                {\n",
      "                  \"ns2:LangeNaam\": \"Rhenen\", \n",
      "                  \"@InfoStatus\": \"Gepland\", \n",
      "                  \"ns2:MiddelNaam\": \"Rhenen\", \n",
      "                  \"ns2:StationCode\": \"RHN\", \n",
      "                  \"ns2:Type\": \"1\", \n",
      "                  \"ns2:UICCode\": \"8400517\", \n",
      "                  \"ns2:KorteNaam\": \"Rhenen\"\n",
      "                }, \n",
      "                {\n",
      "                  \"ns2:LangeNaam\": \"Rhenen\", \n",
      "                  \"@InfoStatus\": \"Actueel\", \n",
      "                  \"ns2:MiddelNaam\": \"Rhenen\", \n",
      "                  \"ns2:StationCode\": \"RHN\", \n",
      "                  \"ns2:Type\": \"1\", \n",
      "                  \"ns2:UICCode\": \"8400517\", \n",
      "                  \"ns2:KorteNaam\": \"Rhenen\"\n",
      "                }\n",
      "              ], \n",
      "              \"ns2:MaterieelAanduiding\": \"6\", \n",
      "              \"ns2:MaterieelSoort\": \"SLT\"\n",
      "            }, \n",
      "            \"ns2:PresentatieTreinVleugelEindBestemming\": {\n",
      "              \"ns2:Uitingen\": {\n",
      "                \"ns2:Uiting\": \"Rhenen\"\n",
      "              }\n",
      "            }\n",
      "          }, \n",
      "          \"ns2:TreinEindBestemming\": [\n",
      "            {\n",
      "              \"ns2:LangeNaam\": \"Rhenen\", \n",
      "              \"@InfoStatus\": \"Gepland\", \n",
      "              \"ns2:MiddelNaam\": \"Rhenen\", \n",
      "              \"ns2:StationCode\": \"RHN\", \n",
      "              \"ns2:Type\": \"1\", \n",
      "              \"ns2:UICCode\": \"8400517\", \n",
      "              \"ns2:KorteNaam\": \"Rhenen\"\n",
      "            }, \n",
      "            {\n",
      "              \"ns2:LangeNaam\": \"Rhenen\", \n",
      "              \"@InfoStatus\": \"Actueel\", \n",
      "              \"ns2:MiddelNaam\": \"Rhenen\", \n",
      "              \"ns2:StationCode\": \"RHN\", \n",
      "              \"ns2:Type\": \"1\", \n",
      "              \"ns2:UICCode\": \"8400517\", \n",
      "              \"ns2:KorteNaam\": \"Rhenen\"\n",
      "            }\n",
      "          ], \n",
      "          \"ns2:AchterBlijvenAchtersteTreinDeel\": \"N\", \n",
      "          \"ns2:Reserveren\": \"N\", \n",
      "          \"ns2:AfstandPerronEindKopVertrekTrein\": \"0\", \n",
      "          \"ns2:VerkorteRoute\": [\n",
      "            {\n",
      "              \"ns2:Station\": [\n",
      "                {\n",
      "                  \"ns2:LangeNaam\": \"Utrecht Centraal\", \n",
      "                  \"ns2:MiddelNaam\": \"Utrecht C.\", \n",
      "                  \"ns2:StationCode\": \"UT\", \n",
      "                  \"ns2:Type\": \"6\", \n",
      "                  \"ns2:UICCode\": \"8400621\", \n",
      "                  \"ns2:KorteNaam\": \"Utrecht C\"\n",
      "                }, \n",
      "                {\n",
      "                  \"ns2:LangeNaam\": \"Utrecht Vaartsche Rijn\", \n",
      "                  \"ns2:MiddelNaam\": \"Vaartsche Rijn\", \n",
      "                  \"ns2:StationCode\": \"UTVR\", \n",
      "                  \"ns2:Type\": \"1\", \n",
      "                  \"ns2:UICCode\": \"8400606\", \n",
      "                  \"ns2:KorteNaam\": \"VaartscheR\"\n",
      "                }, \n",
      "                {\n",
      "                  \"ns2:LangeNaam\": \"Driebergen-Zeist\", \n",
      "                  \"ns2:MiddelNaam\": \"Driebergen-Zeist\", \n",
      "                  \"ns2:StationCode\": \"DB\", \n",
      "                  \"ns2:Type\": \"1\", \n",
      "                  \"ns2:UICCode\": \"8400182\", \n",
      "                  \"ns2:KorteNaam\": \"Driebergen\"\n",
      "                }, \n",
      "                {\n",
      "                  \"ns2:LangeNaam\": \"Maarn\", \n",
      "                  \"ns2:MiddelNaam\": \"Maarn\", \n",
      "                  \"ns2:StationCode\": \"MRN\", \n",
      "                  \"ns2:Type\": \"1\", \n",
      "                  \"ns2:UICCode\": \"8400417\", \n",
      "                  \"ns2:KorteNaam\": \"Maarn\"\n",
      "                }\n",
      "              ], \n",
      "              \"@InfoStatus\": \"Gepland\"\n",
      "            }, \n",
      "            {\n",
      "              \"ns2:Station\": [\n",
      "                {\n",
      "                  \"ns2:LangeNaam\": \"Utrecht Centraal\", \n",
      "                  \"ns2:MiddelNaam\": \"Utrecht C.\", \n",
      "                  \"ns2:StationCode\": \"UT\", \n",
      "                  \"ns2:Type\": \"6\", \n",
      "                  \"ns2:UICCode\": \"8400621\", \n",
      "                  \"ns2:KorteNaam\": \"Utrecht C\"\n",
      "                }, \n",
      "                {\n",
      "                  \"ns2:LangeNaam\": \"Utrecht Vaartsche Rijn\", \n",
      "                  \"ns2:MiddelNaam\": \"Vaartsche Rijn\", \n",
      "                  \"ns2:StationCode\": \"UTVR\", \n",
      "                  \"ns2:Type\": \"1\", \n",
      "                  \"ns2:UICCode\": \"8400606\", \n",
      "                  \"ns2:KorteNaam\": \"VaartscheR\"\n",
      "                }, \n",
      "                {\n",
      "                  \"ns2:LangeNaam\": \"Driebergen-Zeist\", \n",
      "                  \"ns2:MiddelNaam\": \"Driebergen-Zeist\", \n",
      "                  \"ns2:StationCode\": \"DB\", \n",
      "                  \"ns2:Type\": \"1\", \n",
      "                  \"ns2:UICCode\": \"8400182\", \n",
      "                  \"ns2:KorteNaam\": \"Driebergen\"\n",
      "                }, \n",
      "                {\n",
      "                  \"ns2:LangeNaam\": \"Maarn\", \n",
      "                  \"ns2:MiddelNaam\": \"Maarn\", \n",
      "                  \"ns2:StationCode\": \"MRN\", \n",
      "                  \"ns2:Type\": \"1\", \n",
      "                  \"ns2:UICCode\": \"8400417\", \n",
      "                  \"ns2:KorteNaam\": \"Maarn\"\n",
      "                }\n",
      "              ], \n",
      "              \"@InfoStatus\": \"Actueel\"\n",
      "            }\n",
      "          ], \n",
      "          \"ns2:TreinVertrekSpoor\": [\n",
      "            {\n",
      "              \"@InfoStatus\": \"Gepland\", \n",
      "              \"ns2:SpoorNummer\": \"3\"\n",
      "            }, \n",
      "            {\n",
      "              \"@InfoStatus\": \"Actueel\", \n",
      "              \"ns2:SpoorNummer\": \"3\"\n",
      "            }\n",
      "          ], \n",
      "          \"ns2:Toeslag\": \"N\", \n",
      "          \"ns2:TreinSoort\": {\n",
      "            \"@Code\": \"SPR\", \n",
      "            \"#text\": \"Sprinter\"\n",
      "          }, \n",
      "          \"ns2:TreinFormule\": \"1\", \n",
      "          \"ns2:PresentatieTreinEindBestemming\": {\n",
      "            \"ns2:Uitingen\": {\n",
      "              \"ns2:Uiting\": \"Rhenen\"\n",
      "            }\n",
      "          }, \n",
      "          \"ns2:SpeciaalKaartje\": \"N\", \n",
      "          \"ns2:Vervoerder\": \"NS\", \n",
      "          \"ns2:GedempteVertrekVertraging\": \"PT0S\"\n",
      "        }\n",
      "      }\n",
      "    }, \n",
      "    \"@xmlns:ns2\": \"urn:ndov:cdm:trein:reisinformatie:data:4\"\n",
      "  }\n",
      "}"
     ]
    }
   ],
   "source": [
    "example_departures = client.topics[b'ndovloketnl-departures'].get_simple_consumer(\n",
    "    auto_offset_reset=OffsetType.EARLIEST,\n",
    "    reset_offset_on_start=True\n",
    ").consume()\n",
    "print(json.dumps(json.loads(example_departures.value), indent=2))"
   ]
  },
  {
   "cell_type": "markdown",
   "metadata": {},
   "source": [
    "We can see that the messages have the following structure:\n",
    "\n",
    "```\n",
    "{\n",
    "  'ns1:PutReisInformatieBoodschapIn': {\n",
    "    'ns2:ReisInformatieProductDVS' or 'ns2:ReisInformatieProductDAS': {\n",
    "      'ns2:DynamischeVertrekStaat' or 'ns2:DynamischeAankomstStaat': {\n",
    "          'ns2:RitStation': <station_info>,\n",
    "          'ns2:Trein' or 'ns2:TreinAankomst': {\n",
    "              'ns2:VertrekTijd' or 'ns2:AankomstTijd': [<planned_and_actual_times>],\n",
    "              'ns2:TreinNummer': <train_number>,\n",
    "              'ns2:TreinSoort': <kind_of_train>,\n",
    "              ...\n",
    "          }\n",
    "           \n",
    "      }\n",
    "    }\n",
    "  }\n",
    "}\n",
    "```\n",
    "\n",
    "We can see also that the train stations have a long name `ns2:LangeNaam`, a medium name `ns2:MiddelNaam`, a short name `ns2:KorteNaam`, a station code `ns2:StationCode` and a kind of nummerical ID `ns2:UICCode`. When giving information about times, tracks, direction,... you will find sometimes the information twice with the status `Gepland` (which means planned, according to the schedule) and `Actueel`(which means the actual measured value). "
   ]
  },
  {
   "cell_type": "markdown",
   "metadata": {},
   "source": [
    "**Question III.a. (5/20)** We want to compute the time a train stays at a station and get a real-time histogram for a given time window. To begin with, you need to write some parsing functions that will allow you to get information from the data streams. We have prepare one function `parse_train_dep` for the stream `ndovloketnl-departures`, which returns a Key-Value pair."
   ]
  },
  {
   "cell_type": "code",
   "execution_count": 13,
   "metadata": {
    "scrolled": true
   },
   "outputs": [
    {
     "data": {
      "application/vnd.jupyter.widget-view+json": {
       "model_id": "",
       "version_major": 2,
       "version_minor": 0
      },
      "text/plain": [
       "FloatProgress(value=0.0, bar_style='info', description='Progress:', layout=Layout(height='25px', width='50%'),…"
      ]
     },
     "metadata": {},
     "output_type": "display_data"
    }
   ],
   "source": [
    "import json\n",
    "\n",
    "def parse_train_dep(s):\n",
    "    obj = json.loads(s)\n",
    "    tn = obj.get('ns1:PutReisInformatieBoodschapIn', {}).get('ns2:ReisInformatieProductDVS', {}).get('ns2:DynamischeVertrekStaat', {}).get('ns2:Trein', {}).get(\"ns2:TreinNummer\")\n",
    "    st = obj.get('ns1:PutReisInformatieBoodschapIn', {}).get('ns2:ReisInformatieProductDVS', {}).get('ns2:DynamischeVertrekStaat', {}).get('ns2:RitStation', {}).get(\"ns2:UICCode\")\n",
    "    if tn and st:\n",
    "        return [(\"{}-{}\".format(tn, st), obj)]\n",
    "    else:\n",
    "        return []\n",
    "    "
   ]
  },
  {
   "cell_type": "markdown",
   "metadata": {},
   "source": [
    "__Q (1/5)__ Please check the function `parse_train_dep` above. Explain how we construct the Key and the Value, and why we construct them in this way."
   ]
  },
  {
   "cell_type": "markdown",
   "metadata": {},
   "source": [
    "__Answer__: The key is a tuple with the train number and the station ID whereas the value is the Json object of that train. This way we can see where the train is stopped at a given moment by the key, and the departure time scheduled and compute the time it stays at that station by the value. The type returned is a list, so that we can return an empty list for erroneous data."
   ]
  },
  {
   "cell_type": "markdown",
   "metadata": {},
   "source": [
    "__Q (2/5)__ Take `parse_train_dep` as an example and write the function `parse_train_arr` for the stream `ndovloketnl-arrivals`. Make sure they have the same output format."
   ]
  },
  {
   "cell_type": "code",
   "execution_count": 15,
   "metadata": {
    "scrolled": true
   },
   "outputs": [
    {
     "data": {
      "application/vnd.jupyter.widget-view+json": {
       "model_id": "",
       "version_major": 2,
       "version_minor": 0
      },
      "text/plain": [
       "FloatProgress(value=0.0, bar_style='info', description='Progress:', layout=Layout(height='25px', width='50%'),…"
      ]
     },
     "metadata": {},
     "output_type": "display_data"
    }
   ],
   "source": [
    "def parse_train_arr(s):\n",
    "    obj = json.loads(s)\n",
    "    tn = obj.get('ns1:PutReisInformatieBoodschapIn', {}).get('ns2:ReisInformatieProductDAS', {}).get('ns2:DynamischeAankomstStaat', {}).get('ns2:TreinAankomst', {}).get(\"ns2:TreinNummer\")\n",
    "    st = obj.get('ns1:PutReisInformatieBoodschapIn', {}).get('ns2:ReisInformatieProductDAS', {}).get('ns2:DynamischeAankomstStaat', {}).get('ns2:RitStation', {}).get(\"ns2:UICCode\")\n",
    "    if tn and st:\n",
    "        return [(\"{}-{}\".format(tn, st), obj)]\n",
    "    else:\n",
    "        return []"
   ]
  },
  {
   "cell_type": "markdown",
   "metadata": {},
   "source": [
    "__Q (2/5)__ Another parsing function you may need is `get_actual_time`, which will allow you to extract the actual time from the fields of time information, which are `ns2:AankomstTijd` in the arrival stream and `ns2:VertrekTijd` in the departure stream. \n",
    "\n",
    "__Note:__ These two fields may be empty and they may not contain the actual time information. In both cases the function should return `None`."
   ]
  },
  {
   "cell_type": "code",
   "execution_count": 17,
   "metadata": {
    "scrolled": true
   },
   "outputs": [
    {
     "data": {
      "application/vnd.jupyter.widget-view+json": {
       "model_id": "",
       "version_major": 2,
       "version_minor": 0
      },
      "text/plain": [
       "FloatProgress(value=0.0, bar_style='info', description='Progress:', layout=Layout(height='25px', width='50%'),…"
      ]
     },
     "metadata": {},
     "output_type": "display_data"
    }
   ],
   "source": [
    "from datetime import datetime\n",
    "\n",
    "def get_actual_time(tab):\n",
    "    if tab:\n",
    "        actual_time = datetime.strptime(tab[1]['#text'][:-1], \"%Y-%m-%dT%H:%M:%S.%f\") # we remove the time zone and cast it to datetime\n",
    "    else:\n",
    "        actual_time = None\n",
    "    return actual_time"
   ]
  },
  {
   "cell_type": "code",
   "execution_count": 18,
   "metadata": {},
   "outputs": [
    {
     "data": {
      "application/vnd.jupyter.widget-view+json": {
       "model_id": "",
       "version_major": 2,
       "version_minor": 0
      },
      "text/plain": [
       "FloatProgress(value=0.0, bar_style='info', description='Progress:', layout=Layout(height='25px', width='50%'),…"
      ]
     },
     "metadata": {},
     "output_type": "display_data"
    }
   ],
   "source": [
    "# Get the field of time in the departure stream\n",
    "example_json = json.loads(example_departures.value)\n",
    "tab_dep = example_json.get('ns1:PutReisInformatieBoodschapIn', {}).get(\"ns2:ReisInformatieProductDVS\", {}).get(\"ns2:DynamischeVertrekStaat\", {}).get(\"ns2:Trein\", {}).get(\"ns2:VertrekTijd\",{})"
   ]
  },
  {
   "cell_type": "code",
   "execution_count": 19,
   "metadata": {},
   "outputs": [
    {
     "data": {
      "application/vnd.jupyter.widget-view+json": {
       "model_id": "",
       "version_major": 2,
       "version_minor": 0
      },
      "text/plain": [
       "FloatProgress(value=0.0, bar_style='info', description='Progress:', layout=Layout(height='25px', width='50%'),…"
      ]
     },
     "metadata": {},
     "output_type": "display_data"
    },
    {
     "name": "stdout",
     "output_type": "stream",
     "text": [
      "datetime.datetime(2020, 4, 23, 15, 32)"
     ]
    }
   ],
   "source": [
    "# Example results from `get_actual_time`\n",
    "get_actual_time(tab_dep)"
   ]
  },
  {
   "cell_type": "markdown",
   "metadata": {},
   "source": [
    "**Question III.b. (5/20)** Create two Spark streams from the arrivals and departures where the records are in the form (Key, Value) using `parse_train_dep` and  `parse_train_arr`. "
   ]
  },
  {
   "cell_type": "code",
   "execution_count": 49,
   "metadata": {},
   "outputs": [
    {
     "data": {
      "application/vnd.jupyter.widget-view+json": {
       "model_id": "",
       "version_major": 2,
       "version_minor": 0
      },
      "text/plain": [
       "FloatProgress(value=0.0, bar_style='info', description='Progress:', layout=Layout(height='25px', width='50%'),…"
      ]
     },
     "metadata": {},
     "output_type": "display_data"
    },
    {
     "name": "stderr",
     "output_type": "stream",
     "text": [
      "An error was encountered:\n",
      "An error occurred while calling o11739.createStream.\n",
      ": java.lang.IllegalStateException: Adding new inputs, transformations, and output operations after stopping a context is not supported\n",
      "\tat org.apache.spark.streaming.dstream.DStream.validateAtInit(DStream.scala:228)\n",
      "\tat org.apache.spark.streaming.dstream.DStream.<init>(DStream.scala:66)\n",
      "\tat org.apache.spark.streaming.dstream.InputDStream.<init>(InputDStream.scala:45)\n",
      "\tat org.apache.spark.streaming.dstream.ReceiverInputDStream.<init>(ReceiverInputDStream.scala:42)\n",
      "\tat org.apache.spark.streaming.kafka.KafkaInputDStream.<init>(KafkaInputDStream.scala:56)\n",
      "\tat org.apache.spark.streaming.kafka.KafkaUtils$.createStream(KafkaUtils.scala:92)\n",
      "\tat org.apache.spark.streaming.kafka.KafkaUtils$.createStream(KafkaUtils.scala:169)\n",
      "\tat org.apache.spark.streaming.kafka.KafkaUtilsPythonHelper.createStream(KafkaUtils.scala:633)\n",
      "\tat sun.reflect.NativeMethodAccessorImpl.invoke0(Native Method)\n",
      "\tat sun.reflect.NativeMethodAccessorImpl.invoke(NativeMethodAccessorImpl.java:62)\n",
      "\tat sun.reflect.DelegatingMethodAccessorImpl.invoke(DelegatingMethodAccessorImpl.java:43)\n",
      "\tat java.lang.reflect.Method.invoke(Method.java:498)\n",
      "\tat py4j.reflection.MethodInvoker.invoke(MethodInvoker.java:244)\n",
      "\tat py4j.reflection.ReflectionEngine.invoke(ReflectionEngine.java:357)\n",
      "\tat py4j.Gateway.invoke(Gateway.java:282)\n",
      "\tat py4j.commands.AbstractCommand.invokeMethod(AbstractCommand.java:132)\n",
      "\tat py4j.commands.CallCommand.execute(CallCommand.java:79)\n",
      "\tat py4j.GatewayConnection.run(GatewayConnection.java:238)\n",
      "\tat java.lang.Thread.run(Thread.java:745)\n",
      "\n",
      "Traceback (most recent call last):\n",
      "  File \"/hdata/sdb/hadoop/yarn/local/usercache/ebouille/appcache/application_1587988164357_1430/container_e05_1587988164357_1430_01_000001/pyspark.zip/pyspark/streaming/kafka.py\", line 79, in createStream\n",
      "    jstream = helper.createStream(ssc._jssc, kafkaParams, topics, jlevel)\n",
      "  File \"/hdata/sdb/hadoop/yarn/local/usercache/ebouille/appcache/application_1587988164357_1430/container_e05_1587988164357_1430_01_000001/py4j-0.10.7-src.zip/py4j/java_gateway.py\", line 1257, in __call__\n",
      "    answer, self.gateway_client, self.target_id, self.name)\n",
      "  File \"/hdata/sdb/hadoop/yarn/local/usercache/ebouille/appcache/application_1587988164357_1430/container_e05_1587988164357_1430_01_000001/pyspark.zip/pyspark/sql/utils.py\", line 63, in deco\n",
      "    return f(*a, **kw)\n",
      "  File \"/hdata/sdb/hadoop/yarn/local/usercache/ebouille/appcache/application_1587988164357_1430/container_e05_1587988164357_1430_01_000001/py4j-0.10.7-src.zip/py4j/protocol.py\", line 328, in get_return_value\n",
      "    format(target_id, \".\", name), value)\n",
      "Py4JJavaError: An error occurred while calling o11739.createStream.\n",
      ": java.lang.IllegalStateException: Adding new inputs, transformations, and output operations after stopping a context is not supported\n",
      "\tat org.apache.spark.streaming.dstream.DStream.validateAtInit(DStream.scala:228)\n",
      "\tat org.apache.spark.streaming.dstream.DStream.<init>(DStream.scala:66)\n",
      "\tat org.apache.spark.streaming.dstream.InputDStream.<init>(InputDStream.scala:45)\n",
      "\tat org.apache.spark.streaming.dstream.ReceiverInputDStream.<init>(ReceiverInputDStream.scala:42)\n",
      "\tat org.apache.spark.streaming.kafka.KafkaInputDStream.<init>(KafkaInputDStream.scala:56)\n",
      "\tat org.apache.spark.streaming.kafka.KafkaUtils$.createStream(KafkaUtils.scala:92)\n",
      "\tat org.apache.spark.streaming.kafka.KafkaUtils$.createStream(KafkaUtils.scala:169)\n",
      "\tat org.apache.spark.streaming.kafka.KafkaUtilsPythonHelper.createStream(KafkaUtils.scala:633)\n",
      "\tat sun.reflect.NativeMethodAccessorImpl.invoke0(Native Method)\n",
      "\tat sun.reflect.NativeMethodAccessorImpl.invoke(NativeMethodAccessorImpl.java:62)\n",
      "\tat sun.reflect.DelegatingMethodAccessorImpl.invoke(DelegatingMethodAccessorImpl.java:43)\n",
      "\tat java.lang.reflect.Method.invoke(Method.java:498)\n",
      "\tat py4j.reflection.MethodInvoker.invoke(MethodInvoker.java:244)\n",
      "\tat py4j.reflection.ReflectionEngine.invoke(ReflectionEngine.java:357)\n",
      "\tat py4j.Gateway.invoke(Gateway.java:282)\n",
      "\tat py4j.commands.AbstractCommand.invokeMethod(AbstractCommand.java:132)\n",
      "\tat py4j.commands.CallCommand.execute(CallCommand.java:79)\n",
      "\tat py4j.GatewayConnection.run(GatewayConnection.java:238)\n",
      "\tat java.lang.Thread.run(Thread.java:745)\n",
      "\n",
      "\n"
     ]
    }
   ],
   "source": [
    "#Create a spark streaming context\n",
    "ssc = StreamingContext(sc, 10)\n",
    "ssc.checkpoint(checkpoint)\n",
    "\n",
    "arrival_stream = KafkaUtils.createStream(ssc, ZOOKEEPER_QUORUM, group_id, { 'ndovloketnl-arrivals': 1})\n",
    "departure_stream = KafkaUtils.createStream(ssc, ZOOKEEPER_QUORUM, group_id, { 'ndovloketnl-departures': 1})"
   ]
  },
  {
   "cell_type": "code",
   "execution_count": 23,
   "metadata": {},
   "outputs": [
    {
     "data": {
      "application/vnd.jupyter.widget-view+json": {
       "model_id": "",
       "version_major": 2,
       "version_minor": 0
      },
      "text/plain": [
       "FloatProgress(value=0.0, bar_style='info', description='Progress:', layout=Layout(height='25px', width='50%'),…"
      ]
     },
     "metadata": {},
     "output_type": "display_data"
    }
   ],
   "source": [
    "arrival_stream_parsed = arrival_stream.flatMap(lambda x: parse_train_arr(x[1]))\n",
    "departure_stream_parsed = departure_stream.flatMap(lambda x: parse_train_dep(x[1]))"
   ]
  },
  {
   "cell_type": "markdown",
   "metadata": {},
   "source": [
    "**Question III.c. (5/20)** \n",
    "Every 20 seconds, we want to have a list of trains that had departed from any train station after staying for 5 minutes or less at the station. Apply a window of 20s sliding interval on arrival and departure streams. Join two streams such that trains staying for 5 minutes or less (± 20 seconds error due to sliding interval) at any station are caught by the join in the RDD window of the joined stream (you can ignore late messages). \n",
    "\n",
    "__Hint:__\n",
    "- Check [here](https://spark.apache.org/docs/2.3.1/streaming-programming-guide.html#window-operations) for windowed computations in Spark Streaming.\n",
    "- Use the methods [reduceByKeyAndWindow](https://spark.apache.org/docs/2.3.1/api/python/pyspark.streaming.html?highlight=reducebykey#pyspark.streaming.DStream.reduceByKeyAndWindow) and [join](https://spark.apache.org/docs/2.3.1/api/python/pyspark.streaming.html?highlight=reducebykey#pyspark.streaming.DStream.join) on DStream objects.\n",
    "- Both windows should have `slideDuration` of 20s\n",
    "- You have to pick the sizes of windows `windowDuration` carefully. The sizes can be different: \n",
    "    - The trains staying for 5 minutes or less (± 20 seconds error due to sliding interval) must be in the joined stream.\n",
    "    - A same stay (i.e. one train at one station) is caught in the joined stream once and only once."
   ]
  },
  {
   "cell_type": "code",
   "execution_count": 26,
   "metadata": {},
   "outputs": [
    {
     "data": {
      "application/vnd.jupyter.widget-view+json": {
       "model_id": "",
       "version_major": 2,
       "version_minor": 0
      },
      "text/plain": [
       "FloatProgress(value=0.0, bar_style='info', description='Progress:', layout=Layout(height='25px', width='50%'),…"
      ]
     },
     "metadata": {},
     "output_type": "display_data"
    }
   ],
   "source": [
    "def parse_arr(s):\n",
    "    time_tab = s.get('ns1:PutReisInformatieBoodschapIn', {}).get(\"ns2:ReisInformatieProductDAS\", {}).get(\"ns2:DynamischeAankomstStaat\", {}).get(\"ns2:TreinAankomst\", {}).get(\"ns2:AankomstTijd\",{})\n",
    "    return get_actual_time(time_tab)"
   ]
  },
  {
   "cell_type": "code",
   "execution_count": 27,
   "metadata": {
    "scrolled": true
   },
   "outputs": [
    {
     "data": {
      "application/vnd.jupyter.widget-view+json": {
       "model_id": "",
       "version_major": 2,
       "version_minor": 0
      },
      "text/plain": [
       "FloatProgress(value=0.0, bar_style='info', description='Progress:', layout=Layout(height='25px', width='50%'),…"
      ]
     },
     "metadata": {},
     "output_type": "display_data"
    }
   ],
   "source": [
    "def parse_dep(s):\n",
    "    time_tab = s.get('ns1:PutReisInformatieBoodschapIn', {}).get(\"ns2:ReisInformatieProductDVS\", {}).get(\"ns2:DynamischeVertrekStaat\", {}).get(\"ns2:Trein\", {}).get(\"ns2:VertrekTijd\",{})\n",
    "    return get_actual_time(time_tab)"
   ]
  },
  {
   "cell_type": "code",
   "execution_count": 45,
   "metadata": {},
   "outputs": [
    {
     "data": {
      "application/vnd.jupyter.widget-view+json": {
       "model_id": "",
       "version_major": 2,
       "version_minor": 0
      },
      "text/plain": [
       "FloatProgress(value=0.0, bar_style='info', description='Progress:', layout=Layout(height='25px', width='50%'),…"
      ]
     },
     "metadata": {},
     "output_type": "display_data"
    }
   ],
   "source": [
    "\n",
    "#the two new streams will have the form ( (Train_ID, Station_ID), Time )\n",
    "arrival_stream_tn_st = arrival_stream_parsed.map(lambda x: (x[0], parse_arr(x[1]))).filter(lambda x: x[1] != None)\n",
    "departure_stream_tn_st = departure_stream_parsed.map(lambda x: (x[0], parse_dep(x[1]))).filter(lambda x: x[1] != None)\n",
    "\n",
    "# the reduceByKeyAndWindow will filter out duplicates as the key is the (train_id, station_id)\n",
    "window_arrival_stream = arrival_stream_tn_st.reduceByKeyAndWindow(lambda a, b: a, None, windowDuration=20, slideDuration=20) \n",
    "window_departure_stream = departure_stream_tn_st.reduceByKeyAndWindow(lambda a, b: a, None, windowDuration=300, slideDuration=20)\n",
    "\n",
    "#The joined streamm has the form ( (Train_ID, Station_ID), (Arrival_time, Departure_time) )\n",
    "joined_stream = window_arrival_stream.join(window_departure_stream)\n",
    "\n",
    "# length stay has the length of each stay in minutes and we filtered out stays of more than 5 minutes.\n",
    "length_stay = joined_stream.map(lambda x: (x[0], (x[1][1] - x[1][0]).total_seconds()//60)).filter(lambda x : x[1] <= 5 ) "
   ]
  },
  {
   "cell_type": "markdown",
   "metadata": {},
   "source": [
    "**Question III.d. (5/20)** On the joined stream, compute the length of each stay (you can round to the minute) and produce a stream of histograms. You don't need to plot them, a value/count array is enough, like:\n",
    "```\n",
    "-------------------------------------------\n",
    "Time: 2018-05-17 11:10:00\n",
    "-------------------------------------------\n",
    "(0.0, 110)\n",
    "(8.0, 2)\n",
    "(4.0, 3)\n",
    "\n",
    "-------------------------------------------\n",
    "Time: 2018-05-17 11:10:20\n",
    "-------------------------------------------\n",
    "(0.0, 46)\n",
    "(4.0, 2)\n",
    "(1.0, 5)\n",
    "```"
   ]
  },
  {
   "cell_type": "code",
   "execution_count": 36,
   "metadata": {
    "scrolled": true
   },
   "outputs": [
    {
     "data": {
      "application/vnd.jupyter.widget-view+json": {
       "model_id": "",
       "version_major": 2,
       "version_minor": 0
      },
      "text/plain": [
       "FloatProgress(value=0.0, bar_style='info', description='Progress:', layout=Layout(height='25px', width='50%'),…"
      ]
     },
     "metadata": {},
     "output_type": "display_data"
    }
   ],
   "source": [
    "histograms_stream = length_stay.map(lambda x : (x[1],1)).reduceByKey(lambda x,y: x + y)\n",
    "histograms_stream.pprint()"
   ]
  },
  {
   "cell_type": "code",
   "execution_count": 37,
   "metadata": {
    "scrolled": true
   },
   "outputs": [
    {
     "data": {
      "application/vnd.jupyter.widget-view+json": {
       "model_id": "",
       "version_major": 2,
       "version_minor": 0
      },
      "text/plain": [
       "FloatProgress(value=0.0, bar_style='info', description='Progress:', layout=Layout(height='25px', width='50%'),…"
      ]
     },
     "metadata": {},
     "output_type": "display_data"
    }
   ],
   "source": [
    "ssc.start() \n",
    "ssc.awaitTermination(timeout=60)"
   ]
  },
  {
   "cell_type": "code",
   "execution_count": 38,
   "metadata": {
    "scrolled": true
   },
   "outputs": [
    {
     "data": {
      "application/vnd.jupyter.widget-view+json": {
       "model_id": "",
       "version_major": 2,
       "version_minor": 0
      },
      "text/plain": [
       "FloatProgress(value=0.0, bar_style='info', description='Progress:', layout=Layout(height='25px', width='50%'),…"
      ]
     },
     "metadata": {},
     "output_type": "display_data"
    },
    {
     "name": "stdout",
     "output_type": "stream",
     "text": [
      "-------------------------------------------\n",
      "Time: 2020-05-11 13:47:40\n",
      "-------------------------------------------\n",
      "\n",
      "-------------------------------------------\n",
      "Time: 2020-05-11 13:48:00\n",
      "-------------------------------------------\n",
      "(0.0, 1785)\n",
      "(2.0, 215)\n",
      "(4.0, 64)\n",
      "(6.0, 32)\n",
      "(8.0, 7)\n",
      "(10.0, 5)\n",
      "(12.0, 3)\n",
      "(-2.0, 2)\n",
      "(-1.0, 3)\n",
      "(1.0, 423)\n",
      "...\n",
      "\n",
      "-------------------------------------------\n",
      "Time: 2020-05-11 13:48:20\n",
      "-------------------------------------------\n",
      "(0.0, 40)\n",
      "(2.0, 3)\n",
      "(-1.0, 1)\n",
      "(9.0, 1)\n",
      "(3.0, 1)\n",
      "(5.0, 1)\n",
      "(1.0, 3)\n",
      "\n",
      "-------------------------------------------\n",
      "Time: 2020-05-11 13:48:40\n",
      "-------------------------------------------\n",
      "(0.0, 11)\n",
      "(2.0, 2)\n",
      "(4.0, 1)\n",
      "(6.0, 1)\n",
      "(1.0, 3)\n",
      "(3.0, 1)\n",
      "(5.0, 1)\n",
      "\n",
      "-------------------------------------------\n",
      "Time: 2020-05-11 13:49:00\n",
      "-------------------------------------------\n",
      "(0.0, 14)\n",
      "(2.0, 1)\n",
      "(6.0, 1)\n",
      "(-2.0, 1)\n",
      "(1.0, 4)\n",
      "(5.0, 1)\n",
      "\n",
      "-------------------------------------------\n",
      "Time: 2020-05-11 13:49:20\n",
      "-------------------------------------------\n",
      "(0.0, 37)\n",
      "(2.0, 6)\n",
      "(-1.0, 1)\n",
      "(1.0, 2)\n",
      "(5.0, 2)\n",
      "(13.0, 1)\n",
      "\n",
      "-------------------------------------------\n",
      "Time: 2020-05-11 13:49:40\n",
      "-------------------------------------------\n",
      "\n",
      "-------------------------------------------\n",
      "Time: 2020-05-11 13:50:00\n",
      "-------------------------------------------\n",
      "\n",
      "-------------------------------------------\n",
      "Time: 2020-05-11 13:50:20\n",
      "-------------------------------------------\n",
      "\n",
      "-------------------------------------------\n",
      "Time: 2020-05-11 13:50:40\n",
      "-------------------------------------------\n",
      "\n",
      "-------------------------------------------\n",
      "Time: 2020-05-11 13:51:00\n",
      "-------------------------------------------\n",
      "\n",
      "-------------------------------------------\n",
      "Time: 2020-05-11 13:51:20\n",
      "-------------------------------------------\n",
      "\n",
      "-------------------------------------------\n",
      "Time: 2020-05-11 13:51:40\n",
      "-------------------------------------------\n",
      "\n",
      "-------------------------------------------\n",
      "Time: 2020-05-11 13:52:00\n",
      "-------------------------------------------\n",
      "\n",
      "-------------------------------------------\n",
      "Time: 2020-05-11 13:52:20\n",
      "-------------------------------------------\n",
      "\n",
      "-------------------------------------------\n",
      "Time: 2020-05-11 13:52:40\n",
      "-------------------------------------------\n",
      "\n",
      "-------------------------------------------\n",
      "Time: 2020-05-11 13:53:00\n",
      "-------------------------------------------\n",
      "\n",
      "-------------------------------------------\n",
      "Time: 2020-05-11 13:53:20\n",
      "-------------------------------------------"
     ]
    }
   ],
   "source": [
    "ssc.stop(stopSparkContext=False, stopGraceFully=True)"
   ]
  }
 ],
 "metadata": {
  "kernelspec": {
   "display_name": "PySpark",
   "language": "",
   "name": "pysparkkernel"
  },
  "language_info": {
   "codemirror_mode": {
    "name": "python",
    "version": 3
   },
   "mimetype": "text/x-python",
   "name": "pyspark",
   "pygments_lexer": "python3"
  }
 },
 "nbformat": 4,
 "nbformat_minor": 4
}
